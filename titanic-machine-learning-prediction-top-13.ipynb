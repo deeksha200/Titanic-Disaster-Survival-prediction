{
 "cells": [
  {
   "cell_type": "code",
   "execution_count": 1,
   "id": "saving-failing",
   "metadata": {
    "_cell_guid": "b1076dfc-b9ad-4769-8c92-a6c4dae69d19",
    "_uuid": "8f2839f25d086af736a60e9eeb907d3b93b6e0e5",
    "execution": {
     "iopub.execute_input": "2021-05-27T03:40:07.009834Z",
     "iopub.status.busy": "2021-05-27T03:40:07.008711Z",
     "iopub.status.idle": "2021-05-27T03:40:07.022966Z",
     "shell.execute_reply": "2021-05-27T03:40:07.023578Z",
     "shell.execute_reply.started": "2021-05-27T02:38:14.385588Z"
    },
    "papermill": {
     "duration": 0.121612,
     "end_time": "2021-05-27T03:40:07.023897",
     "exception": false,
     "start_time": "2021-05-27T03:40:06.902285",
     "status": "completed"
    },
    "tags": []
   },
   "outputs": [
    {
     "name": "stdout",
     "output_type": "stream",
     "text": [
      "/kaggle/input/titanic/train.csv\n",
      "/kaggle/input/titanic/test.csv\n",
      "/kaggle/input/titanic/gender_submission.csv\n"
     ]
    }
   ],
   "source": [
    "# This Python 3 environment comes with many helpful analytics libraries installed\n",
    "# It is defined by the kaggle/python Docker image: https://github.com/kaggle/docker-python\n",
    "# For example, here's several helpful packages to load\n",
    "\n",
    "import numpy as np # linear algebra\n",
    "import pandas as pd # data processing, CSV file I/O (e.g. pd.read_csv)\n",
    "\n",
    "# Input data files are available in the read-only \"../input/\" directory\n",
    "# For example, running this (by clicking run or pressing Shift+Enter) will list all files under the input directory\n",
    "\n",
    "import os\n",
    "for dirname, _, filenames in os.walk('/kaggle/input'):\n",
    "    for filename in filenames:\n",
    "        print(os.path.join(dirname, filename))\n",
    "\n",
    "# You can write up to 20GB to the current directory (/kaggle/working/) that gets preserved as output when you create a version using \"Save & Run All\" \n",
    "# You can also write temporary files to /kaggle/temp/, but they won't be saved outside of the current session"
   ]
  },
  {
   "cell_type": "markdown",
   "id": "agreed-usage",
   "metadata": {
    "execution": {
     "iopub.execute_input": "2021-05-24T09:45:19.226174Z",
     "iopub.status.busy": "2021-05-24T09:45:19.225827Z",
     "iopub.status.idle": "2021-05-24T09:45:19.231717Z",
     "shell.execute_reply": "2021-05-24T09:45:19.230411Z",
     "shell.execute_reply.started": "2021-05-24T09:45:19.226143Z"
    },
    "papermill": {
     "duration": 0.098636,
     "end_time": "2021-05-27T03:40:07.223189",
     "exception": false,
     "start_time": "2021-05-27T03:40:07.124553",
     "status": "completed"
    },
    "tags": []
   },
   "source": [
    "<p style = \"font-size : 50px; color : blue ; font-family : 'Comic Sans MS'; text-align : center; background-color : yellow; border-radius: 5px 5px;\"><strong>Titanic EDA and Prediction</strong></p>"
   ]
  },
  {
   "cell_type": "markdown",
   "id": "instructional-jaguar",
   "metadata": {
    "papermill": {
     "duration": 0.099795,
     "end_time": "2021-05-27T03:40:07.421337",
     "exception": false,
     "start_time": "2021-05-27T03:40:07.321542",
     "status": "completed"
    },
    "tags": []
   },
   "source": [
    "<p style = \"font-size : 25px; color : #34656d ; font-family : 'Comic Sans MS'; text-align : center; background-color : lightgreen; border-radius: 5px 5px;\"><strong>Importing all necessary libraries</strong></p> "
   ]
  },
  {
   "cell_type": "code",
   "execution_count": 2,
   "id": "engaging-killer",
   "metadata": {
    "execution": {
     "iopub.execute_input": "2021-05-27T03:40:07.621045Z",
     "iopub.status.busy": "2021-05-27T03:40:07.620414Z",
     "iopub.status.idle": "2021-05-27T03:40:09.916464Z",
     "shell.execute_reply": "2021-05-27T03:40:09.917305Z",
     "shell.execute_reply.started": "2021-05-27T02:38:14.422103Z"
    },
    "papermill": {
     "duration": 2.397127,
     "end_time": "2021-05-27T03:40:09.917494",
     "exception": false,
     "start_time": "2021-05-27T03:40:07.520367",
     "status": "completed"
    },
    "tags": []
   },
   "outputs": [
    {
     "data": {
      "text/html": [
       "<style type='text/css'>\n",
       ".datatable table.frame { margin-bottom: 0; }\n",
       ".datatable table.frame thead { border-bottom: none; }\n",
       ".datatable table.frame tr.coltypes td {  color: #FFFFFF;  line-height: 6px;  padding: 0 0.5em;}\n",
       ".datatable .bool    { background: #DDDD99; }\n",
       ".datatable .object  { background: #565656; }\n",
       ".datatable .int     { background: #5D9E5D; }\n",
       ".datatable .float   { background: #4040CC; }\n",
       ".datatable .str     { background: #CC4040; }\n",
       ".datatable .row_index {  background: var(--jp-border-color3);  border-right: 1px solid var(--jp-border-color0);  color: var(--jp-ui-font-color3);  font-size: 9px;}\n",
       ".datatable .frame tr.coltypes .row_index {  background: var(--jp-border-color0);}\n",
       ".datatable th:nth-child(2) { padding-left: 12px; }\n",
       ".datatable .hellipsis {  color: var(--jp-cell-editor-border-color);}\n",
       ".datatable .vellipsis {  background: var(--jp-layout-color0);  color: var(--jp-cell-editor-border-color);}\n",
       ".datatable .na {  color: var(--jp-cell-editor-border-color);  font-size: 80%;}\n",
       ".datatable .footer { font-size: 9px; }\n",
       ".datatable .frame_dimensions {  background: var(--jp-border-color3);  border-top: 1px solid var(--jp-border-color0);  color: var(--jp-ui-font-color3);  display: inline-block;  opacity: 0.6;  padding: 1px 10px 1px 5px;}\n",
       "</style>\n"
      ],
      "text/plain": [
       "<IPython.core.display.HTML object>"
      ]
     },
     "metadata": {},
     "output_type": "display_data"
    },
    {
     "name": "stdout",
     "output_type": "stream",
     "text": [
      "all necessary libraries are imported\n"
     ]
    }
   ],
   "source": [
    "import pandas as pd\n",
    "import numpy as np\n",
    "import xgboost as xgb\n",
    "from scipy import stats\n",
    "from sklearn.model_selection import cross_val_score\n",
    "from sklearn.ensemble import RandomForestClassifier\n",
    "from sklearn.svm import SVC, LinearSVC\n",
    "from sklearn.tree import DecisionTreeClassifier\n",
    "from sklearn.neighbors import KNeighborsClassifier\n",
    "from sklearn.naive_bayes import GaussianNB\n",
    "from sklearn.linear_model import Perceptron\n",
    "from sklearn.linear_model import SGDClassifier\n",
    "from sklearn.svm import SVR\n",
    "from lightgbm import LGBMRegressor\n",
    "from xgboost import XGBRegressor\n",
    "from mlxtend.regressor import StackingRegressor\n",
    "from sklearn.preprocessing import StandardScaler\n",
    "from sklearn.preprocessing import MinMaxScaler\n",
    "from sklearn.model_selection import GridSearchCV\n",
    "from sklearn.preprocessing import RobustScaler\n",
    "import matplotlib.pyplot as plt\n",
    "%matplotlib inline\n",
    "import seaborn as sns\n",
    "from sklearn.model_selection import train_test_split\n",
    "from sklearn.linear_model import LogisticRegression\n",
    "from sklearn.linear_model import Lasso, Ridge\n",
    "from sklearn.metrics import mean_absolute_error\n",
    "from sklearn.metrics import accuracy_score\n",
    "pd.pandas.set_option(\"display.max_columns\",None)\n",
    "print(\"all necessary libraries are imported\")"
   ]
  },
  {
   "cell_type": "code",
   "execution_count": 3,
   "id": "enabling-homework",
   "metadata": {
    "execution": {
     "iopub.execute_input": "2021-05-27T03:40:10.124696Z",
     "iopub.status.busy": "2021-05-27T03:40:10.124027Z",
     "iopub.status.idle": "2021-05-27T03:40:10.159768Z",
     "shell.execute_reply": "2021-05-27T03:40:10.160268Z",
     "shell.execute_reply.started": "2021-05-27T02:38:17.047898Z"
    },
    "papermill": {
     "duration": 0.140476,
     "end_time": "2021-05-27T03:40:10.160432",
     "exception": false,
     "start_time": "2021-05-27T03:40:10.019956",
     "status": "completed"
    },
    "tags": []
   },
   "outputs": [
    {
     "data": {
      "text/html": [
       "<div>\n",
       "<style scoped>\n",
       "    .dataframe tbody tr th:only-of-type {\n",
       "        vertical-align: middle;\n",
       "    }\n",
       "\n",
       "    .dataframe tbody tr th {\n",
       "        vertical-align: top;\n",
       "    }\n",
       "\n",
       "    .dataframe thead th {\n",
       "        text-align: right;\n",
       "    }\n",
       "</style>\n",
       "<table border=\"1\" class=\"dataframe\">\n",
       "  <thead>\n",
       "    <tr style=\"text-align: right;\">\n",
       "      <th></th>\n",
       "      <th>PassengerId</th>\n",
       "      <th>Survived</th>\n",
       "      <th>Pclass</th>\n",
       "      <th>Name</th>\n",
       "      <th>Sex</th>\n",
       "      <th>Age</th>\n",
       "      <th>SibSp</th>\n",
       "      <th>Parch</th>\n",
       "      <th>Ticket</th>\n",
       "      <th>Fare</th>\n",
       "      <th>Cabin</th>\n",
       "      <th>Embarked</th>\n",
       "    </tr>\n",
       "  </thead>\n",
       "  <tbody>\n",
       "    <tr>\n",
       "      <th>0</th>\n",
       "      <td>1</td>\n",
       "      <td>0</td>\n",
       "      <td>3</td>\n",
       "      <td>Braund, Mr. Owen Harris</td>\n",
       "      <td>male</td>\n",
       "      <td>22.0</td>\n",
       "      <td>1</td>\n",
       "      <td>0</td>\n",
       "      <td>A/5 21171</td>\n",
       "      <td>7.2500</td>\n",
       "      <td>NaN</td>\n",
       "      <td>S</td>\n",
       "    </tr>\n",
       "    <tr>\n",
       "      <th>1</th>\n",
       "      <td>2</td>\n",
       "      <td>1</td>\n",
       "      <td>1</td>\n",
       "      <td>Cumings, Mrs. John Bradley (Florence Briggs Th...</td>\n",
       "      <td>female</td>\n",
       "      <td>38.0</td>\n",
       "      <td>1</td>\n",
       "      <td>0</td>\n",
       "      <td>PC 17599</td>\n",
       "      <td>71.2833</td>\n",
       "      <td>C85</td>\n",
       "      <td>C</td>\n",
       "    </tr>\n",
       "    <tr>\n",
       "      <th>2</th>\n",
       "      <td>3</td>\n",
       "      <td>1</td>\n",
       "      <td>3</td>\n",
       "      <td>Heikkinen, Miss. Laina</td>\n",
       "      <td>female</td>\n",
       "      <td>26.0</td>\n",
       "      <td>0</td>\n",
       "      <td>0</td>\n",
       "      <td>STON/O2. 3101282</td>\n",
       "      <td>7.9250</td>\n",
       "      <td>NaN</td>\n",
       "      <td>S</td>\n",
       "    </tr>\n",
       "    <tr>\n",
       "      <th>3</th>\n",
       "      <td>4</td>\n",
       "      <td>1</td>\n",
       "      <td>1</td>\n",
       "      <td>Futrelle, Mrs. Jacques Heath (Lily May Peel)</td>\n",
       "      <td>female</td>\n",
       "      <td>35.0</td>\n",
       "      <td>1</td>\n",
       "      <td>0</td>\n",
       "      <td>113803</td>\n",
       "      <td>53.1000</td>\n",
       "      <td>C123</td>\n",
       "      <td>S</td>\n",
       "    </tr>\n",
       "    <tr>\n",
       "      <th>4</th>\n",
       "      <td>5</td>\n",
       "      <td>0</td>\n",
       "      <td>3</td>\n",
       "      <td>Allen, Mr. William Henry</td>\n",
       "      <td>male</td>\n",
       "      <td>35.0</td>\n",
       "      <td>0</td>\n",
       "      <td>0</td>\n",
       "      <td>373450</td>\n",
       "      <td>8.0500</td>\n",
       "      <td>NaN</td>\n",
       "      <td>S</td>\n",
       "    </tr>\n",
       "  </tbody>\n",
       "</table>\n",
       "</div>"
      ],
      "text/plain": [
       "   PassengerId  Survived  Pclass  \\\n",
       "0            1         0       3   \n",
       "1            2         1       1   \n",
       "2            3         1       3   \n",
       "3            4         1       1   \n",
       "4            5         0       3   \n",
       "\n",
       "                                                Name     Sex   Age  SibSp  \\\n",
       "0                            Braund, Mr. Owen Harris    male  22.0      1   \n",
       "1  Cumings, Mrs. John Bradley (Florence Briggs Th...  female  38.0      1   \n",
       "2                             Heikkinen, Miss. Laina  female  26.0      0   \n",
       "3       Futrelle, Mrs. Jacques Heath (Lily May Peel)  female  35.0      1   \n",
       "4                           Allen, Mr. William Henry    male  35.0      0   \n",
       "\n",
       "   Parch            Ticket     Fare Cabin Embarked  \n",
       "0      0         A/5 21171   7.2500   NaN        S  \n",
       "1      0          PC 17599  71.2833   C85        C  \n",
       "2      0  STON/O2. 3101282   7.9250   NaN        S  \n",
       "3      0            113803  53.1000  C123        S  \n",
       "4      0            373450   8.0500   NaN        S  "
      ]
     },
     "execution_count": 3,
     "metadata": {},
     "output_type": "execute_result"
    }
   ],
   "source": [
    "train=pd.read_csv(\"../input/titanic/train.csv\")\n",
    "train.head()"
   ]
  },
  {
   "cell_type": "code",
   "execution_count": 4,
   "id": "removed-opera",
   "metadata": {
    "execution": {
     "iopub.execute_input": "2021-05-27T03:40:10.363942Z",
     "iopub.status.busy": "2021-05-27T03:40:10.363305Z",
     "iopub.status.idle": "2021-05-27T03:40:10.385394Z",
     "shell.execute_reply": "2021-05-27T03:40:10.385863Z",
     "shell.execute_reply.started": "2021-05-27T02:38:17.095237Z"
    },
    "papermill": {
     "duration": 0.125499,
     "end_time": "2021-05-27T03:40:10.386038",
     "exception": false,
     "start_time": "2021-05-27T03:40:10.260539",
     "status": "completed"
    },
    "tags": []
   },
   "outputs": [
    {
     "data": {
      "text/html": [
       "<div>\n",
       "<style scoped>\n",
       "    .dataframe tbody tr th:only-of-type {\n",
       "        vertical-align: middle;\n",
       "    }\n",
       "\n",
       "    .dataframe tbody tr th {\n",
       "        vertical-align: top;\n",
       "    }\n",
       "\n",
       "    .dataframe thead th {\n",
       "        text-align: right;\n",
       "    }\n",
       "</style>\n",
       "<table border=\"1\" class=\"dataframe\">\n",
       "  <thead>\n",
       "    <tr style=\"text-align: right;\">\n",
       "      <th></th>\n",
       "      <th>PassengerId</th>\n",
       "      <th>Pclass</th>\n",
       "      <th>Name</th>\n",
       "      <th>Sex</th>\n",
       "      <th>Age</th>\n",
       "      <th>SibSp</th>\n",
       "      <th>Parch</th>\n",
       "      <th>Ticket</th>\n",
       "      <th>Fare</th>\n",
       "      <th>Cabin</th>\n",
       "      <th>Embarked</th>\n",
       "    </tr>\n",
       "  </thead>\n",
       "  <tbody>\n",
       "    <tr>\n",
       "      <th>0</th>\n",
       "      <td>892</td>\n",
       "      <td>3</td>\n",
       "      <td>Kelly, Mr. James</td>\n",
       "      <td>male</td>\n",
       "      <td>34.5</td>\n",
       "      <td>0</td>\n",
       "      <td>0</td>\n",
       "      <td>330911</td>\n",
       "      <td>7.8292</td>\n",
       "      <td>NaN</td>\n",
       "      <td>Q</td>\n",
       "    </tr>\n",
       "    <tr>\n",
       "      <th>1</th>\n",
       "      <td>893</td>\n",
       "      <td>3</td>\n",
       "      <td>Wilkes, Mrs. James (Ellen Needs)</td>\n",
       "      <td>female</td>\n",
       "      <td>47.0</td>\n",
       "      <td>1</td>\n",
       "      <td>0</td>\n",
       "      <td>363272</td>\n",
       "      <td>7.0000</td>\n",
       "      <td>NaN</td>\n",
       "      <td>S</td>\n",
       "    </tr>\n",
       "    <tr>\n",
       "      <th>2</th>\n",
       "      <td>894</td>\n",
       "      <td>2</td>\n",
       "      <td>Myles, Mr. Thomas Francis</td>\n",
       "      <td>male</td>\n",
       "      <td>62.0</td>\n",
       "      <td>0</td>\n",
       "      <td>0</td>\n",
       "      <td>240276</td>\n",
       "      <td>9.6875</td>\n",
       "      <td>NaN</td>\n",
       "      <td>Q</td>\n",
       "    </tr>\n",
       "    <tr>\n",
       "      <th>3</th>\n",
       "      <td>895</td>\n",
       "      <td>3</td>\n",
       "      <td>Wirz, Mr. Albert</td>\n",
       "      <td>male</td>\n",
       "      <td>27.0</td>\n",
       "      <td>0</td>\n",
       "      <td>0</td>\n",
       "      <td>315154</td>\n",
       "      <td>8.6625</td>\n",
       "      <td>NaN</td>\n",
       "      <td>S</td>\n",
       "    </tr>\n",
       "    <tr>\n",
       "      <th>4</th>\n",
       "      <td>896</td>\n",
       "      <td>3</td>\n",
       "      <td>Hirvonen, Mrs. Alexander (Helga E Lindqvist)</td>\n",
       "      <td>female</td>\n",
       "      <td>22.0</td>\n",
       "      <td>1</td>\n",
       "      <td>1</td>\n",
       "      <td>3101298</td>\n",
       "      <td>12.2875</td>\n",
       "      <td>NaN</td>\n",
       "      <td>S</td>\n",
       "    </tr>\n",
       "  </tbody>\n",
       "</table>\n",
       "</div>"
      ],
      "text/plain": [
       "   PassengerId  Pclass                                          Name     Sex  \\\n",
       "0          892       3                              Kelly, Mr. James    male   \n",
       "1          893       3              Wilkes, Mrs. James (Ellen Needs)  female   \n",
       "2          894       2                     Myles, Mr. Thomas Francis    male   \n",
       "3          895       3                              Wirz, Mr. Albert    male   \n",
       "4          896       3  Hirvonen, Mrs. Alexander (Helga E Lindqvist)  female   \n",
       "\n",
       "    Age  SibSp  Parch   Ticket     Fare Cabin Embarked  \n",
       "0  34.5      0      0   330911   7.8292   NaN        Q  \n",
       "1  47.0      1      0   363272   7.0000   NaN        S  \n",
       "2  62.0      0      0   240276   9.6875   NaN        Q  \n",
       "3  27.0      0      0   315154   8.6625   NaN        S  \n",
       "4  22.0      1      1  3101298  12.2875   NaN        S  "
      ]
     },
     "execution_count": 4,
     "metadata": {},
     "output_type": "execute_result"
    }
   ],
   "source": [
    "test=pd.read_csv(\"../input/titanic/test.csv\")\n",
    "test.head()"
   ]
  },
  {
   "cell_type": "code",
   "execution_count": 5,
   "id": "realistic-darkness",
   "metadata": {
    "execution": {
     "iopub.execute_input": "2021-05-27T03:40:10.592027Z",
     "iopub.status.busy": "2021-05-27T03:40:10.591419Z",
     "iopub.status.idle": "2021-05-27T03:40:10.596870Z",
     "shell.execute_reply": "2021-05-27T03:40:10.596365Z",
     "shell.execute_reply.started": "2021-05-27T02:38:17.123920Z"
    },
    "papermill": {
     "duration": 0.109099,
     "end_time": "2021-05-27T03:40:10.597020",
     "exception": false,
     "start_time": "2021-05-27T03:40:10.487921",
     "status": "completed"
    },
    "tags": []
   },
   "outputs": [
    {
     "data": {
      "text/plain": [
       "((891, 12), (418, 11))"
      ]
     },
     "execution_count": 5,
     "metadata": {},
     "output_type": "execute_result"
    }
   ],
   "source": [
    "train.shape,test.shape"
   ]
  },
  {
   "cell_type": "code",
   "execution_count": 6,
   "id": "incorporate-resident",
   "metadata": {
    "execution": {
     "iopub.execute_input": "2021-05-27T03:40:10.807997Z",
     "iopub.status.busy": "2021-05-27T03:40:10.807183Z",
     "iopub.status.idle": "2021-05-27T03:40:10.811178Z",
     "shell.execute_reply": "2021-05-27T03:40:10.810667Z",
     "shell.execute_reply.started": "2021-05-27T02:38:17.132990Z"
    },
    "papermill": {
     "duration": 0.112582,
     "end_time": "2021-05-27T03:40:10.811315",
     "exception": false,
     "start_time": "2021-05-27T03:40:10.698733",
     "status": "completed"
    },
    "tags": []
   },
   "outputs": [
    {
     "data": {
      "text/plain": [
       "['Name', 'Sex', 'Ticket', 'Cabin', 'Embarked']"
      ]
     },
     "execution_count": 6,
     "metadata": {},
     "output_type": "execute_result"
    }
   ],
   "source": [
    "train_cat=list(train.select_dtypes(include='object'))\n",
    "train_cat\n"
   ]
  },
  {
   "cell_type": "code",
   "execution_count": 7,
   "id": "extended-clerk",
   "metadata": {
    "execution": {
     "iopub.execute_input": "2021-05-27T03:40:11.023855Z",
     "iopub.status.busy": "2021-05-27T03:40:11.023211Z",
     "iopub.status.idle": "2021-05-27T03:40:11.026435Z",
     "shell.execute_reply": "2021-05-27T03:40:11.025891Z",
     "shell.execute_reply.started": "2021-05-27T02:38:17.148181Z"
    },
    "papermill": {
     "duration": 0.111661,
     "end_time": "2021-05-27T03:40:11.026572",
     "exception": false,
     "start_time": "2021-05-27T03:40:10.914911",
     "status": "completed"
    },
    "tags": []
   },
   "outputs": [
    {
     "data": {
      "text/plain": [
       "['PassengerId', 'Survived', 'Pclass', 'Age', 'SibSp', 'Parch', 'Fare']"
      ]
     },
     "execution_count": 7,
     "metadata": {},
     "output_type": "execute_result"
    }
   ],
   "source": [
    "train_num=list(train.select_dtypes(exclude='object'))\n",
    "train_num"
   ]
  },
  {
   "cell_type": "markdown",
   "id": "residential-volleyball",
   "metadata": {
    "papermill": {
     "duration": 0.099979,
     "end_time": "2021-05-27T03:40:11.229387",
     "exception": false,
     "start_time": "2021-05-27T03:40:11.129408",
     "status": "completed"
    },
    "tags": []
   },
   "source": [
    "<p style = \"font-size : 35px; color : #34656d ; font-family : 'Comic Sans MS'; text-align : center; background-color : lightblue; border-radius: 5px 5px;\"><strong>Univariate Analysis</strong></p> "
   ]
  },
  {
   "cell_type": "markdown",
   "id": "decreased-meter",
   "metadata": {
    "papermill": {
     "duration": 0.101817,
     "end_time": "2021-05-27T03:40:11.431843",
     "exception": false,
     "start_time": "2021-05-27T03:40:11.330026",
     "status": "completed"
    },
    "tags": []
   },
   "source": [
    "<p style = \"font-size : 20px; color : #34656d ; font-family : 'Comic Sans MS'; text-align : center; background-color : orange; border-radius: 5px 5px;\"><strong>Target Feature</strong></p> "
   ]
  },
  {
   "cell_type": "code",
   "execution_count": 8,
   "id": "smart-alberta",
   "metadata": {
    "execution": {
     "iopub.execute_input": "2021-05-27T03:40:11.646957Z",
     "iopub.status.busy": "2021-05-27T03:40:11.646298Z",
     "iopub.status.idle": "2021-05-27T03:40:11.801547Z",
     "shell.execute_reply": "2021-05-27T03:40:11.802063Z",
     "shell.execute_reply.started": "2021-05-27T02:38:17.162897Z"
    },
    "papermill": {
     "duration": 0.266807,
     "end_time": "2021-05-27T03:40:11.802236",
     "exception": false,
     "start_time": "2021-05-27T03:40:11.535429",
     "status": "completed"
    },
    "tags": []
   },
   "outputs": [
    {
     "data": {
      "text/plain": [
       "<AxesSubplot:>"
      ]
     },
     "execution_count": 8,
     "metadata": {},
     "output_type": "execute_result"
    },
    {
     "data": {
      "image/png": "[encoded data removed]",
      "text/plain": [
       "<Figure size 432x288 with 1 Axes>"
      ]
     },
     "metadata": {
      "needs_background": "light"
     },
     "output_type": "display_data"
    }
   ],
   "source": [
    "train['Survived'].value_counts().plot.bar(color=['r','g'])"
   ]
  },
  {
   "cell_type": "markdown",
   "id": "waiting-character",
   "metadata": {
    "papermill": {
     "duration": 0.101768,
     "end_time": "2021-05-27T03:40:12.006978",
     "exception": false,
     "start_time": "2021-05-27T03:40:11.905210",
     "status": "completed"
    },
    "tags": []
   },
   "source": [
    "it says that most of the people have dead"
   ]
  },
  {
   "cell_type": "markdown",
   "id": "impressive-extension",
   "metadata": {
    "papermill": {
     "duration": 0.103815,
     "end_time": "2021-05-27T03:40:12.214727",
     "exception": false,
     "start_time": "2021-05-27T03:40:12.110912",
     "status": "completed"
    },
    "tags": []
   },
   "source": [
    "<p style = \"font-size : 20px; color : #34656d ; font-family : 'Comic Sans MS'; text-align : center; background-color : orange; border-radius: 5px 5px;\"><strong>Categorical Feature</strong></p> "
   ]
  },
  {
   "cell_type": "code",
   "execution_count": 9,
   "id": "breeding-topic",
   "metadata": {
    "execution": {
     "iopub.execute_input": "2021-05-27T03:40:12.446194Z",
     "iopub.status.busy": "2021-05-27T03:40:12.445543Z",
     "iopub.status.idle": "2021-05-27T03:40:12.656636Z",
     "shell.execute_reply": "2021-05-27T03:40:12.657185Z",
     "shell.execute_reply.started": "2021-05-27T02:38:17.342953Z"
    },
    "papermill": {
     "duration": 0.338662,
     "end_time": "2021-05-27T03:40:12.657350",
     "exception": false,
     "start_time": "2021-05-27T03:40:12.318688",
     "status": "completed"
    },
    "tags": []
   },
   "outputs": [
    {
     "data": {
      "text/plain": [
       "<AxesSubplot:>"
      ]
     },
     "execution_count": 9,
     "metadata": {},
     "output_type": "execute_result"
    },
    {
     "data": {
      "image/png": "[encoded data removed]",
      "text/plain": [
       "<Figure size 720x720 with 2 Axes>"
      ]
     },
     "metadata": {
      "needs_background": "light"
     },
     "output_type": "display_data"
    }
   ],
   "source": [
    "plt.figure(1)\n",
    "plt.subplot(221)\n",
    "train['Sex'].value_counts(normalize=True).plot.bar(figsize=(10,10),color=['b','r'])\n",
    "plt.subplot(223)\n",
    "train['Embarked'].value_counts(normalize=True).plot.bar(figsize=(10,10),color=['y','g','r'])"
   ]
  },
  {
   "cell_type": "markdown",
   "id": "respective-turning",
   "metadata": {
    "papermill": {
     "duration": 0.104197,
     "end_time": "2021-05-27T03:40:12.867385",
     "exception": false,
     "start_time": "2021-05-27T03:40:12.763188",
     "status": "completed"
    },
    "tags": []
   },
   "source": [
    "* > Around 80% of the passangers are male\n",
    "* > Around 75% of passangers have embarked as S"
   ]
  },
  {
   "cell_type": "markdown",
   "id": "greater-richards",
   "metadata": {
    "papermill": {
     "duration": 0.103446,
     "end_time": "2021-05-27T03:40:13.075878",
     "exception": false,
     "start_time": "2021-05-27T03:40:12.972432",
     "status": "completed"
    },
    "tags": []
   },
   "source": [
    "<p style = \"font-size : 20px; color : #34656d ; font-family : 'Comic Sans MS'; text-align : center; background-color : orange; border-radius: 5px 5px;\"><strong>Numerical Feature</strong></p> "
   ]
  },
  {
   "cell_type": "code",
   "execution_count": 10,
   "id": "bibliographic-animal",
   "metadata": {
    "execution": {
     "iopub.execute_input": "2021-05-27T03:40:13.287297Z",
     "iopub.status.busy": "2021-05-27T03:40:13.286675Z",
     "iopub.status.idle": "2021-05-27T03:40:13.518860Z",
     "shell.execute_reply": "2021-05-27T03:40:13.519365Z",
     "shell.execute_reply.started": "2021-05-27T02:38:17.583898Z"
    },
    "papermill": {
     "duration": 0.338398,
     "end_time": "2021-05-27T03:40:13.519530",
     "exception": false,
     "start_time": "2021-05-27T03:40:13.181132",
     "status": "completed"
    },
    "tags": []
   },
   "outputs": [
    {
     "data": {
      "text/plain": [
       "<AxesSubplot:>"
      ]
     },
     "execution_count": 10,
     "metadata": {},
     "output_type": "execute_result"
    },
    {
     "data": {
      "image/png": "[encoded data removed]",
      "text/plain": [
       "<Figure size 720x720 with 2 Axes>"
      ]
     },
     "metadata": {
      "needs_background": "light"
     },
     "output_type": "display_data"
    }
   ],
   "source": [
    "plt.figure(1)\n",
    "plt.subplot(221)\n",
    "train['Pclass'].value_counts(normalize=True).plot.bar(figsize=(10,10),title=\"Pclass\")\n",
    "plt.subplot(223)\n",
    "train['Pclass'].plot.box(figsize=(10,10))"
   ]
  },
  {
   "cell_type": "code",
   "execution_count": 11,
   "id": "brutal-preserve",
   "metadata": {
    "execution": {
     "iopub.execute_input": "2021-05-27T03:40:13.731430Z",
     "iopub.status.busy": "2021-05-27T03:40:13.730793Z",
     "iopub.status.idle": "2021-05-27T03:40:13.990907Z",
     "shell.execute_reply": "2021-05-27T03:40:13.991368Z",
     "shell.execute_reply.started": "2021-05-27T02:38:17.834949Z"
    },
    "papermill": {
     "duration": 0.367751,
     "end_time": "2021-05-27T03:40:13.991592",
     "exception": false,
     "start_time": "2021-05-27T03:40:13.623841",
     "status": "completed"
    },
    "tags": []
   },
   "outputs": [
    {
     "data": {
      "text/plain": [
       "<AxesSubplot:>"
      ]
     },
     "execution_count": 11,
     "metadata": {},
     "output_type": "execute_result"
    },
    {
     "data": {
      "image/png": "[encoded data removed]",
      "text/plain": [
       "<Figure size 720x720 with 2 Axes>"
      ]
     },
     "metadata": {
      "needs_background": "light"
     },
     "output_type": "display_data"
    }
   ],
   "source": [
    "plt.figure(1)\n",
    "plt.subplot(221)\n",
    "train['SibSp'].value_counts(normalize=True).plot.bar(figsize=(10,10),title=\"SibSp\")\n",
    "plt.subplot(223)\n",
    "train['SibSp'].plot.box(figsize=(10,10))"
   ]
  },
  {
   "cell_type": "code",
   "execution_count": 12,
   "id": "regulation-cameroon",
   "metadata": {
    "execution": {
     "iopub.execute_input": "2021-05-27T03:40:14.239020Z",
     "iopub.status.busy": "2021-05-27T03:40:14.237172Z",
     "iopub.status.idle": "2021-05-27T03:40:14.463857Z",
     "shell.execute_reply": "2021-05-27T03:40:14.463212Z",
     "shell.execute_reply.started": "2021-05-27T02:38:18.108893Z"
    },
    "papermill": {
     "duration": 0.366005,
     "end_time": "2021-05-27T03:40:14.463995",
     "exception": false,
     "start_time": "2021-05-27T03:40:14.097990",
     "status": "completed"
    },
    "tags": []
   },
   "outputs": [
    {
     "data": {
      "text/plain": [
       "<AxesSubplot:>"
      ]
     },
     "execution_count": 12,
     "metadata": {},
     "output_type": "execute_result"
    },
    {
     "data": {
      "image/png": "[encoded data removed]",
      "text/plain": [
       "<Figure size 720x720 with 2 Axes>"
      ]
     },
     "metadata": {
      "needs_background": "light"
     },
     "output_type": "display_data"
    }
   ],
   "source": [
    "plt.figure(1)\n",
    "plt.subplot(221)\n",
    "train['Parch'].value_counts(normalize=True).plot.bar(figsize=(10,10),title=\"Parch\")\n",
    "plt.subplot(223)\n",
    "train['Parch'].plot.box(figsize=(10,10))"
   ]
  },
  {
   "cell_type": "markdown",
   "id": "mexican-income",
   "metadata": {
    "papermill": {
     "duration": 0.106891,
     "end_time": "2021-05-27T03:40:14.679941",
     "exception": false,
     "start_time": "2021-05-27T03:40:14.573050",
     "status": "completed"
    },
    "tags": []
   },
   "source": [
    "<p style = \"font-size : 35px; color : #34656d ; font-family : 'Comic Sans MS'; text-align : center; background-color : lightblue; border-radius: 5px 5px;\"><strong>Bivariate Analysis</strong></p> "
   ]
  },
  {
   "cell_type": "markdown",
   "id": "express-filename",
   "metadata": {
    "papermill": {
     "duration": 0.105694,
     "end_time": "2021-05-27T03:40:14.892192",
     "exception": false,
     "start_time": "2021-05-27T03:40:14.786498",
     "status": "completed"
    },
    "tags": []
   },
   "source": [
    "<p style = \"font-size : 20px; color : #34656d ; font-family : 'Comic Sans MS'; text-align : center; background-color : orange; border-radius: 5px 5px;\"><strong>Categorical vs Target Feature</strong></p> "
   ]
  },
  {
   "cell_type": "code",
   "execution_count": 13,
   "id": "communist-mediterranean",
   "metadata": {
    "execution": {
     "iopub.execute_input": "2021-05-27T03:40:15.110667Z",
     "iopub.status.busy": "2021-05-27T03:40:15.110020Z",
     "iopub.status.idle": "2021-05-27T03:40:15.113345Z",
     "shell.execute_reply": "2021-05-27T03:40:15.112677Z",
     "shell.execute_reply.started": "2021-05-27T02:38:18.380379Z"
    },
    "papermill": {
     "duration": 0.115021,
     "end_time": "2021-05-27T03:40:15.113479",
     "exception": false,
     "start_time": "2021-05-27T03:40:14.998458",
     "status": "completed"
    },
    "tags": []
   },
   "outputs": [
    {
     "data": {
      "text/plain": [
       "['Name', 'Sex', 'Ticket', 'Cabin', 'Embarked']"
      ]
     },
     "execution_count": 13,
     "metadata": {},
     "output_type": "execute_result"
    }
   ],
   "source": [
    "train_cat"
   ]
  },
  {
   "cell_type": "code",
   "execution_count": 14,
   "id": "obvious-organ",
   "metadata": {
    "execution": {
     "iopub.execute_input": "2021-05-27T03:40:15.387523Z",
     "iopub.status.busy": "2021-05-27T03:40:15.385187Z",
     "iopub.status.idle": "2021-05-27T03:40:15.548310Z",
     "shell.execute_reply": "2021-05-27T03:40:15.547656Z",
     "shell.execute_reply.started": "2021-05-27T02:38:18.388994Z"
    },
    "papermill": {
     "duration": 0.326206,
     "end_time": "2021-05-27T03:40:15.548446",
     "exception": false,
     "start_time": "2021-05-27T03:40:15.222240",
     "status": "completed"
    },
    "tags": []
   },
   "outputs": [
    {
     "data": {
      "text/plain": [
       "<AxesSubplot:xlabel='Sex'>"
      ]
     },
     "execution_count": 14,
     "metadata": {},
     "output_type": "execute_result"
    },
    {
     "data": {
      "image/png": "[encoded data removed]",
      "text/plain": [
       "<Figure size 288x288 with 1 Axes>"
      ]
     },
     "metadata": {
      "needs_background": "light"
     },
     "output_type": "display_data"
    }
   ],
   "source": [
    "sex=pd.crosstab(train['Sex'],train['Survived'])\n",
    "sex.div(sex.sum(1).astype(float),axis=0).plot(kind='bar',stacked=True,figsize=(4,4))"
   ]
  },
  {
   "cell_type": "markdown",
   "id": "floating-beverage",
   "metadata": {
    "papermill": {
     "duration": 0.107147,
     "end_time": "2021-05-27T03:40:15.763155",
     "exception": false,
     "start_time": "2021-05-27T03:40:15.656008",
     "status": "completed"
    },
    "tags": []
   },
   "source": [
    "> More males have dead comapre to females\n",
    "as if 1 shows alive and 0 shows death"
   ]
  },
  {
   "cell_type": "code",
   "execution_count": 15,
   "id": "german-tribute",
   "metadata": {
    "execution": {
     "iopub.execute_input": "2021-05-27T03:40:15.989585Z",
     "iopub.status.busy": "2021-05-27T03:40:15.988922Z",
     "iopub.status.idle": "2021-05-27T03:40:16.146223Z",
     "shell.execute_reply": "2021-05-27T03:40:16.145598Z",
     "shell.execute_reply.started": "2021-05-27T02:38:18.571669Z"
    },
    "papermill": {
     "duration": 0.273916,
     "end_time": "2021-05-27T03:40:16.146359",
     "exception": false,
     "start_time": "2021-05-27T03:40:15.872443",
     "status": "completed"
    },
    "tags": []
   },
   "outputs": [
    {
     "data": {
      "text/plain": [
       "<AxesSubplot:xlabel='Embarked'>"
      ]
     },
     "execution_count": 15,
     "metadata": {},
     "output_type": "execute_result"
    },
    {
     "data": {
      "image/png": "[encoded data removed]",
      "text/plain": [
       "<Figure size 288x288 with 1 Axes>"
      ]
     },
     "metadata": {
      "needs_background": "light"
     },
     "output_type": "display_data"
    }
   ],
   "source": [
    "embarked=pd.crosstab(train['Embarked'],train['Survived'])\n",
    "embarked.div(embarked.sum(1).astype(float),axis=0).plot(kind='bar',stacked=True,figsize=(4,4))"
   ]
  },
  {
   "cell_type": "markdown",
   "id": "arabic-attachment",
   "metadata": {
    "papermill": {
     "duration": 0.109203,
     "end_time": "2021-05-27T03:40:16.366337",
     "exception": false,
     "start_time": "2021-05-27T03:40:16.257134",
     "status": "completed"
    },
    "tags": []
   },
   "source": [
    "> The survival rate of embarked 'C' is greater than the rest two and the lowest survival rate is associated with embarked 'S'"
   ]
  },
  {
   "cell_type": "markdown",
   "id": "turkish-scheme",
   "metadata": {
    "papermill": {
     "duration": 0.109323,
     "end_time": "2021-05-27T03:40:16.594933",
     "exception": false,
     "start_time": "2021-05-27T03:40:16.485610",
     "status": "completed"
    },
    "tags": []
   },
   "source": [
    "<p style = \"font-size : 20px; color : #34656d ; font-family : 'Comic Sans MS'; text-align : center; background-color : orange; border-radius: 5px 5px;\"><strong>Numerical vs Target Feature</strong></p> "
   ]
  },
  {
   "cell_type": "code",
   "execution_count": 16,
   "id": "painful-specific",
   "metadata": {
    "execution": {
     "iopub.execute_input": "2021-05-27T03:40:16.819261Z",
     "iopub.status.busy": "2021-05-27T03:40:16.818281Z",
     "iopub.status.idle": "2021-05-27T03:40:16.822417Z",
     "shell.execute_reply": "2021-05-27T03:40:16.821940Z",
     "shell.execute_reply.started": "2021-05-27T02:38:18.742032Z"
    },
    "papermill": {
     "duration": 0.117623,
     "end_time": "2021-05-27T03:40:16.822554",
     "exception": false,
     "start_time": "2021-05-27T03:40:16.704931",
     "status": "completed"
    },
    "tags": []
   },
   "outputs": [
    {
     "data": {
      "text/plain": [
       "['PassengerId', 'Survived', 'Pclass', 'Age', 'SibSp', 'Parch', 'Fare']"
      ]
     },
     "execution_count": 16,
     "metadata": {},
     "output_type": "execute_result"
    }
   ],
   "source": [
    "train_num"
   ]
  },
  {
   "cell_type": "code",
   "execution_count": 17,
   "id": "specialized-halloween",
   "metadata": {
    "execution": {
     "iopub.execute_input": "2021-05-27T03:40:17.054144Z",
     "iopub.status.busy": "2021-05-27T03:40:17.051309Z",
     "iopub.status.idle": "2021-05-27T03:40:17.213055Z",
     "shell.execute_reply": "2021-05-27T03:40:17.212539Z",
     "shell.execute_reply.started": "2021-05-27T02:38:18.749279Z"
    },
    "papermill": {
     "duration": 0.280371,
     "end_time": "2021-05-27T03:40:17.213203",
     "exception": false,
     "start_time": "2021-05-27T03:40:16.932832",
     "status": "completed"
    },
    "tags": []
   },
   "outputs": [
    {
     "data": {
      "text/plain": [
       "<AxesSubplot:xlabel='Pclass'>"
      ]
     },
     "execution_count": 17,
     "metadata": {},
     "output_type": "execute_result"
    },
    {
     "data": {
      "image/png": "[encoded data removed]",
      "text/plain": [
       "<Figure size 288x288 with 1 Axes>"
      ]
     },
     "metadata": {
      "needs_background": "light"
     },
     "output_type": "display_data"
    }
   ],
   "source": [
    "pclass=pd.crosstab(train['Pclass'],train['Survived'])\n",
    "pclass.div(pclass.sum(1).astype(float),axis=0).plot(kind='bar',stacked=True,figsize=(4,4))"
   ]
  },
  {
   "cell_type": "markdown",
   "id": "steady-premises",
   "metadata": {
    "papermill": {
     "duration": 0.11255,
     "end_time": "2021-05-27T03:40:17.436608",
     "exception": false,
     "start_time": "2021-05-27T03:40:17.324058",
     "status": "completed"
    },
    "tags": []
   },
   "source": [
    "> class 1 has most survival rate and class 3 has least survival rate"
   ]
  },
  {
   "cell_type": "code",
   "execution_count": 18,
   "id": "several-apparel",
   "metadata": {
    "execution": {
     "iopub.execute_input": "2021-05-27T03:40:17.674679Z",
     "iopub.status.busy": "2021-05-27T03:40:17.668184Z",
     "iopub.status.idle": "2021-05-27T03:40:17.869206Z",
     "shell.execute_reply": "2021-05-27T03:40:17.868545Z",
     "shell.execute_reply.started": "2021-05-27T02:38:18.927518Z"
    },
    "papermill": {
     "duration": 0.320363,
     "end_time": "2021-05-27T03:40:17.869339",
     "exception": false,
     "start_time": "2021-05-27T03:40:17.548976",
     "status": "completed"
    },
    "tags": []
   },
   "outputs": [
    {
     "data": {
      "text/plain": [
       "<AxesSubplot:xlabel='SibSp'>"
      ]
     },
     "execution_count": 18,
     "metadata": {},
     "output_type": "execute_result"
    },
    {
     "data": {
      "image/png": "[encoded data removed]",
      "text/plain": [
       "<Figure size 288x288 with 1 Axes>"
      ]
     },
     "metadata": {
      "needs_background": "light"
     },
     "output_type": "display_data"
    }
   ],
   "source": [
    "sibsp=pd.crosstab(train['SibSp'],train['Survived'])\n",
    "sibsp.div(sibsp.sum(1).astype(float),axis=0).plot(kind='bar',stacked=True,figsize=(4,4))"
   ]
  },
  {
   "cell_type": "code",
   "execution_count": 19,
   "id": "adjacent-tension",
   "metadata": {
    "execution": {
     "iopub.execute_input": "2021-05-27T03:40:18.101362Z",
     "iopub.status.busy": "2021-05-27T03:40:18.100367Z",
     "iopub.status.idle": "2021-05-27T03:40:18.287748Z",
     "shell.execute_reply": "2021-05-27T03:40:18.286866Z",
     "shell.execute_reply.started": "2021-05-27T02:38:19.131324Z"
    },
    "papermill": {
     "duration": 0.307744,
     "end_time": "2021-05-27T03:40:18.287906",
     "exception": false,
     "start_time": "2021-05-27T03:40:17.980162",
     "status": "completed"
    },
    "tags": []
   },
   "outputs": [
    {
     "data": {
      "text/plain": [
       "<AxesSubplot:xlabel='Parch'>"
      ]
     },
     "execution_count": 19,
     "metadata": {},
     "output_type": "execute_result"
    },
    {
     "data": {
      "image/png": "[encoded data removed]",
      "text/plain": [
       "<Figure size 288x288 with 1 Axes>"
      ]
     },
     "metadata": {
      "needs_background": "light"
     },
     "output_type": "display_data"
    }
   ],
   "source": [
    "parch=pd.crosstab(train['Parch'],train['Survived'])\n",
    "parch.div(parch.sum(1).astype(float),axis=0).plot(kind='bar',stacked=True,figsize=(4,4))"
   ]
  },
  {
   "cell_type": "code",
   "execution_count": 20,
   "id": "loose-style",
   "metadata": {
    "execution": {
     "iopub.execute_input": "2021-05-27T03:40:18.519916Z",
     "iopub.status.busy": "2021-05-27T03:40:18.519155Z",
     "iopub.status.idle": "2021-05-27T03:40:18.522228Z",
     "shell.execute_reply": "2021-05-27T03:40:18.522675Z",
     "shell.execute_reply.started": "2021-05-27T02:38:19.464259Z"
    },
    "papermill": {
     "duration": 0.122495,
     "end_time": "2021-05-27T03:40:18.522847",
     "exception": false,
     "start_time": "2021-05-27T03:40:18.400352",
     "status": "completed"
    },
    "tags": []
   },
   "outputs": [
    {
     "data": {
      "text/plain": [
       "PassengerId    False\n",
       "Survived       False\n",
       "Pclass         False\n",
       "Name           False\n",
       "Sex            False\n",
       "Age             True\n",
       "SibSp          False\n",
       "Parch          False\n",
       "Ticket         False\n",
       "Fare           False\n",
       "Cabin           True\n",
       "Embarked        True\n",
       "dtype: bool"
      ]
     },
     "execution_count": 20,
     "metadata": {},
     "output_type": "execute_result"
    }
   ],
   "source": [
    "train.isnull().any()"
   ]
  },
  {
   "cell_type": "code",
   "execution_count": 21,
   "id": "behavioral-steam",
   "metadata": {
    "execution": {
     "iopub.execute_input": "2021-05-27T03:40:18.751470Z",
     "iopub.status.busy": "2021-05-27T03:40:18.750874Z",
     "iopub.status.idle": "2021-05-27T03:40:18.757948Z",
     "shell.execute_reply": "2021-05-27T03:40:18.758406Z",
     "shell.execute_reply.started": "2021-05-27T02:38:19.475587Z"
    },
    "papermill": {
     "duration": 0.123068,
     "end_time": "2021-05-27T03:40:18.758566",
     "exception": false,
     "start_time": "2021-05-27T03:40:18.635498",
     "status": "completed"
    },
    "tags": []
   },
   "outputs": [
    {
     "data": {
      "text/plain": [
       "['Cabin', 'Embarked']"
      ]
     },
     "execution_count": 21,
     "metadata": {},
     "output_type": "execute_result"
    }
   ],
   "source": [
    "train_missing_obj_col=[]\n",
    "for col in train_cat:\n",
    "    if train[col].isnull().any():\n",
    "        train_missing_obj_col.append(col)\n",
    "train_missing_obj_col        "
   ]
  },
  {
   "cell_type": "markdown",
   "id": "public-fusion",
   "metadata": {
    "papermill": {
     "duration": 0.113875,
     "end_time": "2021-05-27T03:40:18.984883",
     "exception": false,
     "start_time": "2021-05-27T03:40:18.871008",
     "status": "completed"
    },
    "tags": []
   },
   "source": [
    "<p style = \"font-size : 35px; color : #34656d ; font-family : 'Comic Sans MS'; text-align : center; background-color : lightblue; border-radius: 5px 5px;\"><strong>Missing Values Imputation In Train Dataset</strong></p>"
   ]
  },
  {
   "cell_type": "markdown",
   "id": "ruled-champagne",
   "metadata": {
    "papermill": {
     "duration": 0.114086,
     "end_time": "2021-05-27T03:40:19.211776",
     "exception": false,
     "start_time": "2021-05-27T03:40:19.097690",
     "status": "completed"
    },
    "tags": []
   },
   "source": [
    "<p style = \"font-size : 20px; color : #34656d ; font-family : 'Comic Sans MS'; text-align : center; background-color : orange; border-radius: 5px 5px;\"><strong>Imputation In Numerical Col</strong></p> "
   ]
  },
  {
   "cell_type": "code",
   "execution_count": 22,
   "id": "approximate-fetish",
   "metadata": {
    "execution": {
     "iopub.execute_input": "2021-05-27T03:40:19.462368Z",
     "iopub.status.busy": "2021-05-27T03:40:19.461655Z",
     "iopub.status.idle": "2021-05-27T03:40:19.471520Z",
     "shell.execute_reply": "2021-05-27T03:40:19.472057Z",
     "shell.execute_reply.started": "2021-05-27T02:38:19.491092Z"
    },
    "papermill": {
     "duration": 0.14827,
     "end_time": "2021-05-27T03:40:19.472337",
     "exception": false,
     "start_time": "2021-05-27T03:40:19.324067",
     "status": "completed"
    },
    "tags": []
   },
   "outputs": [
    {
     "data": {
      "text/plain": [
       "['Age']"
      ]
     },
     "execution_count": 22,
     "metadata": {},
     "output_type": "execute_result"
    }
   ],
   "source": [
    "train_missing_num_col=[]\n",
    "for col in train_num:\n",
    "    if train[col].isnull().any():\n",
    "        train_missing_num_col.append(col)\n",
    "train_missing_num_col     "
   ]
  },
  {
   "cell_type": "code",
   "execution_count": 23,
   "id": "becoming-journalism",
   "metadata": {
    "execution": {
     "iopub.execute_input": "2021-05-27T03:40:19.701675Z",
     "iopub.status.busy": "2021-05-27T03:40:19.701079Z",
     "iopub.status.idle": "2021-05-27T03:40:19.713564Z",
     "shell.execute_reply": "2021-05-27T03:40:19.713044Z",
     "shell.execute_reply.started": "2021-05-27T02:38:19.506185Z"
    },
    "papermill": {
     "duration": 0.127476,
     "end_time": "2021-05-27T03:40:19.713699",
     "exception": false,
     "start_time": "2021-05-27T03:40:19.586223",
     "status": "completed"
    },
    "tags": []
   },
   "outputs": [
    {
     "data": {
      "text/html": [
       "<div>\n",
       "<style scoped>\n",
       "    .dataframe tbody tr th:only-of-type {\n",
       "        vertical-align: middle;\n",
       "    }\n",
       "\n",
       "    .dataframe tbody tr th {\n",
       "        vertical-align: top;\n",
       "    }\n",
       "\n",
       "    .dataframe thead th {\n",
       "        text-align: right;\n",
       "    }\n",
       "</style>\n",
       "<table border=\"1\" class=\"dataframe\">\n",
       "  <thead>\n",
       "    <tr style=\"text-align: right;\">\n",
       "      <th></th>\n",
       "      <th>Age</th>\n",
       "    </tr>\n",
       "  </thead>\n",
       "  <tbody>\n",
       "    <tr>\n",
       "      <th>0</th>\n",
       "      <td>22.0</td>\n",
       "    </tr>\n",
       "    <tr>\n",
       "      <th>1</th>\n",
       "      <td>38.0</td>\n",
       "    </tr>\n",
       "    <tr>\n",
       "      <th>2</th>\n",
       "      <td>26.0</td>\n",
       "    </tr>\n",
       "    <tr>\n",
       "      <th>3</th>\n",
       "      <td>35.0</td>\n",
       "    </tr>\n",
       "    <tr>\n",
       "      <th>4</th>\n",
       "      <td>35.0</td>\n",
       "    </tr>\n",
       "    <tr>\n",
       "      <th>...</th>\n",
       "      <td>...</td>\n",
       "    </tr>\n",
       "    <tr>\n",
       "      <th>886</th>\n",
       "      <td>27.0</td>\n",
       "    </tr>\n",
       "    <tr>\n",
       "      <th>887</th>\n",
       "      <td>19.0</td>\n",
       "    </tr>\n",
       "    <tr>\n",
       "      <th>888</th>\n",
       "      <td>NaN</td>\n",
       "    </tr>\n",
       "    <tr>\n",
       "      <th>889</th>\n",
       "      <td>26.0</td>\n",
       "    </tr>\n",
       "    <tr>\n",
       "      <th>890</th>\n",
       "      <td>32.0</td>\n",
       "    </tr>\n",
       "  </tbody>\n",
       "</table>\n",
       "<p>891 rows × 1 columns</p>\n",
       "</div>"
      ],
      "text/plain": [
       "      Age\n",
       "0    22.0\n",
       "1    38.0\n",
       "2    26.0\n",
       "3    35.0\n",
       "4    35.0\n",
       "..    ...\n",
       "886  27.0\n",
       "887  19.0\n",
       "888   NaN\n",
       "889  26.0\n",
       "890  32.0\n",
       "\n",
       "[891 rows x 1 columns]"
      ]
     },
     "execution_count": 23,
     "metadata": {},
     "output_type": "execute_result"
    }
   ],
   "source": [
    "temp=train[['Age']]\n",
    "temp"
   ]
  },
  {
   "cell_type": "code",
   "execution_count": 24,
   "id": "beginning-state",
   "metadata": {
    "execution": {
     "iopub.execute_input": "2021-05-27T03:40:19.943738Z",
     "iopub.status.busy": "2021-05-27T03:40:19.943120Z",
     "iopub.status.idle": "2021-05-27T03:40:19.946226Z",
     "shell.execute_reply": "2021-05-27T03:40:19.946645Z",
     "shell.execute_reply.started": "2021-05-27T02:38:19.527371Z"
    },
    "papermill": {
     "duration": 0.121593,
     "end_time": "2021-05-27T03:40:19.946836",
     "exception": false,
     "start_time": "2021-05-27T03:40:19.825243",
     "status": "completed"
    },
    "tags": []
   },
   "outputs": [],
   "source": [
    "train.drop(['Age'],inplace=True,axis=1)"
   ]
  },
  {
   "cell_type": "code",
   "execution_count": 25,
   "id": "universal-income",
   "metadata": {
    "execution": {
     "iopub.execute_input": "2021-05-27T03:40:20.178186Z",
     "iopub.status.busy": "2021-05-27T03:40:20.177418Z",
     "iopub.status.idle": "2021-05-27T03:40:20.319245Z",
     "shell.execute_reply": "2021-05-27T03:40:20.319672Z",
     "shell.execute_reply.started": "2021-05-27T02:38:19.540742Z"
    },
    "papermill": {
     "duration": 0.260037,
     "end_time": "2021-05-27T03:40:20.319866",
     "exception": false,
     "start_time": "2021-05-27T03:40:20.059829",
     "status": "completed"
    },
    "tags": []
   },
   "outputs": [],
   "source": [
    "from sklearn.impute import SimpleImputer\n",
    "my_imputer=SimpleImputer()\n",
    "imputed_temp = pd.DataFrame(my_imputer.fit_transform(temp))\n",
    "imputed_temp.columns = temp.columns"
   ]
  },
  {
   "cell_type": "code",
   "execution_count": 26,
   "id": "placed-chamber",
   "metadata": {
    "execution": {
     "iopub.execute_input": "2021-05-27T03:40:20.552497Z",
     "iopub.status.busy": "2021-05-27T03:40:20.551905Z",
     "iopub.status.idle": "2021-05-27T03:40:20.554304Z",
     "shell.execute_reply": "2021-05-27T03:40:20.554772Z",
     "shell.execute_reply.started": "2021-05-27T02:38:19.565107Z"
    },
    "papermill": {
     "duration": 0.12155,
     "end_time": "2021-05-27T03:40:20.554952",
     "exception": false,
     "start_time": "2021-05-27T03:40:20.433402",
     "status": "completed"
    },
    "tags": []
   },
   "outputs": [],
   "source": [
    "train=pd.concat([train,imputed_temp],axis=1)"
   ]
  },
  {
   "cell_type": "code",
   "execution_count": 27,
   "id": "cosmetic-decrease",
   "metadata": {
    "execution": {
     "iopub.execute_input": "2021-05-27T03:40:20.810424Z",
     "iopub.status.busy": "2021-05-27T03:40:20.809740Z",
     "iopub.status.idle": "2021-05-27T03:40:20.846782Z",
     "shell.execute_reply": "2021-05-27T03:40:20.847338Z",
     "shell.execute_reply.started": "2021-05-27T02:38:19.575452Z"
    },
    "papermill": {
     "duration": 0.165314,
     "end_time": "2021-05-27T03:40:20.847520",
     "exception": false,
     "start_time": "2021-05-27T03:40:20.682206",
     "status": "completed"
    },
    "tags": []
   },
   "outputs": [
    {
     "data": {
      "text/html": [
       "<div>\n",
       "<style scoped>\n",
       "    .dataframe tbody tr th:only-of-type {\n",
       "        vertical-align: middle;\n",
       "    }\n",
       "\n",
       "    .dataframe tbody tr th {\n",
       "        vertical-align: top;\n",
       "    }\n",
       "\n",
       "    .dataframe thead th {\n",
       "        text-align: right;\n",
       "    }\n",
       "</style>\n",
       "<table border=\"1\" class=\"dataframe\">\n",
       "  <thead>\n",
       "    <tr style=\"text-align: right;\">\n",
       "      <th></th>\n",
       "      <th>PassengerId</th>\n",
       "      <th>Survived</th>\n",
       "      <th>Pclass</th>\n",
       "      <th>Name</th>\n",
       "      <th>Sex</th>\n",
       "      <th>SibSp</th>\n",
       "      <th>Parch</th>\n",
       "      <th>Ticket</th>\n",
       "      <th>Fare</th>\n",
       "      <th>Cabin</th>\n",
       "      <th>Embarked</th>\n",
       "      <th>Age</th>\n",
       "    </tr>\n",
       "  </thead>\n",
       "  <tbody>\n",
       "    <tr>\n",
       "      <th>0</th>\n",
       "      <td>1</td>\n",
       "      <td>0</td>\n",
       "      <td>3</td>\n",
       "      <td>Braund, Mr. Owen Harris</td>\n",
       "      <td>male</td>\n",
       "      <td>1</td>\n",
       "      <td>0</td>\n",
       "      <td>A/5 21171</td>\n",
       "      <td>7.2500</td>\n",
       "      <td>NaN</td>\n",
       "      <td>S</td>\n",
       "      <td>22.000000</td>\n",
       "    </tr>\n",
       "    <tr>\n",
       "      <th>1</th>\n",
       "      <td>2</td>\n",
       "      <td>1</td>\n",
       "      <td>1</td>\n",
       "      <td>Cumings, Mrs. John Bradley (Florence Briggs Th...</td>\n",
       "      <td>female</td>\n",
       "      <td>1</td>\n",
       "      <td>0</td>\n",
       "      <td>PC 17599</td>\n",
       "      <td>71.2833</td>\n",
       "      <td>C85</td>\n",
       "      <td>C</td>\n",
       "      <td>38.000000</td>\n",
       "    </tr>\n",
       "    <tr>\n",
       "      <th>2</th>\n",
       "      <td>3</td>\n",
       "      <td>1</td>\n",
       "      <td>3</td>\n",
       "      <td>Heikkinen, Miss. Laina</td>\n",
       "      <td>female</td>\n",
       "      <td>0</td>\n",
       "      <td>0</td>\n",
       "      <td>STON/O2. 3101282</td>\n",
       "      <td>7.9250</td>\n",
       "      <td>NaN</td>\n",
       "      <td>S</td>\n",
       "      <td>26.000000</td>\n",
       "    </tr>\n",
       "    <tr>\n",
       "      <th>3</th>\n",
       "      <td>4</td>\n",
       "      <td>1</td>\n",
       "      <td>1</td>\n",
       "      <td>Futrelle, Mrs. Jacques Heath (Lily May Peel)</td>\n",
       "      <td>female</td>\n",
       "      <td>1</td>\n",
       "      <td>0</td>\n",
       "      <td>113803</td>\n",
       "      <td>53.1000</td>\n",
       "      <td>C123</td>\n",
       "      <td>S</td>\n",
       "      <td>35.000000</td>\n",
       "    </tr>\n",
       "    <tr>\n",
       "      <th>4</th>\n",
       "      <td>5</td>\n",
       "      <td>0</td>\n",
       "      <td>3</td>\n",
       "      <td>Allen, Mr. William Henry</td>\n",
       "      <td>male</td>\n",
       "      <td>0</td>\n",
       "      <td>0</td>\n",
       "      <td>373450</td>\n",
       "      <td>8.0500</td>\n",
       "      <td>NaN</td>\n",
       "      <td>S</td>\n",
       "      <td>35.000000</td>\n",
       "    </tr>\n",
       "    <tr>\n",
       "      <th>...</th>\n",
       "      <td>...</td>\n",
       "      <td>...</td>\n",
       "      <td>...</td>\n",
       "      <td>...</td>\n",
       "      <td>...</td>\n",
       "      <td>...</td>\n",
       "      <td>...</td>\n",
       "      <td>...</td>\n",
       "      <td>...</td>\n",
       "      <td>...</td>\n",
       "      <td>...</td>\n",
       "      <td>...</td>\n",
       "    </tr>\n",
       "    <tr>\n",
       "      <th>886</th>\n",
       "      <td>887</td>\n",
       "      <td>0</td>\n",
       "      <td>2</td>\n",
       "      <td>Montvila, Rev. Juozas</td>\n",
       "      <td>male</td>\n",
       "      <td>0</td>\n",
       "      <td>0</td>\n",
       "      <td>211536</td>\n",
       "      <td>13.0000</td>\n",
       "      <td>NaN</td>\n",
       "      <td>S</td>\n",
       "      <td>27.000000</td>\n",
       "    </tr>\n",
       "    <tr>\n",
       "      <th>887</th>\n",
       "      <td>888</td>\n",
       "      <td>1</td>\n",
       "      <td>1</td>\n",
       "      <td>Graham, Miss. Margaret Edith</td>\n",
       "      <td>female</td>\n",
       "      <td>0</td>\n",
       "      <td>0</td>\n",
       "      <td>112053</td>\n",
       "      <td>30.0000</td>\n",
       "      <td>B42</td>\n",
       "      <td>S</td>\n",
       "      <td>19.000000</td>\n",
       "    </tr>\n",
       "    <tr>\n",
       "      <th>888</th>\n",
       "      <td>889</td>\n",
       "      <td>0</td>\n",
       "      <td>3</td>\n",
       "      <td>Johnston, Miss. Catherine Helen \"Carrie\"</td>\n",
       "      <td>female</td>\n",
       "      <td>1</td>\n",
       "      <td>2</td>\n",
       "      <td>W./C. 6607</td>\n",
       "      <td>23.4500</td>\n",
       "      <td>NaN</td>\n",
       "      <td>S</td>\n",
       "      <td>29.699118</td>\n",
       "    </tr>\n",
       "    <tr>\n",
       "      <th>889</th>\n",
       "      <td>890</td>\n",
       "      <td>1</td>\n",
       "      <td>1</td>\n",
       "      <td>Behr, Mr. Karl Howell</td>\n",
       "      <td>male</td>\n",
       "      <td>0</td>\n",
       "      <td>0</td>\n",
       "      <td>111369</td>\n",
       "      <td>30.0000</td>\n",
       "      <td>C148</td>\n",
       "      <td>C</td>\n",
       "      <td>26.000000</td>\n",
       "    </tr>\n",
       "    <tr>\n",
       "      <th>890</th>\n",
       "      <td>891</td>\n",
       "      <td>0</td>\n",
       "      <td>3</td>\n",
       "      <td>Dooley, Mr. Patrick</td>\n",
       "      <td>male</td>\n",
       "      <td>0</td>\n",
       "      <td>0</td>\n",
       "      <td>370376</td>\n",
       "      <td>7.7500</td>\n",
       "      <td>NaN</td>\n",
       "      <td>Q</td>\n",
       "      <td>32.000000</td>\n",
       "    </tr>\n",
       "  </tbody>\n",
       "</table>\n",
       "<p>891 rows × 12 columns</p>\n",
       "</div>"
      ],
      "text/plain": [
       "     PassengerId  Survived  Pclass  \\\n",
       "0              1         0       3   \n",
       "1              2         1       1   \n",
       "2              3         1       3   \n",
       "3              4         1       1   \n",
       "4              5         0       3   \n",
       "..           ...       ...     ...   \n",
       "886          887         0       2   \n",
       "887          888         1       1   \n",
       "888          889         0       3   \n",
       "889          890         1       1   \n",
       "890          891         0       3   \n",
       "\n",
       "                                                  Name     Sex  SibSp  Parch  \\\n",
       "0                              Braund, Mr. Owen Harris    male      1      0   \n",
       "1    Cumings, Mrs. John Bradley (Florence Briggs Th...  female      1      0   \n",
       "2                               Heikkinen, Miss. Laina  female      0      0   \n",
       "3         Futrelle, Mrs. Jacques Heath (Lily May Peel)  female      1      0   \n",
       "4                             Allen, Mr. William Henry    male      0      0   \n",
       "..                                                 ...     ...    ...    ...   \n",
       "886                              Montvila, Rev. Juozas    male      0      0   \n",
       "887                       Graham, Miss. Margaret Edith  female      0      0   \n",
       "888           Johnston, Miss. Catherine Helen \"Carrie\"  female      1      2   \n",
       "889                              Behr, Mr. Karl Howell    male      0      0   \n",
       "890                                Dooley, Mr. Patrick    male      0      0   \n",
       "\n",
       "               Ticket     Fare Cabin Embarked        Age  \n",
       "0           A/5 21171   7.2500   NaN        S  22.000000  \n",
       "1            PC 17599  71.2833   C85        C  38.000000  \n",
       "2    STON/O2. 3101282   7.9250   NaN        S  26.000000  \n",
       "3              113803  53.1000  C123        S  35.000000  \n",
       "4              373450   8.0500   NaN        S  35.000000  \n",
       "..                ...      ...   ...      ...        ...  \n",
       "886            211536  13.0000   NaN        S  27.000000  \n",
       "887            112053  30.0000   B42        S  19.000000  \n",
       "888        W./C. 6607  23.4500   NaN        S  29.699118  \n",
       "889            111369  30.0000  C148        C  26.000000  \n",
       "890            370376   7.7500   NaN        Q  32.000000  \n",
       "\n",
       "[891 rows x 12 columns]"
      ]
     },
     "execution_count": 27,
     "metadata": {},
     "output_type": "execute_result"
    }
   ],
   "source": [
    "train"
   ]
  },
  {
   "cell_type": "markdown",
   "id": "gentle-graphics",
   "metadata": {
    "papermill": {
     "duration": 0.121067,
     "end_time": "2021-05-27T03:40:21.095223",
     "exception": false,
     "start_time": "2021-05-27T03:40:20.974156",
     "status": "completed"
    },
    "tags": []
   },
   "source": [
    "<p style = \"font-size : 20px; color : #34656d ; font-family : 'Comic Sans MS'; text-align : center; background-color : orange; border-radius: 5px 5px;\"><strong>Imputation In Categorical Col</strong></p>"
   ]
  },
  {
   "cell_type": "code",
   "execution_count": 28,
   "id": "textile-consumption",
   "metadata": {
    "execution": {
     "iopub.execute_input": "2021-05-27T03:40:21.336513Z",
     "iopub.status.busy": "2021-05-27T03:40:21.335901Z",
     "iopub.status.idle": "2021-05-27T03:40:21.341201Z",
     "shell.execute_reply": "2021-05-27T03:40:21.341663Z",
     "shell.execute_reply.started": "2021-05-27T02:38:29.741302Z"
    },
    "papermill": {
     "duration": 0.125641,
     "end_time": "2021-05-27T03:40:21.341817",
     "exception": false,
     "start_time": "2021-05-27T03:40:21.216176",
     "status": "completed"
    },
    "tags": []
   },
   "outputs": [],
   "source": [
    "train['Embarked'].fillna(train['Embarked'].mode(),inplace=True)"
   ]
  },
  {
   "cell_type": "code",
   "execution_count": 29,
   "id": "touched-wilson",
   "metadata": {
    "execution": {
     "iopub.execute_input": "2021-05-27T03:40:21.575156Z",
     "iopub.status.busy": "2021-05-27T03:40:21.574521Z",
     "iopub.status.idle": "2021-05-27T03:40:21.591075Z",
     "shell.execute_reply": "2021-05-27T03:40:21.590591Z",
     "shell.execute_reply.started": "2021-05-27T02:38:44.510546Z"
    },
    "papermill": {
     "duration": 0.134179,
     "end_time": "2021-05-27T03:40:21.591219",
     "exception": false,
     "start_time": "2021-05-27T03:40:21.457040",
     "status": "completed"
    },
    "tags": []
   },
   "outputs": [
    {
     "data": {
      "text/html": [
       "<div>\n",
       "<style scoped>\n",
       "    .dataframe tbody tr th:only-of-type {\n",
       "        vertical-align: middle;\n",
       "    }\n",
       "\n",
       "    .dataframe tbody tr th {\n",
       "        vertical-align: top;\n",
       "    }\n",
       "\n",
       "    .dataframe thead th {\n",
       "        text-align: right;\n",
       "    }\n",
       "</style>\n",
       "<table border=\"1\" class=\"dataframe\">\n",
       "  <thead>\n",
       "    <tr style=\"text-align: right;\">\n",
       "      <th></th>\n",
       "      <th>Sex_male</th>\n",
       "      <th>Embarked_Q</th>\n",
       "      <th>Embarked_S</th>\n",
       "    </tr>\n",
       "  </thead>\n",
       "  <tbody>\n",
       "    <tr>\n",
       "      <th>0</th>\n",
       "      <td>1</td>\n",
       "      <td>0</td>\n",
       "      <td>1</td>\n",
       "    </tr>\n",
       "    <tr>\n",
       "      <th>1</th>\n",
       "      <td>0</td>\n",
       "      <td>0</td>\n",
       "      <td>0</td>\n",
       "    </tr>\n",
       "    <tr>\n",
       "      <th>2</th>\n",
       "      <td>0</td>\n",
       "      <td>0</td>\n",
       "      <td>1</td>\n",
       "    </tr>\n",
       "    <tr>\n",
       "      <th>3</th>\n",
       "      <td>0</td>\n",
       "      <td>0</td>\n",
       "      <td>1</td>\n",
       "    </tr>\n",
       "    <tr>\n",
       "      <th>4</th>\n",
       "      <td>1</td>\n",
       "      <td>0</td>\n",
       "      <td>1</td>\n",
       "    </tr>\n",
       "    <tr>\n",
       "      <th>...</th>\n",
       "      <td>...</td>\n",
       "      <td>...</td>\n",
       "      <td>...</td>\n",
       "    </tr>\n",
       "    <tr>\n",
       "      <th>886</th>\n",
       "      <td>1</td>\n",
       "      <td>0</td>\n",
       "      <td>1</td>\n",
       "    </tr>\n",
       "    <tr>\n",
       "      <th>887</th>\n",
       "      <td>0</td>\n",
       "      <td>0</td>\n",
       "      <td>1</td>\n",
       "    </tr>\n",
       "    <tr>\n",
       "      <th>888</th>\n",
       "      <td>0</td>\n",
       "      <td>0</td>\n",
       "      <td>1</td>\n",
       "    </tr>\n",
       "    <tr>\n",
       "      <th>889</th>\n",
       "      <td>1</td>\n",
       "      <td>0</td>\n",
       "      <td>0</td>\n",
       "    </tr>\n",
       "    <tr>\n",
       "      <th>890</th>\n",
       "      <td>1</td>\n",
       "      <td>1</td>\n",
       "      <td>0</td>\n",
       "    </tr>\n",
       "  </tbody>\n",
       "</table>\n",
       "<p>891 rows × 3 columns</p>\n",
       "</div>"
      ],
      "text/plain": [
       "     Sex_male  Embarked_Q  Embarked_S\n",
       "0           1           0           1\n",
       "1           0           0           0\n",
       "2           0           0           1\n",
       "3           0           0           1\n",
       "4           1           0           1\n",
       "..        ...         ...         ...\n",
       "886         1           0           1\n",
       "887         0           0           1\n",
       "888         0           0           1\n",
       "889         1           0           0\n",
       "890         1           1           0\n",
       "\n",
       "[891 rows x 3 columns]"
      ]
     },
     "execution_count": 29,
     "metadata": {},
     "output_type": "execute_result"
    }
   ],
   "source": [
    "dummy1=pd.get_dummies(train[['Sex','Embarked']],drop_first=True)\n",
    "dummy1"
   ]
  },
  {
   "cell_type": "code",
   "execution_count": 30,
   "id": "numeric-article",
   "metadata": {
    "execution": {
     "iopub.execute_input": "2021-05-27T03:40:21.829890Z",
     "iopub.status.busy": "2021-05-27T03:40:21.829248Z",
     "iopub.status.idle": "2021-05-27T03:40:21.833562Z",
     "shell.execute_reply": "2021-05-27T03:40:21.833082Z",
     "shell.execute_reply.started": "2021-05-27T02:38:51.126597Z"
    },
    "papermill": {
     "duration": 0.126628,
     "end_time": "2021-05-27T03:40:21.833696",
     "exception": false,
     "start_time": "2021-05-27T03:40:21.707068",
     "status": "completed"
    },
    "tags": []
   },
   "outputs": [],
   "source": [
    "train.drop(train_missing_obj_col ,axis=1,inplace=True)"
   ]
  },
  {
   "cell_type": "code",
   "execution_count": 31,
   "id": "round-projector",
   "metadata": {
    "execution": {
     "iopub.execute_input": "2021-05-27T03:40:22.076689Z",
     "iopub.status.busy": "2021-05-27T03:40:22.075941Z",
     "iopub.status.idle": "2021-05-27T03:40:22.078062Z",
     "shell.execute_reply": "2021-05-27T03:40:22.078617Z",
     "shell.execute_reply.started": "2021-05-27T02:38:54.700581Z"
    },
    "papermill": {
     "duration": 0.126946,
     "end_time": "2021-05-27T03:40:22.078818",
     "exception": false,
     "start_time": "2021-05-27T03:40:21.951872",
     "status": "completed"
    },
    "tags": []
   },
   "outputs": [],
   "source": [
    "train=pd.concat([train,dummy1],axis=1)"
   ]
  },
  {
   "cell_type": "code",
   "execution_count": 32,
   "id": "different-lesbian",
   "metadata": {
    "execution": {
     "iopub.execute_input": "2021-05-27T03:40:22.315948Z",
     "iopub.status.busy": "2021-05-27T03:40:22.315266Z",
     "iopub.status.idle": "2021-05-27T03:40:22.320570Z",
     "shell.execute_reply": "2021-05-27T03:40:22.321031Z",
     "shell.execute_reply.started": "2021-05-27T02:38:57.590721Z"
    },
    "papermill": {
     "duration": 0.124423,
     "end_time": "2021-05-27T03:40:22.321201",
     "exception": false,
     "start_time": "2021-05-27T03:40:22.196778",
     "status": "completed"
    },
    "tags": []
   },
   "outputs": [],
   "source": [
    "train.drop(['Name','PassengerId','Sex','Ticket'],axis=1,inplace=True)"
   ]
  },
  {
   "cell_type": "code",
   "execution_count": 33,
   "id": "unique-vietnamese",
   "metadata": {
    "execution": {
     "iopub.execute_input": "2021-05-27T03:40:22.556110Z",
     "iopub.status.busy": "2021-05-27T03:40:22.555472Z",
     "iopub.status.idle": "2021-05-27T03:40:22.571303Z",
     "shell.execute_reply": "2021-05-27T03:40:22.571714Z",
     "shell.execute_reply.started": "2021-05-27T02:38:58.910587Z"
    },
    "papermill": {
     "duration": 0.134421,
     "end_time": "2021-05-27T03:40:22.571891",
     "exception": false,
     "start_time": "2021-05-27T03:40:22.437470",
     "status": "completed"
    },
    "tags": []
   },
   "outputs": [
    {
     "data": {
      "text/html": [
       "<div>\n",
       "<style scoped>\n",
       "    .dataframe tbody tr th:only-of-type {\n",
       "        vertical-align: middle;\n",
       "    }\n",
       "\n",
       "    .dataframe tbody tr th {\n",
       "        vertical-align: top;\n",
       "    }\n",
       "\n",
       "    .dataframe thead th {\n",
       "        text-align: right;\n",
       "    }\n",
       "</style>\n",
       "<table border=\"1\" class=\"dataframe\">\n",
       "  <thead>\n",
       "    <tr style=\"text-align: right;\">\n",
       "      <th></th>\n",
       "      <th>Survived</th>\n",
       "      <th>Pclass</th>\n",
       "      <th>SibSp</th>\n",
       "      <th>Parch</th>\n",
       "      <th>Fare</th>\n",
       "      <th>Age</th>\n",
       "      <th>Sex_male</th>\n",
       "      <th>Embarked_Q</th>\n",
       "      <th>Embarked_S</th>\n",
       "    </tr>\n",
       "  </thead>\n",
       "  <tbody>\n",
       "    <tr>\n",
       "      <th>0</th>\n",
       "      <td>0</td>\n",
       "      <td>3</td>\n",
       "      <td>1</td>\n",
       "      <td>0</td>\n",
       "      <td>7.2500</td>\n",
       "      <td>22.000000</td>\n",
       "      <td>1</td>\n",
       "      <td>0</td>\n",
       "      <td>1</td>\n",
       "    </tr>\n",
       "    <tr>\n",
       "      <th>1</th>\n",
       "      <td>1</td>\n",
       "      <td>1</td>\n",
       "      <td>1</td>\n",
       "      <td>0</td>\n",
       "      <td>71.2833</td>\n",
       "      <td>38.000000</td>\n",
       "      <td>0</td>\n",
       "      <td>0</td>\n",
       "      <td>0</td>\n",
       "    </tr>\n",
       "    <tr>\n",
       "      <th>2</th>\n",
       "      <td>1</td>\n",
       "      <td>3</td>\n",
       "      <td>0</td>\n",
       "      <td>0</td>\n",
       "      <td>7.9250</td>\n",
       "      <td>26.000000</td>\n",
       "      <td>0</td>\n",
       "      <td>0</td>\n",
       "      <td>1</td>\n",
       "    </tr>\n",
       "    <tr>\n",
       "      <th>3</th>\n",
       "      <td>1</td>\n",
       "      <td>1</td>\n",
       "      <td>1</td>\n",
       "      <td>0</td>\n",
       "      <td>53.1000</td>\n",
       "      <td>35.000000</td>\n",
       "      <td>0</td>\n",
       "      <td>0</td>\n",
       "      <td>1</td>\n",
       "    </tr>\n",
       "    <tr>\n",
       "      <th>4</th>\n",
       "      <td>0</td>\n",
       "      <td>3</td>\n",
       "      <td>0</td>\n",
       "      <td>0</td>\n",
       "      <td>8.0500</td>\n",
       "      <td>35.000000</td>\n",
       "      <td>1</td>\n",
       "      <td>0</td>\n",
       "      <td>1</td>\n",
       "    </tr>\n",
       "    <tr>\n",
       "      <th>...</th>\n",
       "      <td>...</td>\n",
       "      <td>...</td>\n",
       "      <td>...</td>\n",
       "      <td>...</td>\n",
       "      <td>...</td>\n",
       "      <td>...</td>\n",
       "      <td>...</td>\n",
       "      <td>...</td>\n",
       "      <td>...</td>\n",
       "    </tr>\n",
       "    <tr>\n",
       "      <th>886</th>\n",
       "      <td>0</td>\n",
       "      <td>2</td>\n",
       "      <td>0</td>\n",
       "      <td>0</td>\n",
       "      <td>13.0000</td>\n",
       "      <td>27.000000</td>\n",
       "      <td>1</td>\n",
       "      <td>0</td>\n",
       "      <td>1</td>\n",
       "    </tr>\n",
       "    <tr>\n",
       "      <th>887</th>\n",
       "      <td>1</td>\n",
       "      <td>1</td>\n",
       "      <td>0</td>\n",
       "      <td>0</td>\n",
       "      <td>30.0000</td>\n",
       "      <td>19.000000</td>\n",
       "      <td>0</td>\n",
       "      <td>0</td>\n",
       "      <td>1</td>\n",
       "    </tr>\n",
       "    <tr>\n",
       "      <th>888</th>\n",
       "      <td>0</td>\n",
       "      <td>3</td>\n",
       "      <td>1</td>\n",
       "      <td>2</td>\n",
       "      <td>23.4500</td>\n",
       "      <td>29.699118</td>\n",
       "      <td>0</td>\n",
       "      <td>0</td>\n",
       "      <td>1</td>\n",
       "    </tr>\n",
       "    <tr>\n",
       "      <th>889</th>\n",
       "      <td>1</td>\n",
       "      <td>1</td>\n",
       "      <td>0</td>\n",
       "      <td>0</td>\n",
       "      <td>30.0000</td>\n",
       "      <td>26.000000</td>\n",
       "      <td>1</td>\n",
       "      <td>0</td>\n",
       "      <td>0</td>\n",
       "    </tr>\n",
       "    <tr>\n",
       "      <th>890</th>\n",
       "      <td>0</td>\n",
       "      <td>3</td>\n",
       "      <td>0</td>\n",
       "      <td>0</td>\n",
       "      <td>7.7500</td>\n",
       "      <td>32.000000</td>\n",
       "      <td>1</td>\n",
       "      <td>1</td>\n",
       "      <td>0</td>\n",
       "    </tr>\n",
       "  </tbody>\n",
       "</table>\n",
       "<p>891 rows × 9 columns</p>\n",
       "</div>"
      ],
      "text/plain": [
       "     Survived  Pclass  SibSp  Parch     Fare        Age  Sex_male  Embarked_Q  \\\n",
       "0           0       3      1      0   7.2500  22.000000         1           0   \n",
       "1           1       1      1      0  71.2833  38.000000         0           0   \n",
       "2           1       3      0      0   7.9250  26.000000         0           0   \n",
       "3           1       1      1      0  53.1000  35.000000         0           0   \n",
       "4           0       3      0      0   8.0500  35.000000         1           0   \n",
       "..        ...     ...    ...    ...      ...        ...       ...         ...   \n",
       "886         0       2      0      0  13.0000  27.000000         1           0   \n",
       "887         1       1      0      0  30.0000  19.000000         0           0   \n",
       "888         0       3      1      2  23.4500  29.699118         0           0   \n",
       "889         1       1      0      0  30.0000  26.000000         1           0   \n",
       "890         0       3      0      0   7.7500  32.000000         1           1   \n",
       "\n",
       "     Embarked_S  \n",
       "0             1  \n",
       "1             0  \n",
       "2             1  \n",
       "3             1  \n",
       "4             1  \n",
       "..          ...  \n",
       "886           1  \n",
       "887           1  \n",
       "888           1  \n",
       "889           0  \n",
       "890           0  \n",
       "\n",
       "[891 rows x 9 columns]"
      ]
     },
     "execution_count": 33,
     "metadata": {},
     "output_type": "execute_result"
    }
   ],
   "source": [
    "train"
   ]
  },
  {
   "cell_type": "code",
   "execution_count": 34,
   "id": "paperback-victory",
   "metadata": {
    "execution": {
     "iopub.execute_input": "2021-05-27T03:40:22.808365Z",
     "iopub.status.busy": "2021-05-27T03:40:22.807759Z",
     "iopub.status.idle": "2021-05-27T03:40:22.812893Z",
     "shell.execute_reply": "2021-05-27T03:40:22.812385Z",
     "shell.execute_reply.started": "2021-05-27T02:39:03.616664Z"
    },
    "papermill": {
     "duration": 0.124686,
     "end_time": "2021-05-27T03:40:22.813051",
     "exception": false,
     "start_time": "2021-05-27T03:40:22.688365",
     "status": "completed"
    },
    "tags": []
   },
   "outputs": [
    {
     "data": {
      "text/plain": [
       "(891, 9)"
      ]
     },
     "execution_count": 34,
     "metadata": {},
     "output_type": "execute_result"
    }
   ],
   "source": [
    "train.shape"
   ]
  },
  {
   "cell_type": "markdown",
   "id": "found-convertible",
   "metadata": {
    "papermill": {
     "duration": 0.118851,
     "end_time": "2021-05-27T03:40:23.049541",
     "exception": false,
     "start_time": "2021-05-27T03:40:22.930690",
     "status": "completed"
    },
    "tags": []
   },
   "source": [
    "<p style = \"font-size : 35px; color : #34656d ; font-family : 'Comic Sans MS'; text-align : center; background-color : lightblue; border-radius: 5px 5px;\"><strong>Removing the Skewness In the Train Data Col</strong></p>"
   ]
  },
  {
   "cell_type": "code",
   "execution_count": 35,
   "id": "sublime-bearing",
   "metadata": {
    "execution": {
     "iopub.execute_input": "2021-05-27T03:40:23.290893Z",
     "iopub.status.busy": "2021-05-27T03:40:23.289909Z",
     "iopub.status.idle": "2021-05-27T03:40:23.292410Z",
     "shell.execute_reply": "2021-05-27T03:40:23.292854Z",
     "shell.execute_reply.started": "2021-05-27T02:39:10.191558Z"
    },
    "papermill": {
     "duration": 0.126488,
     "end_time": "2021-05-27T03:40:23.293021",
     "exception": false,
     "start_time": "2021-05-27T03:40:23.166533",
     "status": "completed"
    },
    "tags": []
   },
   "outputs": [],
   "source": [
    "train['Age']=np.log(train['Age']+1)"
   ]
  },
  {
   "cell_type": "code",
   "execution_count": 36,
   "id": "palestinian-holder",
   "metadata": {
    "execution": {
     "iopub.execute_input": "2021-05-27T03:40:23.532240Z",
     "iopub.status.busy": "2021-05-27T03:40:23.531251Z",
     "iopub.status.idle": "2021-05-27T03:40:23.533758Z",
     "shell.execute_reply": "2021-05-27T03:40:23.534253Z",
     "shell.execute_reply.started": "2021-05-27T02:39:11.145928Z"
    },
    "papermill": {
     "duration": 0.124918,
     "end_time": "2021-05-27T03:40:23.534422",
     "exception": false,
     "start_time": "2021-05-27T03:40:23.409504",
     "status": "completed"
    },
    "tags": []
   },
   "outputs": [],
   "source": [
    "train['Fare']=np.log(train['Fare']+1)"
   ]
  },
  {
   "cell_type": "code",
   "execution_count": 37,
   "id": "moral-short",
   "metadata": {
    "execution": {
     "iopub.execute_input": "2021-05-27T03:40:23.803931Z",
     "iopub.status.busy": "2021-05-27T03:40:23.797879Z",
     "iopub.status.idle": "2021-05-27T03:40:23.968414Z",
     "shell.execute_reply": "2021-05-27T03:40:23.968922Z",
     "shell.execute_reply.started": "2021-05-27T02:39:12.255344Z"
    },
    "papermill": {
     "duration": 0.317888,
     "end_time": "2021-05-27T03:40:23.969098",
     "exception": false,
     "start_time": "2021-05-27T03:40:23.651210",
     "status": "completed"
    },
    "tags": []
   },
   "outputs": [
    {
     "data": {
      "text/plain": [
       "<AxesSubplot:title={'center':'Log Age distribution'}, ylabel='Density'>"
      ]
     },
     "execution_count": 37,
     "metadata": {},
     "output_type": "execute_result"
    },
    {
     "data": {
      "image/png": "[encoded data removed]",
      "text/plain": [
       "<Figure size 720x432 with 1 Axes>"
      ]
     },
     "metadata": {
      "needs_background": "light"
     },
     "output_type": "display_data"
    }
   ],
   "source": [
    " (train['Age']).plot(kind = 'density', title = 'Log Age distribution', fontsize=14, figsize=(10, 6))"
   ]
  },
  {
   "cell_type": "code",
   "execution_count": 38,
   "id": "dense-philippines",
   "metadata": {
    "execution": {
     "iopub.execute_input": "2021-05-27T03:40:24.234549Z",
     "iopub.status.busy": "2021-05-27T03:40:24.233858Z",
     "iopub.status.idle": "2021-05-27T03:40:24.408420Z",
     "shell.execute_reply": "2021-05-27T03:40:24.407767Z",
     "shell.execute_reply.started": "2021-05-27T02:39:13.275859Z"
    },
    "papermill": {
     "duration": 0.32094,
     "end_time": "2021-05-27T03:40:24.408558",
     "exception": false,
     "start_time": "2021-05-27T03:40:24.087618",
     "status": "completed"
    },
    "tags": []
   },
   "outputs": [
    {
     "data": {
      "text/plain": [
       "<AxesSubplot:title={'center':'Survived'}, ylabel='Density'>"
      ]
     },
     "execution_count": 38,
     "metadata": {},
     "output_type": "execute_result"
    },
    {
     "data": {
      "image/png": "[encoded data removed]",
      "text/plain": [
       "<Figure size 720x432 with 1 Axes>"
      ]
     },
     "metadata": {
      "needs_background": "light"
     },
     "output_type": "display_data"
    }
   ],
   "source": [
    " (train['Survived']).plot(kind = 'density', title = 'Survived', fontsize=14, figsize=(10, 6))"
   ]
  },
  {
   "cell_type": "markdown",
   "id": "fourth-packing",
   "metadata": {
    "papermill": {
     "duration": 0.118922,
     "end_time": "2021-05-27T03:40:24.647909",
     "exception": false,
     "start_time": "2021-05-27T03:40:24.528987",
     "status": "completed"
    },
    "tags": []
   },
   "source": [
    "<p style = \"font-size : 35px; color : #34656d ; font-family : 'Comic Sans MS'; text-align : center; background-color : lightblue; border-radius: 5px 5px;\"><strong>Feature Engineering on Test Dataset</strong></p>"
   ]
  },
  {
   "cell_type": "code",
   "execution_count": 39,
   "id": "leading-projection",
   "metadata": {
    "execution": {
     "iopub.execute_input": "2021-05-27T03:40:24.902453Z",
     "iopub.status.busy": "2021-05-27T03:40:24.901766Z",
     "iopub.status.idle": "2021-05-27T03:40:24.905443Z",
     "shell.execute_reply": "2021-05-27T03:40:24.904870Z",
     "shell.execute_reply.started": "2021-05-27T02:39:17.890549Z"
    },
    "papermill": {
     "duration": 0.13848,
     "end_time": "2021-05-27T03:40:24.905584",
     "exception": false,
     "start_time": "2021-05-27T03:40:24.767104",
     "status": "completed"
    },
    "tags": []
   },
   "outputs": [
    {
     "data": {
      "text/html": [
       "<div>\n",
       "<style scoped>\n",
       "    .dataframe tbody tr th:only-of-type {\n",
       "        vertical-align: middle;\n",
       "    }\n",
       "\n",
       "    .dataframe tbody tr th {\n",
       "        vertical-align: top;\n",
       "    }\n",
       "\n",
       "    .dataframe thead th {\n",
       "        text-align: right;\n",
       "    }\n",
       "</style>\n",
       "<table border=\"1\" class=\"dataframe\">\n",
       "  <thead>\n",
       "    <tr style=\"text-align: right;\">\n",
       "      <th></th>\n",
       "      <th>PassengerId</th>\n",
       "      <th>Pclass</th>\n",
       "      <th>Name</th>\n",
       "      <th>Sex</th>\n",
       "      <th>Age</th>\n",
       "      <th>SibSp</th>\n",
       "      <th>Parch</th>\n",
       "      <th>Ticket</th>\n",
       "      <th>Fare</th>\n",
       "      <th>Cabin</th>\n",
       "      <th>Embarked</th>\n",
       "    </tr>\n",
       "  </thead>\n",
       "  <tbody>\n",
       "    <tr>\n",
       "      <th>0</th>\n",
       "      <td>892</td>\n",
       "      <td>3</td>\n",
       "      <td>Kelly, Mr. James</td>\n",
       "      <td>male</td>\n",
       "      <td>34.5</td>\n",
       "      <td>0</td>\n",
       "      <td>0</td>\n",
       "      <td>330911</td>\n",
       "      <td>7.8292</td>\n",
       "      <td>NaN</td>\n",
       "      <td>Q</td>\n",
       "    </tr>\n",
       "    <tr>\n",
       "      <th>1</th>\n",
       "      <td>893</td>\n",
       "      <td>3</td>\n",
       "      <td>Wilkes, Mrs. James (Ellen Needs)</td>\n",
       "      <td>female</td>\n",
       "      <td>47.0</td>\n",
       "      <td>1</td>\n",
       "      <td>0</td>\n",
       "      <td>363272</td>\n",
       "      <td>7.0000</td>\n",
       "      <td>NaN</td>\n",
       "      <td>S</td>\n",
       "    </tr>\n",
       "    <tr>\n",
       "      <th>2</th>\n",
       "      <td>894</td>\n",
       "      <td>2</td>\n",
       "      <td>Myles, Mr. Thomas Francis</td>\n",
       "      <td>male</td>\n",
       "      <td>62.0</td>\n",
       "      <td>0</td>\n",
       "      <td>0</td>\n",
       "      <td>240276</td>\n",
       "      <td>9.6875</td>\n",
       "      <td>NaN</td>\n",
       "      <td>Q</td>\n",
       "    </tr>\n",
       "    <tr>\n",
       "      <th>3</th>\n",
       "      <td>895</td>\n",
       "      <td>3</td>\n",
       "      <td>Wirz, Mr. Albert</td>\n",
       "      <td>male</td>\n",
       "      <td>27.0</td>\n",
       "      <td>0</td>\n",
       "      <td>0</td>\n",
       "      <td>315154</td>\n",
       "      <td>8.6625</td>\n",
       "      <td>NaN</td>\n",
       "      <td>S</td>\n",
       "    </tr>\n",
       "    <tr>\n",
       "      <th>4</th>\n",
       "      <td>896</td>\n",
       "      <td>3</td>\n",
       "      <td>Hirvonen, Mrs. Alexander (Helga E Lindqvist)</td>\n",
       "      <td>female</td>\n",
       "      <td>22.0</td>\n",
       "      <td>1</td>\n",
       "      <td>1</td>\n",
       "      <td>3101298</td>\n",
       "      <td>12.2875</td>\n",
       "      <td>NaN</td>\n",
       "      <td>S</td>\n",
       "    </tr>\n",
       "  </tbody>\n",
       "</table>\n",
       "</div>"
      ],
      "text/plain": [
       "   PassengerId  Pclass                                          Name     Sex  \\\n",
       "0          892       3                              Kelly, Mr. James    male   \n",
       "1          893       3              Wilkes, Mrs. James (Ellen Needs)  female   \n",
       "2          894       2                     Myles, Mr. Thomas Francis    male   \n",
       "3          895       3                              Wirz, Mr. Albert    male   \n",
       "4          896       3  Hirvonen, Mrs. Alexander (Helga E Lindqvist)  female   \n",
       "\n",
       "    Age  SibSp  Parch   Ticket     Fare Cabin Embarked  \n",
       "0  34.5      0      0   330911   7.8292   NaN        Q  \n",
       "1  47.0      1      0   363272   7.0000   NaN        S  \n",
       "2  62.0      0      0   240276   9.6875   NaN        Q  \n",
       "3  27.0      0      0   315154   8.6625   NaN        S  \n",
       "4  22.0      1      1  3101298  12.2875   NaN        S  "
      ]
     },
     "execution_count": 39,
     "metadata": {},
     "output_type": "execute_result"
    }
   ],
   "source": [
    "test.head()"
   ]
  },
  {
   "cell_type": "code",
   "execution_count": 40,
   "id": "foreign-indie",
   "metadata": {
    "execution": {
     "iopub.execute_input": "2021-05-27T03:40:25.152586Z",
     "iopub.status.busy": "2021-05-27T03:40:25.151963Z",
     "iopub.status.idle": "2021-05-27T03:40:25.154709Z",
     "shell.execute_reply": "2021-05-27T03:40:25.155215Z",
     "shell.execute_reply.started": "2021-05-27T02:39:22.895439Z"
    },
    "papermill": {
     "duration": 0.129618,
     "end_time": "2021-05-27T03:40:25.155383",
     "exception": false,
     "start_time": "2021-05-27T03:40:25.025765",
     "status": "completed"
    },
    "tags": []
   },
   "outputs": [
    {
     "data": {
      "text/plain": [
       "['Name', 'Sex', 'Ticket', 'Cabin', 'Embarked']"
      ]
     },
     "execution_count": 40,
     "metadata": {},
     "output_type": "execute_result"
    }
   ],
   "source": [
    "test_cat_col=list(test.select_dtypes(include='object'))\n",
    "test_cat_col"
   ]
  },
  {
   "cell_type": "code",
   "execution_count": 41,
   "id": "martial-broad",
   "metadata": {
    "execution": {
     "iopub.execute_input": "2021-05-27T03:40:25.399963Z",
     "iopub.status.busy": "2021-05-27T03:40:25.399351Z",
     "iopub.status.idle": "2021-05-27T03:40:25.406105Z",
     "shell.execute_reply": "2021-05-27T03:40:25.406535Z",
     "shell.execute_reply.started": "2021-05-27T02:39:23.595343Z"
    },
    "papermill": {
     "duration": 0.130226,
     "end_time": "2021-05-27T03:40:25.406684",
     "exception": false,
     "start_time": "2021-05-27T03:40:25.276458",
     "status": "completed"
    },
    "tags": []
   },
   "outputs": [
    {
     "data": {
      "text/plain": [
       "['PassengerId', 'Pclass', 'Age', 'SibSp', 'Parch', 'Fare']"
      ]
     },
     "execution_count": 41,
     "metadata": {},
     "output_type": "execute_result"
    }
   ],
   "source": [
    "test_num_col=list(test.select_dtypes(exclude='object'))\n",
    "test_num_col"
   ]
  },
  {
   "cell_type": "code",
   "execution_count": 42,
   "id": "sustained-payment",
   "metadata": {
    "execution": {
     "iopub.execute_input": "2021-05-27T03:40:25.650621Z",
     "iopub.status.busy": "2021-05-27T03:40:25.650011Z",
     "iopub.status.idle": "2021-05-27T03:40:25.656579Z",
     "shell.execute_reply": "2021-05-27T03:40:25.657098Z",
     "shell.execute_reply.started": "2021-05-27T02:39:25.110790Z"
    },
    "papermill": {
     "duration": 0.129846,
     "end_time": "2021-05-27T03:40:25.657265",
     "exception": false,
     "start_time": "2021-05-27T03:40:25.527419",
     "status": "completed"
    },
    "tags": []
   },
   "outputs": [
    {
     "data": {
      "text/plain": [
       "['Cabin']"
      ]
     },
     "execution_count": 42,
     "metadata": {},
     "output_type": "execute_result"
    }
   ],
   "source": [
    "test_missing_cat_col=[col for col in test_cat_col if test[col].isnull().any()]\n",
    "test_missing_cat_col"
   ]
  },
  {
   "cell_type": "code",
   "execution_count": 43,
   "id": "entertaining-overview",
   "metadata": {
    "execution": {
     "iopub.execute_input": "2021-05-27T03:40:25.902726Z",
     "iopub.status.busy": "2021-05-27T03:40:25.902078Z",
     "iopub.status.idle": "2021-05-27T03:40:25.908579Z",
     "shell.execute_reply": "2021-05-27T03:40:25.909156Z",
     "shell.execute_reply.started": "2021-05-27T02:39:27.560709Z"
    },
    "papermill": {
     "duration": 0.131222,
     "end_time": "2021-05-27T03:40:25.909323",
     "exception": false,
     "start_time": "2021-05-27T03:40:25.778101",
     "status": "completed"
    },
    "tags": []
   },
   "outputs": [
    {
     "data": {
      "text/plain": [
       "['Age', 'Fare']"
      ]
     },
     "execution_count": 43,
     "metadata": {},
     "output_type": "execute_result"
    }
   ],
   "source": [
    "test_missing_num_col=[col for col in test_num_col if test[col].isnull().any()]\n",
    "test_missing_num_col"
   ]
  },
  {
   "cell_type": "markdown",
   "id": "european-norman",
   "metadata": {
    "papermill": {
     "duration": 0.122626,
     "end_time": "2021-05-27T03:40:26.154307",
     "exception": false,
     "start_time": "2021-05-27T03:40:26.031681",
     "status": "completed"
    },
    "tags": []
   },
   "source": [
    "<p style = \"font-size : 35px; color : #34656d ; font-family : 'Comic Sans MS'; text-align : center; background-color : lightblue; border-radius: 5px 5px;\"><strong>Missing Values Imputation In Test Dataset</strong></p>"
   ]
  },
  {
   "cell_type": "markdown",
   "id": "attempted-style",
   "metadata": {
    "papermill": {
     "duration": 0.125668,
     "end_time": "2021-05-27T03:40:26.401844",
     "exception": false,
     "start_time": "2021-05-27T03:40:26.276176",
     "status": "completed"
    },
    "tags": []
   },
   "source": [
    "<p style = \"font-size : 20px; color : #34656d ; font-family : 'Comic Sans MS'; text-align : center; background-color : orange; border-radius: 5px 5px;\"><strong>Imputation In Numerical Col</strong></p>"
   ]
  },
  {
   "cell_type": "code",
   "execution_count": 44,
   "id": "suited-vienna",
   "metadata": {
    "execution": {
     "iopub.execute_input": "2021-05-27T03:40:26.646038Z",
     "iopub.status.busy": "2021-05-27T03:40:26.645451Z",
     "iopub.status.idle": "2021-05-27T03:40:26.649937Z",
     "shell.execute_reply": "2021-05-27T03:40:26.650387Z",
     "shell.execute_reply.started": "2021-05-27T02:39:31.561147Z"
    },
    "papermill": {
     "duration": 0.127609,
     "end_time": "2021-05-27T03:40:26.650537",
     "exception": false,
     "start_time": "2021-05-27T03:40:26.522928",
     "status": "completed"
    },
    "tags": []
   },
   "outputs": [],
   "source": [
    "temp1=test[['Age','Fare']]"
   ]
  },
  {
   "cell_type": "code",
   "execution_count": 45,
   "id": "controversial-nudist",
   "metadata": {
    "execution": {
     "iopub.execute_input": "2021-05-27T03:40:26.895782Z",
     "iopub.status.busy": "2021-05-27T03:40:26.895171Z",
     "iopub.status.idle": "2021-05-27T03:40:26.903084Z",
     "shell.execute_reply": "2021-05-27T03:40:26.903504Z",
     "shell.execute_reply.started": "2021-05-27T02:39:32.740692Z"
    },
    "papermill": {
     "duration": 0.132092,
     "end_time": "2021-05-27T03:40:26.903660",
     "exception": false,
     "start_time": "2021-05-27T03:40:26.771568",
     "status": "completed"
    },
    "tags": []
   },
   "outputs": [],
   "source": [
    "imputer=SimpleImputer()\n",
    "imputed_temp1=pd.DataFrame(imputer.fit_transform(temp1))\n",
    "imputed_temp1.columns=temp1.columns"
   ]
  },
  {
   "cell_type": "code",
   "execution_count": 46,
   "id": "descending-marks",
   "metadata": {
    "execution": {
     "iopub.execute_input": "2021-05-27T03:40:27.150774Z",
     "iopub.status.busy": "2021-05-27T03:40:27.150172Z",
     "iopub.status.idle": "2021-05-27T03:40:27.155937Z",
     "shell.execute_reply": "2021-05-27T03:40:27.155305Z",
     "shell.execute_reply.started": "2021-05-27T02:39:36.065692Z"
    },
    "papermill": {
     "duration": 0.130164,
     "end_time": "2021-05-27T03:40:27.156082",
     "exception": false,
     "start_time": "2021-05-27T03:40:27.025918",
     "status": "completed"
    },
    "tags": []
   },
   "outputs": [],
   "source": [
    "test.drop(['Age','Cabin','Name','Fare'],axis=1,inplace=True)"
   ]
  },
  {
   "cell_type": "code",
   "execution_count": 47,
   "id": "composed-pound",
   "metadata": {
    "execution": {
     "iopub.execute_input": "2021-05-27T03:40:27.414393Z",
     "iopub.status.busy": "2021-05-27T03:40:27.407989Z",
     "iopub.status.idle": "2021-05-27T03:40:27.428878Z",
     "shell.execute_reply": "2021-05-27T03:40:27.428370Z",
     "shell.execute_reply.started": "2021-05-27T02:39:39.580347Z"
    },
    "papermill": {
     "duration": 0.151635,
     "end_time": "2021-05-27T03:40:27.429021",
     "exception": false,
     "start_time": "2021-05-27T03:40:27.277386",
     "status": "completed"
    },
    "tags": []
   },
   "outputs": [
    {
     "data": {
      "text/html": [
       "<div>\n",
       "<style scoped>\n",
       "    .dataframe tbody tr th:only-of-type {\n",
       "        vertical-align: middle;\n",
       "    }\n",
       "\n",
       "    .dataframe tbody tr th {\n",
       "        vertical-align: top;\n",
       "    }\n",
       "\n",
       "    .dataframe thead th {\n",
       "        text-align: right;\n",
       "    }\n",
       "</style>\n",
       "<table border=\"1\" class=\"dataframe\">\n",
       "  <thead>\n",
       "    <tr style=\"text-align: right;\">\n",
       "      <th></th>\n",
       "      <th>PassengerId</th>\n",
       "      <th>Pclass</th>\n",
       "      <th>Sex</th>\n",
       "      <th>SibSp</th>\n",
       "      <th>Parch</th>\n",
       "      <th>Ticket</th>\n",
       "      <th>Embarked</th>\n",
       "      <th>Age</th>\n",
       "      <th>Fare</th>\n",
       "    </tr>\n",
       "  </thead>\n",
       "  <tbody>\n",
       "    <tr>\n",
       "      <th>0</th>\n",
       "      <td>892</td>\n",
       "      <td>3</td>\n",
       "      <td>male</td>\n",
       "      <td>0</td>\n",
       "      <td>0</td>\n",
       "      <td>330911</td>\n",
       "      <td>Q</td>\n",
       "      <td>34.50000</td>\n",
       "      <td>7.8292</td>\n",
       "    </tr>\n",
       "    <tr>\n",
       "      <th>1</th>\n",
       "      <td>893</td>\n",
       "      <td>3</td>\n",
       "      <td>female</td>\n",
       "      <td>1</td>\n",
       "      <td>0</td>\n",
       "      <td>363272</td>\n",
       "      <td>S</td>\n",
       "      <td>47.00000</td>\n",
       "      <td>7.0000</td>\n",
       "    </tr>\n",
       "    <tr>\n",
       "      <th>2</th>\n",
       "      <td>894</td>\n",
       "      <td>2</td>\n",
       "      <td>male</td>\n",
       "      <td>0</td>\n",
       "      <td>0</td>\n",
       "      <td>240276</td>\n",
       "      <td>Q</td>\n",
       "      <td>62.00000</td>\n",
       "      <td>9.6875</td>\n",
       "    </tr>\n",
       "    <tr>\n",
       "      <th>3</th>\n",
       "      <td>895</td>\n",
       "      <td>3</td>\n",
       "      <td>male</td>\n",
       "      <td>0</td>\n",
       "      <td>0</td>\n",
       "      <td>315154</td>\n",
       "      <td>S</td>\n",
       "      <td>27.00000</td>\n",
       "      <td>8.6625</td>\n",
       "    </tr>\n",
       "    <tr>\n",
       "      <th>4</th>\n",
       "      <td>896</td>\n",
       "      <td>3</td>\n",
       "      <td>female</td>\n",
       "      <td>1</td>\n",
       "      <td>1</td>\n",
       "      <td>3101298</td>\n",
       "      <td>S</td>\n",
       "      <td>22.00000</td>\n",
       "      <td>12.2875</td>\n",
       "    </tr>\n",
       "    <tr>\n",
       "      <th>...</th>\n",
       "      <td>...</td>\n",
       "      <td>...</td>\n",
       "      <td>...</td>\n",
       "      <td>...</td>\n",
       "      <td>...</td>\n",
       "      <td>...</td>\n",
       "      <td>...</td>\n",
       "      <td>...</td>\n",
       "      <td>...</td>\n",
       "    </tr>\n",
       "    <tr>\n",
       "      <th>413</th>\n",
       "      <td>1305</td>\n",
       "      <td>3</td>\n",
       "      <td>male</td>\n",
       "      <td>0</td>\n",
       "      <td>0</td>\n",
       "      <td>A.5. 3236</td>\n",
       "      <td>S</td>\n",
       "      <td>30.27259</td>\n",
       "      <td>8.0500</td>\n",
       "    </tr>\n",
       "    <tr>\n",
       "      <th>414</th>\n",
       "      <td>1306</td>\n",
       "      <td>1</td>\n",
       "      <td>female</td>\n",
       "      <td>0</td>\n",
       "      <td>0</td>\n",
       "      <td>PC 17758</td>\n",
       "      <td>C</td>\n",
       "      <td>39.00000</td>\n",
       "      <td>108.9000</td>\n",
       "    </tr>\n",
       "    <tr>\n",
       "      <th>415</th>\n",
       "      <td>1307</td>\n",
       "      <td>3</td>\n",
       "      <td>male</td>\n",
       "      <td>0</td>\n",
       "      <td>0</td>\n",
       "      <td>SOTON/O.Q. 3101262</td>\n",
       "      <td>S</td>\n",
       "      <td>38.50000</td>\n",
       "      <td>7.2500</td>\n",
       "    </tr>\n",
       "    <tr>\n",
       "      <th>416</th>\n",
       "      <td>1308</td>\n",
       "      <td>3</td>\n",
       "      <td>male</td>\n",
       "      <td>0</td>\n",
       "      <td>0</td>\n",
       "      <td>359309</td>\n",
       "      <td>S</td>\n",
       "      <td>30.27259</td>\n",
       "      <td>8.0500</td>\n",
       "    </tr>\n",
       "    <tr>\n",
       "      <th>417</th>\n",
       "      <td>1309</td>\n",
       "      <td>3</td>\n",
       "      <td>male</td>\n",
       "      <td>1</td>\n",
       "      <td>1</td>\n",
       "      <td>2668</td>\n",
       "      <td>C</td>\n",
       "      <td>30.27259</td>\n",
       "      <td>22.3583</td>\n",
       "    </tr>\n",
       "  </tbody>\n",
       "</table>\n",
       "<p>418 rows × 9 columns</p>\n",
       "</div>"
      ],
      "text/plain": [
       "     PassengerId  Pclass     Sex  SibSp  Parch              Ticket Embarked  \\\n",
       "0            892       3    male      0      0              330911        Q   \n",
       "1            893       3  female      1      0              363272        S   \n",
       "2            894       2    male      0      0              240276        Q   \n",
       "3            895       3    male      0      0              315154        S   \n",
       "4            896       3  female      1      1             3101298        S   \n",
       "..           ...     ...     ...    ...    ...                 ...      ...   \n",
       "413         1305       3    male      0      0           A.5. 3236        S   \n",
       "414         1306       1  female      0      0            PC 17758        C   \n",
       "415         1307       3    male      0      0  SOTON/O.Q. 3101262        S   \n",
       "416         1308       3    male      0      0              359309        S   \n",
       "417         1309       3    male      1      1                2668        C   \n",
       "\n",
       "          Age      Fare  \n",
       "0    34.50000    7.8292  \n",
       "1    47.00000    7.0000  \n",
       "2    62.00000    9.6875  \n",
       "3    27.00000    8.6625  \n",
       "4    22.00000   12.2875  \n",
       "..        ...       ...  \n",
       "413  30.27259    8.0500  \n",
       "414  39.00000  108.9000  \n",
       "415  38.50000    7.2500  \n",
       "416  30.27259    8.0500  \n",
       "417  30.27259   22.3583  \n",
       "\n",
       "[418 rows x 9 columns]"
      ]
     },
     "execution_count": 47,
     "metadata": {},
     "output_type": "execute_result"
    }
   ],
   "source": [
    "test=pd.concat([test,imputed_temp1],axis=1)\n",
    "test"
   ]
  },
  {
   "cell_type": "markdown",
   "id": "brief-seeker",
   "metadata": {
    "papermill": {
     "duration": 0.121232,
     "end_time": "2021-05-27T03:40:27.672395",
     "exception": false,
     "start_time": "2021-05-27T03:40:27.551163",
     "status": "completed"
    },
    "tags": []
   },
   "source": [
    "<p style = \"font-size : 20px; color : #34656d ; font-family : 'Comic Sans MS'; text-align : center; background-color : orange; border-radius: 5px 5px;\"><strong>Imputation In Categorical Col</strong></p>"
   ]
  },
  {
   "cell_type": "code",
   "execution_count": 48,
   "id": "judicial-craps",
   "metadata": {
    "execution": {
     "iopub.execute_input": "2021-05-27T03:40:27.925290Z",
     "iopub.status.busy": "2021-05-27T03:40:27.921116Z",
     "iopub.status.idle": "2021-05-27T03:40:27.937143Z",
     "shell.execute_reply": "2021-05-27T03:40:27.936630Z",
     "shell.execute_reply.started": "2021-05-27T02:39:55.931227Z"
    },
    "papermill": {
     "duration": 0.14356,
     "end_time": "2021-05-27T03:40:27.937279",
     "exception": false,
     "start_time": "2021-05-27T03:40:27.793719",
     "status": "completed"
    },
    "tags": []
   },
   "outputs": [
    {
     "data": {
      "text/html": [
       "<div>\n",
       "<style scoped>\n",
       "    .dataframe tbody tr th:only-of-type {\n",
       "        vertical-align: middle;\n",
       "    }\n",
       "\n",
       "    .dataframe tbody tr th {\n",
       "        vertical-align: top;\n",
       "    }\n",
       "\n",
       "    .dataframe thead th {\n",
       "        text-align: right;\n",
       "    }\n",
       "</style>\n",
       "<table border=\"1\" class=\"dataframe\">\n",
       "  <thead>\n",
       "    <tr style=\"text-align: right;\">\n",
       "      <th></th>\n",
       "      <th>Sex_male</th>\n",
       "      <th>Embarked_Q</th>\n",
       "      <th>Embarked_S</th>\n",
       "    </tr>\n",
       "  </thead>\n",
       "  <tbody>\n",
       "    <tr>\n",
       "      <th>0</th>\n",
       "      <td>1</td>\n",
       "      <td>1</td>\n",
       "      <td>0</td>\n",
       "    </tr>\n",
       "    <tr>\n",
       "      <th>1</th>\n",
       "      <td>0</td>\n",
       "      <td>0</td>\n",
       "      <td>1</td>\n",
       "    </tr>\n",
       "    <tr>\n",
       "      <th>2</th>\n",
       "      <td>1</td>\n",
       "      <td>1</td>\n",
       "      <td>0</td>\n",
       "    </tr>\n",
       "    <tr>\n",
       "      <th>3</th>\n",
       "      <td>1</td>\n",
       "      <td>0</td>\n",
       "      <td>1</td>\n",
       "    </tr>\n",
       "    <tr>\n",
       "      <th>4</th>\n",
       "      <td>0</td>\n",
       "      <td>0</td>\n",
       "      <td>1</td>\n",
       "    </tr>\n",
       "    <tr>\n",
       "      <th>...</th>\n",
       "      <td>...</td>\n",
       "      <td>...</td>\n",
       "      <td>...</td>\n",
       "    </tr>\n",
       "    <tr>\n",
       "      <th>413</th>\n",
       "      <td>1</td>\n",
       "      <td>0</td>\n",
       "      <td>1</td>\n",
       "    </tr>\n",
       "    <tr>\n",
       "      <th>414</th>\n",
       "      <td>0</td>\n",
       "      <td>0</td>\n",
       "      <td>0</td>\n",
       "    </tr>\n",
       "    <tr>\n",
       "      <th>415</th>\n",
       "      <td>1</td>\n",
       "      <td>0</td>\n",
       "      <td>1</td>\n",
       "    </tr>\n",
       "    <tr>\n",
       "      <th>416</th>\n",
       "      <td>1</td>\n",
       "      <td>0</td>\n",
       "      <td>1</td>\n",
       "    </tr>\n",
       "    <tr>\n",
       "      <th>417</th>\n",
       "      <td>1</td>\n",
       "      <td>0</td>\n",
       "      <td>0</td>\n",
       "    </tr>\n",
       "  </tbody>\n",
       "</table>\n",
       "<p>418 rows × 3 columns</p>\n",
       "</div>"
      ],
      "text/plain": [
       "     Sex_male  Embarked_Q  Embarked_S\n",
       "0           1           1           0\n",
       "1           0           0           1\n",
       "2           1           1           0\n",
       "3           1           0           1\n",
       "4           0           0           1\n",
       "..        ...         ...         ...\n",
       "413         1           0           1\n",
       "414         0           0           0\n",
       "415         1           0           1\n",
       "416         1           0           1\n",
       "417         1           0           0\n",
       "\n",
       "[418 rows x 3 columns]"
      ]
     },
     "execution_count": 48,
     "metadata": {},
     "output_type": "execute_result"
    }
   ],
   "source": [
    "dummy2=pd.get_dummies(test[['Sex','Embarked']],drop_first=True)\n",
    "dummy2"
   ]
  },
  {
   "cell_type": "code",
   "execution_count": 49,
   "id": "motivated-retailer",
   "metadata": {
    "execution": {
     "iopub.execute_input": "2021-05-27T03:40:28.188936Z",
     "iopub.status.busy": "2021-05-27T03:40:28.188287Z",
     "iopub.status.idle": "2021-05-27T03:40:28.192819Z",
     "shell.execute_reply": "2021-05-27T03:40:28.192319Z",
     "shell.execute_reply.started": "2021-05-27T02:40:03.295961Z"
    },
    "papermill": {
     "duration": 0.13369,
     "end_time": "2021-05-27T03:40:28.192957",
     "exception": false,
     "start_time": "2021-05-27T03:40:28.059267",
     "status": "completed"
    },
    "tags": []
   },
   "outputs": [],
   "source": [
    "test.drop(['PassengerId','Sex','Embarked','Ticket'],axis=1,inplace=True)"
   ]
  },
  {
   "cell_type": "code",
   "execution_count": 50,
   "id": "structural-windows",
   "metadata": {
    "execution": {
     "iopub.execute_input": "2021-05-27T03:40:28.454493Z",
     "iopub.status.busy": "2021-05-27T03:40:28.453870Z",
     "iopub.status.idle": "2021-05-27T03:40:28.456871Z",
     "shell.execute_reply": "2021-05-27T03:40:28.457402Z",
     "shell.execute_reply.started": "2021-05-27T02:40:05.820434Z"
    },
    "papermill": {
     "duration": 0.141511,
     "end_time": "2021-05-27T03:40:28.457558",
     "exception": false,
     "start_time": "2021-05-27T03:40:28.316047",
     "status": "completed"
    },
    "tags": []
   },
   "outputs": [
    {
     "data": {
      "text/html": [
       "<div>\n",
       "<style scoped>\n",
       "    .dataframe tbody tr th:only-of-type {\n",
       "        vertical-align: middle;\n",
       "    }\n",
       "\n",
       "    .dataframe tbody tr th {\n",
       "        vertical-align: top;\n",
       "    }\n",
       "\n",
       "    .dataframe thead th {\n",
       "        text-align: right;\n",
       "    }\n",
       "</style>\n",
       "<table border=\"1\" class=\"dataframe\">\n",
       "  <thead>\n",
       "    <tr style=\"text-align: right;\">\n",
       "      <th></th>\n",
       "      <th>Pclass</th>\n",
       "      <th>SibSp</th>\n",
       "      <th>Parch</th>\n",
       "      <th>Age</th>\n",
       "      <th>Fare</th>\n",
       "      <th>Sex_male</th>\n",
       "      <th>Embarked_Q</th>\n",
       "      <th>Embarked_S</th>\n",
       "    </tr>\n",
       "  </thead>\n",
       "  <tbody>\n",
       "    <tr>\n",
       "      <th>0</th>\n",
       "      <td>3</td>\n",
       "      <td>0</td>\n",
       "      <td>0</td>\n",
       "      <td>34.50000</td>\n",
       "      <td>7.8292</td>\n",
       "      <td>1</td>\n",
       "      <td>1</td>\n",
       "      <td>0</td>\n",
       "    </tr>\n",
       "    <tr>\n",
       "      <th>1</th>\n",
       "      <td>3</td>\n",
       "      <td>1</td>\n",
       "      <td>0</td>\n",
       "      <td>47.00000</td>\n",
       "      <td>7.0000</td>\n",
       "      <td>0</td>\n",
       "      <td>0</td>\n",
       "      <td>1</td>\n",
       "    </tr>\n",
       "    <tr>\n",
       "      <th>2</th>\n",
       "      <td>2</td>\n",
       "      <td>0</td>\n",
       "      <td>0</td>\n",
       "      <td>62.00000</td>\n",
       "      <td>9.6875</td>\n",
       "      <td>1</td>\n",
       "      <td>1</td>\n",
       "      <td>0</td>\n",
       "    </tr>\n",
       "    <tr>\n",
       "      <th>3</th>\n",
       "      <td>3</td>\n",
       "      <td>0</td>\n",
       "      <td>0</td>\n",
       "      <td>27.00000</td>\n",
       "      <td>8.6625</td>\n",
       "      <td>1</td>\n",
       "      <td>0</td>\n",
       "      <td>1</td>\n",
       "    </tr>\n",
       "    <tr>\n",
       "      <th>4</th>\n",
       "      <td>3</td>\n",
       "      <td>1</td>\n",
       "      <td>1</td>\n",
       "      <td>22.00000</td>\n",
       "      <td>12.2875</td>\n",
       "      <td>0</td>\n",
       "      <td>0</td>\n",
       "      <td>1</td>\n",
       "    </tr>\n",
       "    <tr>\n",
       "      <th>...</th>\n",
       "      <td>...</td>\n",
       "      <td>...</td>\n",
       "      <td>...</td>\n",
       "      <td>...</td>\n",
       "      <td>...</td>\n",
       "      <td>...</td>\n",
       "      <td>...</td>\n",
       "      <td>...</td>\n",
       "    </tr>\n",
       "    <tr>\n",
       "      <th>413</th>\n",
       "      <td>3</td>\n",
       "      <td>0</td>\n",
       "      <td>0</td>\n",
       "      <td>30.27259</td>\n",
       "      <td>8.0500</td>\n",
       "      <td>1</td>\n",
       "      <td>0</td>\n",
       "      <td>1</td>\n",
       "    </tr>\n",
       "    <tr>\n",
       "      <th>414</th>\n",
       "      <td>1</td>\n",
       "      <td>0</td>\n",
       "      <td>0</td>\n",
       "      <td>39.00000</td>\n",
       "      <td>108.9000</td>\n",
       "      <td>0</td>\n",
       "      <td>0</td>\n",
       "      <td>0</td>\n",
       "    </tr>\n",
       "    <tr>\n",
       "      <th>415</th>\n",
       "      <td>3</td>\n",
       "      <td>0</td>\n",
       "      <td>0</td>\n",
       "      <td>38.50000</td>\n",
       "      <td>7.2500</td>\n",
       "      <td>1</td>\n",
       "      <td>0</td>\n",
       "      <td>1</td>\n",
       "    </tr>\n",
       "    <tr>\n",
       "      <th>416</th>\n",
       "      <td>3</td>\n",
       "      <td>0</td>\n",
       "      <td>0</td>\n",
       "      <td>30.27259</td>\n",
       "      <td>8.0500</td>\n",
       "      <td>1</td>\n",
       "      <td>0</td>\n",
       "      <td>1</td>\n",
       "    </tr>\n",
       "    <tr>\n",
       "      <th>417</th>\n",
       "      <td>3</td>\n",
       "      <td>1</td>\n",
       "      <td>1</td>\n",
       "      <td>30.27259</td>\n",
       "      <td>22.3583</td>\n",
       "      <td>1</td>\n",
       "      <td>0</td>\n",
       "      <td>0</td>\n",
       "    </tr>\n",
       "  </tbody>\n",
       "</table>\n",
       "<p>418 rows × 8 columns</p>\n",
       "</div>"
      ],
      "text/plain": [
       "     Pclass  SibSp  Parch       Age      Fare  Sex_male  Embarked_Q  \\\n",
       "0         3      0      0  34.50000    7.8292         1           1   \n",
       "1         3      1      0  47.00000    7.0000         0           0   \n",
       "2         2      0      0  62.00000    9.6875         1           1   \n",
       "3         3      0      0  27.00000    8.6625         1           0   \n",
       "4         3      1      1  22.00000   12.2875         0           0   \n",
       "..      ...    ...    ...       ...       ...       ...         ...   \n",
       "413       3      0      0  30.27259    8.0500         1           0   \n",
       "414       1      0      0  39.00000  108.9000         0           0   \n",
       "415       3      0      0  38.50000    7.2500         1           0   \n",
       "416       3      0      0  30.27259    8.0500         1           0   \n",
       "417       3      1      1  30.27259   22.3583         1           0   \n",
       "\n",
       "     Embarked_S  \n",
       "0             0  \n",
       "1             1  \n",
       "2             0  \n",
       "3             1  \n",
       "4             1  \n",
       "..          ...  \n",
       "413           1  \n",
       "414           0  \n",
       "415           1  \n",
       "416           1  \n",
       "417           0  \n",
       "\n",
       "[418 rows x 8 columns]"
      ]
     },
     "execution_count": 50,
     "metadata": {},
     "output_type": "execute_result"
    }
   ],
   "source": [
    "test=pd.concat([test,dummy2],axis=1)\n",
    "test"
   ]
  },
  {
   "cell_type": "code",
   "execution_count": 51,
   "id": "normal-fiber",
   "metadata": {
    "execution": {
     "iopub.execute_input": "2021-05-27T03:40:28.706555Z",
     "iopub.status.busy": "2021-05-27T03:40:28.705913Z",
     "iopub.status.idle": "2021-05-27T03:40:28.710607Z",
     "shell.execute_reply": "2021-05-27T03:40:28.711237Z",
     "shell.execute_reply.started": "2021-05-27T02:40:12.631079Z"
    },
    "papermill": {
     "duration": 0.131052,
     "end_time": "2021-05-27T03:40:28.711399",
     "exception": false,
     "start_time": "2021-05-27T03:40:28.580347",
     "status": "completed"
    },
    "tags": []
   },
   "outputs": [
    {
     "data": {
      "text/plain": [
       "(418, 8)"
      ]
     },
     "execution_count": 51,
     "metadata": {},
     "output_type": "execute_result"
    }
   ],
   "source": [
    "test.shape"
   ]
  },
  {
   "cell_type": "markdown",
   "id": "combined-leonard",
   "metadata": {
    "papermill": {
     "duration": 0.122067,
     "end_time": "2021-05-27T03:40:28.957737",
     "exception": false,
     "start_time": "2021-05-27T03:40:28.835670",
     "status": "completed"
    },
    "tags": []
   },
   "source": [
    "<p style = \"font-size : 35px; color : #34656d ; font-family : 'Comic Sans MS'; text-align : center; background-color : lightblue; border-radius: 5px 5px;\"><strong>Removing the Skewness In the Test Data Col</strong></p>"
   ]
  },
  {
   "cell_type": "code",
   "execution_count": 52,
   "id": "mineral-weight",
   "metadata": {
    "execution": {
     "iopub.execute_input": "2021-05-27T03:40:29.207692Z",
     "iopub.status.busy": "2021-05-27T03:40:29.207080Z",
     "iopub.status.idle": "2021-05-27T03:40:29.212503Z",
     "shell.execute_reply": "2021-05-27T03:40:29.212004Z",
     "shell.execute_reply.started": "2021-05-27T02:40:17.557988Z"
    },
    "papermill": {
     "duration": 0.13089,
     "end_time": "2021-05-27T03:40:29.212629",
     "exception": false,
     "start_time": "2021-05-27T03:40:29.081739",
     "status": "completed"
    },
    "tags": []
   },
   "outputs": [],
   "source": [
    "test['Age']=np.log(test['Age'])"
   ]
  },
  {
   "cell_type": "code",
   "execution_count": 53,
   "id": "rising-carter",
   "metadata": {
    "execution": {
     "iopub.execute_input": "2021-05-27T03:40:29.468022Z",
     "iopub.status.busy": "2021-05-27T03:40:29.467330Z",
     "iopub.status.idle": "2021-05-27T03:40:29.469177Z",
     "shell.execute_reply": "2021-05-27T03:40:29.469590Z",
     "shell.execute_reply.started": "2021-05-27T02:40:19.126266Z"
    },
    "papermill": {
     "duration": 0.132585,
     "end_time": "2021-05-27T03:40:29.469760",
     "exception": false,
     "start_time": "2021-05-27T03:40:29.337175",
     "status": "completed"
    },
    "tags": []
   },
   "outputs": [],
   "source": [
    "test['Fare']=np.log(test['Fare']+1)"
   ]
  },
  {
   "cell_type": "code",
   "execution_count": 54,
   "id": "sexual-gentleman",
   "metadata": {
    "execution": {
     "iopub.execute_input": "2021-05-27T03:40:29.723966Z",
     "iopub.status.busy": "2021-05-27T03:40:29.717876Z",
     "iopub.status.idle": "2021-05-27T03:40:29.877456Z",
     "shell.execute_reply": "2021-05-27T03:40:29.876824Z",
     "shell.execute_reply.started": "2021-05-27T02:40:20.575515Z"
    },
    "papermill": {
     "duration": 0.284934,
     "end_time": "2021-05-27T03:40:29.877616",
     "exception": false,
     "start_time": "2021-05-27T03:40:29.592682",
     "status": "completed"
    },
    "tags": []
   },
   "outputs": [
    {
     "data": {
      "text/plain": [
       "<AxesSubplot:title={'center':'Log Age distribution'}, ylabel='Density'>"
      ]
     },
     "execution_count": 54,
     "metadata": {},
     "output_type": "execute_result"
    },
    {
     "data": {
      "image/png": "[encoded data removed]",
      "text/plain": [
       "<Figure size 720x432 with 1 Axes>"
      ]
     },
     "metadata": {
      "needs_background": "light"
     },
     "output_type": "display_data"
    }
   ],
   "source": [
    " (test['Age']).plot(kind = 'density', title = 'Log Age distribution', fontsize=14, figsize=(10, 6))"
   ]
  },
  {
   "cell_type": "markdown",
   "id": "embedded-shepherd",
   "metadata": {
    "papermill": {
     "duration": 0.124113,
     "end_time": "2021-05-27T03:40:30.125283",
     "exception": false,
     "start_time": "2021-05-27T03:40:30.001170",
     "status": "completed"
    },
    "tags": []
   },
   "source": [
    "<p style = \"font-size : 20px; color : #34656d ; font-family : 'Comic Sans MS'; text-align : center; background-color : orange; border-radius: 5px 5px;\"><strong>Removing Target Variable from the Train Dataset</strong></p>"
   ]
  },
  {
   "cell_type": "code",
   "execution_count": 55,
   "id": "boolean-mistress",
   "metadata": {
    "execution": {
     "iopub.execute_input": "2021-05-27T03:40:30.382932Z",
     "iopub.status.busy": "2021-05-27T03:40:30.381929Z",
     "iopub.status.idle": "2021-05-27T03:40:30.385068Z",
     "shell.execute_reply": "2021-05-27T03:40:30.385758Z",
     "shell.execute_reply.started": "2021-05-27T02:40:47.556039Z"
    },
    "papermill": {
     "duration": 0.136054,
     "end_time": "2021-05-27T03:40:30.386012",
     "exception": false,
     "start_time": "2021-05-27T03:40:30.249958",
     "status": "completed"
    },
    "tags": []
   },
   "outputs": [],
   "source": [
    "y=train['Survived']"
   ]
  },
  {
   "cell_type": "code",
   "execution_count": 56,
   "id": "automotive-treatment",
   "metadata": {
    "execution": {
     "iopub.execute_input": "2021-05-27T03:40:30.666692Z",
     "iopub.status.busy": "2021-05-27T03:40:30.666064Z",
     "iopub.status.idle": "2021-05-27T03:40:30.671188Z",
     "shell.execute_reply": "2021-05-27T03:40:30.671744Z",
     "shell.execute_reply.started": "2021-05-27T02:40:48.811145Z"
    },
    "papermill": {
     "duration": 0.132702,
     "end_time": "2021-05-27T03:40:30.671958",
     "exception": false,
     "start_time": "2021-05-27T03:40:30.539256",
     "status": "completed"
    },
    "tags": []
   },
   "outputs": [],
   "source": [
    "train.drop(['Survived'],axis=1,inplace=True)"
   ]
  },
  {
   "cell_type": "code",
   "execution_count": 57,
   "id": "smoking-edward",
   "metadata": {
    "execution": {
     "iopub.execute_input": "2021-05-27T03:40:30.925248Z",
     "iopub.status.busy": "2021-05-27T03:40:30.924425Z",
     "iopub.status.idle": "2021-05-27T03:40:30.936961Z",
     "shell.execute_reply": "2021-05-27T03:40:30.936453Z",
     "shell.execute_reply.started": "2021-05-27T02:40:51.150584Z"
    },
    "papermill": {
     "duration": 0.139735,
     "end_time": "2021-05-27T03:40:30.937101",
     "exception": false,
     "start_time": "2021-05-27T03:40:30.797366",
     "status": "completed"
    },
    "tags": []
   },
   "outputs": [
    {
     "data": {
      "text/html": [
       "<div>\n",
       "<style scoped>\n",
       "    .dataframe tbody tr th:only-of-type {\n",
       "        vertical-align: middle;\n",
       "    }\n",
       "\n",
       "    .dataframe tbody tr th {\n",
       "        vertical-align: top;\n",
       "    }\n",
       "\n",
       "    .dataframe thead th {\n",
       "        text-align: right;\n",
       "    }\n",
       "</style>\n",
       "<table border=\"1\" class=\"dataframe\">\n",
       "  <thead>\n",
       "    <tr style=\"text-align: right;\">\n",
       "      <th></th>\n",
       "      <th>Pclass</th>\n",
       "      <th>SibSp</th>\n",
       "      <th>Parch</th>\n",
       "      <th>Fare</th>\n",
       "      <th>Age</th>\n",
       "      <th>Sex_male</th>\n",
       "      <th>Embarked_Q</th>\n",
       "      <th>Embarked_S</th>\n",
       "    </tr>\n",
       "  </thead>\n",
       "  <tbody>\n",
       "    <tr>\n",
       "      <th>0</th>\n",
       "      <td>3</td>\n",
       "      <td>1</td>\n",
       "      <td>0</td>\n",
       "      <td>2.110213</td>\n",
       "      <td>3.135494</td>\n",
       "      <td>1</td>\n",
       "      <td>0</td>\n",
       "      <td>1</td>\n",
       "    </tr>\n",
       "    <tr>\n",
       "      <th>1</th>\n",
       "      <td>1</td>\n",
       "      <td>1</td>\n",
       "      <td>0</td>\n",
       "      <td>4.280593</td>\n",
       "      <td>3.663562</td>\n",
       "      <td>0</td>\n",
       "      <td>0</td>\n",
       "      <td>0</td>\n",
       "    </tr>\n",
       "    <tr>\n",
       "      <th>2</th>\n",
       "      <td>3</td>\n",
       "      <td>0</td>\n",
       "      <td>0</td>\n",
       "      <td>2.188856</td>\n",
       "      <td>3.295837</td>\n",
       "      <td>0</td>\n",
       "      <td>0</td>\n",
       "      <td>1</td>\n",
       "    </tr>\n",
       "    <tr>\n",
       "      <th>3</th>\n",
       "      <td>1</td>\n",
       "      <td>1</td>\n",
       "      <td>0</td>\n",
       "      <td>3.990834</td>\n",
       "      <td>3.583519</td>\n",
       "      <td>0</td>\n",
       "      <td>0</td>\n",
       "      <td>1</td>\n",
       "    </tr>\n",
       "    <tr>\n",
       "      <th>4</th>\n",
       "      <td>3</td>\n",
       "      <td>0</td>\n",
       "      <td>0</td>\n",
       "      <td>2.202765</td>\n",
       "      <td>3.583519</td>\n",
       "      <td>1</td>\n",
       "      <td>0</td>\n",
       "      <td>1</td>\n",
       "    </tr>\n",
       "  </tbody>\n",
       "</table>\n",
       "</div>"
      ],
      "text/plain": [
       "   Pclass  SibSp  Parch      Fare       Age  Sex_male  Embarked_Q  Embarked_S\n",
       "0       3      1      0  2.110213  3.135494         1           0           1\n",
       "1       1      1      0  4.280593  3.663562         0           0           0\n",
       "2       3      0      0  2.188856  3.295837         0           0           1\n",
       "3       1      1      0  3.990834  3.583519         0           0           1\n",
       "4       3      0      0  2.202765  3.583519         1           0           1"
      ]
     },
     "execution_count": 57,
     "metadata": {},
     "output_type": "execute_result"
    }
   ],
   "source": [
    "train.head()"
   ]
  },
  {
   "cell_type": "code",
   "execution_count": 58,
   "id": "optional-election",
   "metadata": {
    "execution": {
     "iopub.execute_input": "2021-05-27T03:40:31.200612Z",
     "iopub.status.busy": "2021-05-27T03:40:31.199951Z",
     "iopub.status.idle": "2021-05-27T03:40:31.202668Z",
     "shell.execute_reply": "2021-05-27T03:40:31.203190Z",
     "shell.execute_reply.started": "2021-05-27T02:40:52.680246Z"
    },
    "papermill": {
     "duration": 0.141004,
     "end_time": "2021-05-27T03:40:31.203348",
     "exception": false,
     "start_time": "2021-05-27T03:40:31.062344",
     "status": "completed"
    },
    "tags": []
   },
   "outputs": [
    {
     "data": {
      "text/html": [
       "<div>\n",
       "<style scoped>\n",
       "    .dataframe tbody tr th:only-of-type {\n",
       "        vertical-align: middle;\n",
       "    }\n",
       "\n",
       "    .dataframe tbody tr th {\n",
       "        vertical-align: top;\n",
       "    }\n",
       "\n",
       "    .dataframe thead th {\n",
       "        text-align: right;\n",
       "    }\n",
       "</style>\n",
       "<table border=\"1\" class=\"dataframe\">\n",
       "  <thead>\n",
       "    <tr style=\"text-align: right;\">\n",
       "      <th></th>\n",
       "      <th>Pclass</th>\n",
       "      <th>SibSp</th>\n",
       "      <th>Parch</th>\n",
       "      <th>Age</th>\n",
       "      <th>Fare</th>\n",
       "      <th>Sex_male</th>\n",
       "      <th>Embarked_Q</th>\n",
       "      <th>Embarked_S</th>\n",
       "    </tr>\n",
       "  </thead>\n",
       "  <tbody>\n",
       "    <tr>\n",
       "      <th>0</th>\n",
       "      <td>3</td>\n",
       "      <td>0</td>\n",
       "      <td>0</td>\n",
       "      <td>3.540959</td>\n",
       "      <td>2.178064</td>\n",
       "      <td>1</td>\n",
       "      <td>1</td>\n",
       "      <td>0</td>\n",
       "    </tr>\n",
       "    <tr>\n",
       "      <th>1</th>\n",
       "      <td>3</td>\n",
       "      <td>1</td>\n",
       "      <td>0</td>\n",
       "      <td>3.850148</td>\n",
       "      <td>2.079442</td>\n",
       "      <td>0</td>\n",
       "      <td>0</td>\n",
       "      <td>1</td>\n",
       "    </tr>\n",
       "    <tr>\n",
       "      <th>2</th>\n",
       "      <td>2</td>\n",
       "      <td>0</td>\n",
       "      <td>0</td>\n",
       "      <td>4.127134</td>\n",
       "      <td>2.369075</td>\n",
       "      <td>1</td>\n",
       "      <td>1</td>\n",
       "      <td>0</td>\n",
       "    </tr>\n",
       "    <tr>\n",
       "      <th>3</th>\n",
       "      <td>3</td>\n",
       "      <td>0</td>\n",
       "      <td>0</td>\n",
       "      <td>3.295837</td>\n",
       "      <td>2.268252</td>\n",
       "      <td>1</td>\n",
       "      <td>0</td>\n",
       "      <td>1</td>\n",
       "    </tr>\n",
       "    <tr>\n",
       "      <th>4</th>\n",
       "      <td>3</td>\n",
       "      <td>1</td>\n",
       "      <td>1</td>\n",
       "      <td>3.091042</td>\n",
       "      <td>2.586824</td>\n",
       "      <td>0</td>\n",
       "      <td>0</td>\n",
       "      <td>1</td>\n",
       "    </tr>\n",
       "  </tbody>\n",
       "</table>\n",
       "</div>"
      ],
      "text/plain": [
       "   Pclass  SibSp  Parch       Age      Fare  Sex_male  Embarked_Q  Embarked_S\n",
       "0       3      0      0  3.540959  2.178064         1           1           0\n",
       "1       3      1      0  3.850148  2.079442         0           0           1\n",
       "2       2      0      0  4.127134  2.369075         1           1           0\n",
       "3       3      0      0  3.295837  2.268252         1           0           1\n",
       "4       3      1      1  3.091042  2.586824         0           0           1"
      ]
     },
     "execution_count": 58,
     "metadata": {},
     "output_type": "execute_result"
    }
   ],
   "source": [
    "test.head()"
   ]
  },
  {
   "cell_type": "code",
   "execution_count": 59,
   "id": "daily-cisco",
   "metadata": {
    "execution": {
     "iopub.execute_input": "2021-05-27T03:40:31.459285Z",
     "iopub.status.busy": "2021-05-27T03:40:31.458676Z",
     "iopub.status.idle": "2021-05-27T03:40:31.463185Z",
     "shell.execute_reply": "2021-05-27T03:40:31.463729Z",
     "shell.execute_reply.started": "2021-05-27T02:40:54.460439Z"
    },
    "papermill": {
     "duration": 0.13417,
     "end_time": "2021-05-27T03:40:31.463920",
     "exception": false,
     "start_time": "2021-05-27T03:40:31.329750",
     "status": "completed"
    },
    "tags": []
   },
   "outputs": [
    {
     "data": {
      "text/plain": [
       "((891, 8), (418, 8))"
      ]
     },
     "execution_count": 59,
     "metadata": {},
     "output_type": "execute_result"
    }
   ],
   "source": [
    "train.shape,test.shape"
   ]
  },
  {
   "cell_type": "markdown",
   "id": "occupied-bunch",
   "metadata": {
    "papermill": {
     "duration": 0.125779,
     "end_time": "2021-05-27T03:40:31.716095",
     "exception": false,
     "start_time": "2021-05-27T03:40:31.590316",
     "status": "completed"
    },
    "tags": []
   },
   "source": [
    "<p style = \"font-size : 35px; color : #34656d ; font-family : 'Comic Sans MS'; text-align : center; background-color : lightblue; border-radius: 5px 5px;\"><strong>Model Building</strong></p>"
   ]
  },
  {
   "cell_type": "markdown",
   "id": "editorial-benchmark",
   "metadata": {
    "papermill": {
     "duration": 0.129949,
     "end_time": "2021-05-27T03:40:31.971167",
     "exception": false,
     "start_time": "2021-05-27T03:40:31.841218",
     "status": "completed"
    },
    "tags": []
   },
   "source": [
    "<p style = \"font-size : 25px; color : #34656d ; font-family : 'Comic Sans MS'; text-align : center; background-color : lightgreen; border-radius: 5px 5px;\"><strong>Logistic Regression</strong></p>"
   ]
  },
  {
   "cell_type": "code",
   "execution_count": 60,
   "id": "chronic-selling",
   "metadata": {
    "execution": {
     "iopub.execute_input": "2021-05-27T03:40:32.241760Z",
     "iopub.status.busy": "2021-05-27T03:40:32.241136Z",
     "iopub.status.idle": "2021-05-27T03:40:32.248550Z",
     "shell.execute_reply": "2021-05-27T03:40:32.247839Z",
     "shell.execute_reply.started": "2021-05-27T02:40:59.755772Z"
    },
    "papermill": {
     "duration": 0.145876,
     "end_time": "2021-05-27T03:40:32.248747",
     "exception": false,
     "start_time": "2021-05-27T03:40:32.102871",
     "status": "completed"
    },
    "tags": []
   },
   "outputs": [],
   "source": [
    "x_train,x_test,y_train,y_test=train_test_split(train,y,random_state=42)"
   ]
  },
  {
   "cell_type": "code",
   "execution_count": 61,
   "id": "mechanical-arcade",
   "metadata": {
    "execution": {
     "iopub.execute_input": "2021-05-27T03:40:32.516129Z",
     "iopub.status.busy": "2021-05-27T03:40:32.515469Z",
     "iopub.status.idle": "2021-05-27T03:40:33.697442Z",
     "shell.execute_reply": "2021-05-27T03:40:33.696448Z",
     "shell.execute_reply.started": "2021-05-27T02:41:01.795944Z"
    },
    "papermill": {
     "duration": 1.317123,
     "end_time": "2021-05-27T03:40:33.697595",
     "exception": false,
     "start_time": "2021-05-27T03:40:32.380472",
     "status": "completed"
    },
    "tags": []
   },
   "outputs": [
    {
     "data": {
      "text/plain": [
       "array([0, 0, 0, 1, 1, 1, 1, 0, 1, 1, 0, 0, 0, 0, 0, 1, 0, 1, 0, 0, 0, 0,\n",
       "       1, 0, 0, 0, 0, 0, 0, 1, 0, 1, 1, 1, 0, 0, 0, 1, 1, 0, 0, 0, 0, 0,\n",
       "       1, 0, 0, 0, 0, 0, 1, 1, 0, 1, 0, 1, 0, 1, 1, 1, 0, 1, 1, 0, 0, 1,\n",
       "       0, 0, 0, 1, 1, 1, 1, 1, 0, 0, 1, 1, 1, 0, 0, 1, 1, 0, 0, 0, 1, 1,\n",
       "       0, 0, 0, 0, 0, 0, 0, 0, 0, 0, 1, 0, 0, 0, 1, 0, 0, 0, 1, 0, 0, 0,\n",
       "       1, 0, 1, 0, 1, 0, 0, 0, 1, 0, 0, 1, 1, 1, 0, 0, 1, 1, 1, 0, 1, 0,\n",
       "       0, 1, 0, 1, 1, 0, 0, 1, 0, 1, 0, 0, 0, 1, 0, 0, 1, 0, 0, 0, 0, 1,\n",
       "       0, 0, 0, 1, 1, 1, 0, 0, 0, 1, 0, 0, 0, 1, 0, 0, 1, 1, 0, 1, 0, 0,\n",
       "       0, 1, 1, 0, 0, 0, 0, 0, 1, 0, 0, 0, 0, 1, 0, 0, 0, 0, 1, 1, 1, 0,\n",
       "       1, 0, 0, 1, 1, 0, 0, 1, 0, 0, 0, 0, 1, 0, 1, 0, 0, 0, 1, 0, 1, 0,\n",
       "       0, 1, 0])"
      ]
     },
     "execution_count": 61,
     "metadata": {},
     "output_type": "execute_result"
    }
   ],
   "source": [
    "logistic=LogisticRegression(max_iter=100,random_state=1,n_jobs=-1)\n",
    "logistic.fit(x_train,y_train)\n",
    "pred1=logistic.predict(x_test)\n",
    "pred1"
   ]
  },
  {
   "cell_type": "code",
   "execution_count": 62,
   "id": "political-fleet",
   "metadata": {
    "execution": {
     "iopub.execute_input": "2021-05-27T03:40:33.955018Z",
     "iopub.status.busy": "2021-05-27T03:40:33.954311Z",
     "iopub.status.idle": "2021-05-27T03:40:33.958469Z",
     "shell.execute_reply": "2021-05-27T03:40:33.959011Z",
     "shell.execute_reply.started": "2021-05-27T02:44:54.376654Z"
    },
    "papermill": {
     "duration": 0.13581,
     "end_time": "2021-05-27T03:40:33.959178",
     "exception": false,
     "start_time": "2021-05-27T03:40:33.823368",
     "status": "completed"
    },
    "tags": []
   },
   "outputs": [
    {
     "name": "stdout",
     "output_type": "stream",
     "text": [
      "The train accuracy is 0.812874251497006\n",
      "Logistic Regresson model accuracy score: 0.8072\n"
     ]
    }
   ],
   "source": [
    "print(f'The train accuracy is {logistic.score(x_train,y_train)}')\n",
    "from sklearn.metrics import accuracy_score\n",
    "print('Logistic Regresson model accuracy score: {0:0.4f}'. format(accuracy_score(y_test, pred1)))"
   ]
  },
  {
   "cell_type": "markdown",
   "id": "israeli-toyota",
   "metadata": {
    "papermill": {
     "duration": 0.127267,
     "end_time": "2021-05-27T03:40:34.211722",
     "exception": false,
     "start_time": "2021-05-27T03:40:34.084455",
     "status": "completed"
    },
    "tags": []
   },
   "source": [
    "<p style = \"font-size : 25px; color : #34656d ; font-family : 'Comic Sans MS'; text-align : center; background-color : lightgreen; border-radius: 5px 5px;\"><strong>Random Forest Classifier</strong></p>"
   ]
  },
  {
   "cell_type": "markdown",
   "id": "mediterranean-nomination",
   "metadata": {
    "papermill": {
     "duration": 0.125828,
     "end_time": "2021-05-27T03:40:34.464941",
     "exception": false,
     "start_time": "2021-05-27T03:40:34.339113",
     "status": "completed"
    },
    "tags": []
   },
   "source": [
    "# Hyperparameter tuning"
   ]
  },
  {
   "cell_type": "code",
   "execution_count": 63,
   "id": "involved-beaver",
   "metadata": {
    "execution": {
     "iopub.execute_input": "2021-05-27T03:40:34.720791Z",
     "iopub.status.busy": "2021-05-27T03:40:34.720103Z",
     "iopub.status.idle": "2021-05-27T03:40:34.722564Z",
     "shell.execute_reply": "2021-05-27T03:40:34.723021Z"
    },
    "papermill": {
     "duration": 0.132563,
     "end_time": "2021-05-27T03:40:34.723183",
     "exception": false,
     "start_time": "2021-05-27T03:40:34.590620",
     "status": "completed"
    },
    "tags": []
   },
   "outputs": [],
   "source": [
    "# param_grid = { \"criterion\" : [\"gini\",\"entropy\"], \"min_samples_leaf\" : [1, 5, 10, 25, 50, 70], \n",
    "#               \"min_samples_split\" : [2, 4, 10, 12, 16, 18, 25, 35], \"n_estimators\": [100, 400, 700, 1000, 1500]}\n",
    "# rf = RandomForestClassifier(n_estimators=100, max_features='auto', oob_score=True, random_state=1, n_jobs=-1)\n",
    "# clf = GridSearchCV(estimator=rf, param_grid=param_grid, n_jobs=-1)\n",
    "# clf.fit(x_train, y_train)\n",
    "# clf.best_params_"
   ]
  },
  {
   "cell_type": "markdown",
   "id": "surprised-shark",
   "metadata": {
    "papermill": {
     "duration": 0.123889,
     "end_time": "2021-05-27T03:40:34.974196",
     "exception": false,
     "start_time": "2021-05-27T03:40:34.850307",
     "status": "completed"
    },
    "tags": []
   },
   "source": [
    "# Now buliding the model with best parameters"
   ]
  },
  {
   "cell_type": "code",
   "execution_count": 64,
   "id": "rational-nigeria",
   "metadata": {
    "execution": {
     "iopub.execute_input": "2021-05-27T03:40:35.234097Z",
     "iopub.status.busy": "2021-05-27T03:40:35.233452Z",
     "iopub.status.idle": "2021-05-27T03:40:35.753247Z",
     "shell.execute_reply": "2021-05-27T03:40:35.752683Z",
     "shell.execute_reply.started": "2021-05-27T02:45:13.447069Z"
    },
    "papermill": {
     "duration": 0.653101,
     "end_time": "2021-05-27T03:40:35.753381",
     "exception": false,
     "start_time": "2021-05-27T03:40:35.100280",
     "status": "completed"
    },
    "tags": []
   },
   "outputs": [
    {
     "name": "stdout",
     "output_type": "stream",
     "text": [
      "oob score: 82.34 %\n"
     ]
    }
   ],
   "source": [
    "random_forest = RandomForestClassifier(criterion = \"entropy\", \n",
    "                                       min_samples_leaf = 1, \n",
    "                                       min_samples_split = 12,\n",
    "                                       n_estimators=100, \n",
    "                                       max_features='auto', \n",
    "                                       oob_score=True, \n",
    "                                       random_state=42, \n",
    "                                       n_jobs=-1)\n",
    "\n",
    "random_forest.fit(x_train, y_train)\n",
    "pred2 = random_forest.predict(x_test)\n",
    "\n",
    "random_forest.score(x_train, y_train)\n",
    "\n",
    "print(\"oob score:\", round(random_forest.oob_score_, 4)*100, \"%\")"
   ]
  },
  {
   "cell_type": "code",
   "execution_count": 65,
   "id": "afraid-rolling",
   "metadata": {
    "execution": {
     "iopub.execute_input": "2021-05-27T03:40:36.011129Z",
     "iopub.status.busy": "2021-05-27T03:40:36.010188Z",
     "iopub.status.idle": "2021-05-27T03:40:36.014526Z",
     "shell.execute_reply": "2021-05-27T03:40:36.013681Z",
     "shell.execute_reply.started": "2021-05-27T02:45:59.751067Z"
    },
    "papermill": {
     "duration": 0.135988,
     "end_time": "2021-05-27T03:40:36.014712",
     "exception": false,
     "start_time": "2021-05-27T03:40:35.878724",
     "status": "completed"
    },
    "tags": []
   },
   "outputs": [
    {
     "name": "stdout",
     "output_type": "stream",
     "text": [
      "Random Forest Classifier model accuracy score: 0.8251\n"
     ]
    }
   ],
   "source": [
    "print('Random Forest Classifier model accuracy score: {0:0.4f}'. format(accuracy_score(y_test, pred2)))"
   ]
  },
  {
   "cell_type": "markdown",
   "id": "cognitive-thanksgiving",
   "metadata": {
    "papermill": {
     "duration": 0.12549,
     "end_time": "2021-05-27T03:40:36.269045",
     "exception": false,
     "start_time": "2021-05-27T03:40:36.143555",
     "status": "completed"
    },
    "tags": []
   },
   "source": [
    "<p style = \"font-size : 25px; color : #34656d ; font-family : 'Comic Sans MS'; text-align : center; background-color : lightgreen; border-radius: 5px 5px;\"><strong> Stochastic Gradient Descent (SGD)</strong></p>"
   ]
  },
  {
   "cell_type": "code",
   "execution_count": 66,
   "id": "stretch-vienna",
   "metadata": {
    "execution": {
     "iopub.execute_input": "2021-05-27T03:40:36.531434Z",
     "iopub.status.busy": "2021-05-27T03:40:36.530720Z",
     "iopub.status.idle": "2021-05-27T03:40:36.546873Z",
     "shell.execute_reply": "2021-05-27T03:40:36.546281Z",
     "shell.execute_reply.started": "2021-05-27T02:46:44.950519Z"
    },
    "papermill": {
     "duration": 0.14723,
     "end_time": "2021-05-27T03:40:36.547010",
     "exception": false,
     "start_time": "2021-05-27T03:40:36.399780",
     "status": "completed"
    },
    "tags": []
   },
   "outputs": [
    {
     "data": {
      "text/plain": [
       "78.59"
      ]
     },
     "execution_count": 66,
     "metadata": {},
     "output_type": "execute_result"
    }
   ],
   "source": [
    "sgd = SGDClassifier(random_state=42)\n",
    "sgd.fit(x_train, y_train)\n",
    "pred3 = sgd.predict(x_test)\n",
    "\n",
    "sgd.score(x_train, y_train)\n",
    "\n",
    "acc_sgd = round(sgd.score(x_train, y_train) * 100, 2)\n",
    "acc_sgd"
   ]
  },
  {
   "cell_type": "code",
   "execution_count": 67,
   "id": "precise-trust",
   "metadata": {
    "execution": {
     "iopub.execute_input": "2021-05-27T03:40:36.803576Z",
     "iopub.status.busy": "2021-05-27T03:40:36.802645Z",
     "iopub.status.idle": "2021-05-27T03:40:36.806577Z",
     "shell.execute_reply": "2021-05-27T03:40:36.807152Z",
     "shell.execute_reply.started": "2021-05-27T02:47:06.221497Z"
    },
    "papermill": {
     "duration": 0.13489,
     "end_time": "2021-05-27T03:40:36.807310",
     "exception": false,
     "start_time": "2021-05-27T03:40:36.672420",
     "status": "completed"
    },
    "tags": []
   },
   "outputs": [
    {
     "name": "stdout",
     "output_type": "stream",
     "text": [
      "Stochastic Gradient Descent (SGD) model accuracy score: 0.7982\n"
     ]
    }
   ],
   "source": [
    "print('Stochastic Gradient Descent (SGD) model accuracy score: {0:0.4f}'. format(accuracy_score(y_test, pred3)))"
   ]
  },
  {
   "cell_type": "markdown",
   "id": "rotary-nothing",
   "metadata": {
    "papermill": {
     "duration": 0.127657,
     "end_time": "2021-05-27T03:40:37.061454",
     "exception": false,
     "start_time": "2021-05-27T03:40:36.933797",
     "status": "completed"
    },
    "tags": []
   },
   "source": [
    "# Hyperparameter tuning"
   ]
  },
  {
   "cell_type": "code",
   "execution_count": 68,
   "id": "urban-commons",
   "metadata": {
    "execution": {
     "iopub.execute_input": "2021-05-27T03:40:37.322276Z",
     "iopub.status.busy": "2021-05-27T03:40:37.321582Z",
     "iopub.status.idle": "2021-05-27T03:40:39.418181Z",
     "shell.execute_reply": "2021-05-27T03:40:39.417672Z",
     "shell.execute_reply.started": "2021-05-27T02:47:25.331389Z"
    },
    "papermill": {
     "duration": 2.228133,
     "end_time": "2021-05-27T03:40:39.418330",
     "exception": false,
     "start_time": "2021-05-27T03:40:37.190197",
     "status": "completed"
    },
    "tags": []
   },
   "outputs": [
    {
     "name": "stdout",
     "output_type": "stream",
     "text": [
      "{'alpha': 0.01, 'loss': 'log', 'penalty': 'l2'}\n",
      "0.8024875621890546\n"
     ]
    }
   ],
   "source": [
    "\n",
    "sgdc=SGDClassifier(random_state=0)\n",
    "\n",
    "parameters = {\n",
    "            'alpha':[0.00001, 0.0001, 0.001, 0.01, 0.1, 1], \n",
    "             'loss':['hinge','log'], 'penalty':['l1','l2']}\n",
    "searcher = GridSearchCV(sgdc, parameters, cv=10)\n",
    "searcher.fit(x_train, y_train)\n",
    "print(searcher.best_params_)\n",
    "print(searcher.best_score_)"
   ]
  },
  {
   "cell_type": "markdown",
   "id": "paperback-crack",
   "metadata": {
    "papermill": {
     "duration": 0.127167,
     "end_time": "2021-05-27T03:40:39.671500",
     "exception": false,
     "start_time": "2021-05-27T03:40:39.544333",
     "status": "completed"
    },
    "tags": []
   },
   "source": [
    "# Now buliding the model with best parameters"
   ]
  },
  {
   "cell_type": "code",
   "execution_count": 69,
   "id": "outer-agent",
   "metadata": {
    "execution": {
     "iopub.execute_input": "2021-05-27T03:40:39.934229Z",
     "iopub.status.busy": "2021-05-27T03:40:39.933337Z",
     "iopub.status.idle": "2021-05-27T03:40:39.943748Z",
     "shell.execute_reply": "2021-05-27T03:40:39.943247Z",
     "shell.execute_reply.started": "2021-05-27T02:48:25.921974Z"
    },
    "papermill": {
     "duration": 0.146174,
     "end_time": "2021-05-27T03:40:39.943895",
     "exception": false,
     "start_time": "2021-05-27T03:40:39.797721",
     "status": "completed"
    },
    "tags": []
   },
   "outputs": [
    {
     "data": {
      "text/plain": [
       "array([0, 0, 0, 1, 1, 1, 1, 0, 1, 1, 1, 0, 1, 0, 0, 1, 0, 1, 0, 1, 0, 0,\n",
       "       1, 0, 0, 0, 1, 0, 0, 1, 0, 1, 1, 1, 0, 0, 1, 1, 1, 0, 0, 0, 0, 0,\n",
       "       1, 0, 0, 0, 0, 1, 1, 1, 0, 1, 0, 1, 0, 1, 1, 1, 0, 1, 1, 1, 0, 1,\n",
       "       1, 0, 0, 1, 1, 1, 1, 1, 0, 0, 1, 1, 1, 1, 0, 1, 1, 0, 1, 1, 1, 1,\n",
       "       0, 0, 0, 1, 0, 0, 0, 0, 0, 0, 1, 0, 0, 0, 1, 0, 0, 0, 1, 1, 0, 1,\n",
       "       1, 0, 1, 0, 1, 0, 1, 0, 1, 1, 0, 1, 1, 1, 0, 1, 1, 1, 1, 0, 1, 0,\n",
       "       0, 1, 1, 1, 1, 0, 0, 1, 0, 1, 0, 0, 1, 1, 0, 0, 1, 0, 0, 0, 0, 1,\n",
       "       0, 0, 0, 1, 1, 1, 0, 1, 0, 1, 0, 1, 0, 1, 0, 0, 1, 1, 0, 1, 0, 0,\n",
       "       1, 1, 1, 0, 0, 0, 0, 1, 1, 0, 0, 0, 1, 1, 0, 0, 0, 0, 1, 1, 1, 0,\n",
       "       1, 1, 0, 1, 1, 1, 0, 1, 0, 1, 0, 0, 1, 0, 1, 0, 1, 0, 1, 1, 1, 0,\n",
       "       0, 1, 0])"
      ]
     },
     "execution_count": 69,
     "metadata": {},
     "output_type": "execute_result"
    }
   ],
   "source": [
    "sgd = SGDClassifier(random_state=0,alpha=0.01,loss='log',penalty='l2')\n",
    "sgd.fit(x_train, y_train)\n",
    "pred3 = sgd.predict(x_test)\n",
    "pred3"
   ]
  },
  {
   "cell_type": "code",
   "execution_count": 70,
   "id": "dominant-suite",
   "metadata": {
    "execution": {
     "iopub.execute_input": "2021-05-27T03:40:40.201759Z",
     "iopub.status.busy": "2021-05-27T03:40:40.201146Z",
     "iopub.status.idle": "2021-05-27T03:40:40.206894Z",
     "shell.execute_reply": "2021-05-27T03:40:40.207328Z",
     "shell.execute_reply.started": "2021-05-27T02:48:49.972698Z"
    },
    "papermill": {
     "duration": 0.136844,
     "end_time": "2021-05-27T03:40:40.207491",
     "exception": false,
     "start_time": "2021-05-27T03:40:40.070647",
     "status": "completed"
    },
    "tags": []
   },
   "outputs": [
    {
     "name": "stdout",
     "output_type": "stream",
     "text": [
      "Stochastic Gradient Descent (SGD) tuned model accuracy score: 0.7578\n"
     ]
    }
   ],
   "source": [
    "print('Stochastic Gradient Descent (SGD) tuned model accuracy score: {0:0.4f}'. format(accuracy_score(y_test, pred3)))"
   ]
  },
  {
   "cell_type": "markdown",
   "id": "rubber-acting",
   "metadata": {
    "papermill": {
     "duration": 0.128461,
     "end_time": "2021-05-27T03:40:40.506737",
     "exception": false,
     "start_time": "2021-05-27T03:40:40.378276",
     "status": "completed"
    },
    "tags": []
   },
   "source": []
  },
  {
   "cell_type": "markdown",
   "id": "closed-excess",
   "metadata": {
    "papermill": {
     "duration": 0.126937,
     "end_time": "2021-05-27T03:40:40.761910",
     "exception": false,
     "start_time": "2021-05-27T03:40:40.634973",
     "status": "completed"
    },
    "tags": []
   },
   "source": [
    "<p style = \"font-size : 25px; color : #34656d ; font-family : 'Comic Sans MS'; text-align : center; background-color : lightgreen; border-radius: 5px 5px;\"><strong> K Nearest Neighbor (KNN)</strong></p>"
   ]
  },
  {
   "cell_type": "code",
   "execution_count": 71,
   "id": "divine-crossing",
   "metadata": {
    "execution": {
     "iopub.execute_input": "2021-05-27T03:40:41.027226Z",
     "iopub.status.busy": "2021-05-27T03:40:41.026571Z",
     "iopub.status.idle": "2021-05-27T03:40:41.074886Z",
     "shell.execute_reply": "2021-05-27T03:40:41.073994Z",
     "shell.execute_reply.started": "2021-05-27T02:50:57.977217Z"
    },
    "papermill": {
     "duration": 0.18473,
     "end_time": "2021-05-27T03:40:41.075070",
     "exception": false,
     "start_time": "2021-05-27T03:40:40.890340",
     "status": "completed"
    },
    "tags": []
   },
   "outputs": [
    {
     "name": "stdout",
     "output_type": "stream",
     "text": [
      "Stochastic Gradient Descent (SGD) model train accuracy score: 88.9200\n",
      "Stochastic Gradient Descent (SGD) model accuracy score: 0.8117\n"
     ]
    }
   ],
   "source": [
    "knn = KNeighborsClassifier(n_neighbors = 3)\n",
    "knn.fit(x_train, y_train) \n",
    "pred4 = knn.predict(x_test)  \n",
    "acc_knn = round(knn.score(x_train, y_train) * 100, 2)\n",
    "print('Stochastic Gradient Descent (SGD) model train accuracy score: {0:0.4f}'. format(acc_knn))\n",
    "print('Stochastic Gradient Descent (SGD) model accuracy score: {0:0.4f}'. format(accuracy_score(y_test, pred4)))"
   ]
  },
  {
   "cell_type": "markdown",
   "id": "reasonable-thumb",
   "metadata": {
    "papermill": {
     "duration": 0.128458,
     "end_time": "2021-05-27T03:40:41.333843",
     "exception": false,
     "start_time": "2021-05-27T03:40:41.205385",
     "status": "completed"
    },
    "tags": []
   },
   "source": [
    "<p style = \"font-size : 25px; color : #34656d ; font-family : 'Comic Sans MS'; text-align : center; background-color : lightgreen; border-radius: 5px 5px;\"><strong>Linear Support Vector Machine</strong></p># Linear Support Vector Machine"
   ]
  },
  {
   "cell_type": "code",
   "execution_count": 72,
   "id": "statewide-costs",
   "metadata": {
    "execution": {
     "iopub.execute_input": "2021-05-27T03:40:41.633354Z",
     "iopub.status.busy": "2021-05-27T03:40:41.632612Z",
     "iopub.status.idle": "2021-05-27T03:40:41.681779Z",
     "shell.execute_reply": "2021-05-27T03:40:41.680861Z",
     "shell.execute_reply.started": "2021-05-27T02:52:13.484683Z"
    },
    "papermill": {
     "duration": 0.193046,
     "end_time": "2021-05-27T03:40:41.681947",
     "exception": false,
     "start_time": "2021-05-27T03:40:41.488901",
     "status": "completed"
    },
    "tags": []
   },
   "outputs": [
    {
     "name": "stdout",
     "output_type": "stream",
     "text": [
      "Linear Support Vector Machine model train accuracy score: 81.5900\n",
      "Linear Support Vector Machine model accuracy score: 0.7982\n"
     ]
    }
   ],
   "source": [
    "linear_svc = LinearSVC(max_iter=100000,dual=True)\n",
    "linear_svc.fit(x_train, y_train)\n",
    "\n",
    "pred5 = linear_svc.predict(x_test)\n",
    "\n",
    "acc_linear_svc = round(linear_svc.score(x_train, y_train) * 100, 2)\n",
    "print('Linear Support Vector Machine model train accuracy score: {0:0.4f}'. format(acc_linear_svc))\n",
    "print('Linear Support Vector Machine model accuracy score: {0:0.4f}'. format(accuracy_score(y_test, pred5)))"
   ]
  },
  {
   "cell_type": "markdown",
   "id": "primary-indonesian",
   "metadata": {
    "papermill": {
     "duration": 0.128158,
     "end_time": "2021-05-27T03:40:41.940372",
     "exception": false,
     "start_time": "2021-05-27T03:40:41.812214",
     "status": "completed"
    },
    "tags": []
   },
   "source": [
    "<p style = \"font-size : 25px; color : #34656d ; font-family : 'Comic Sans MS'; text-align : center; background-color : lightgreen; border-radius: 5px 5px;\"><strong>Decision Tree</strong></p>"
   ]
  },
  {
   "cell_type": "code",
   "execution_count": 73,
   "id": "removable-mauritius",
   "metadata": {
    "execution": {
     "iopub.execute_input": "2021-05-27T03:40:42.206740Z",
     "iopub.status.busy": "2021-05-27T03:40:42.206159Z",
     "iopub.status.idle": "2021-05-27T03:40:42.217395Z",
     "shell.execute_reply": "2021-05-27T03:40:42.218293Z",
     "shell.execute_reply.started": "2021-05-27T02:53:46.486193Z"
    },
    "papermill": {
     "duration": 0.148921,
     "end_time": "2021-05-27T03:40:42.218587",
     "exception": false,
     "start_time": "2021-05-27T03:40:42.069666",
     "status": "completed"
    },
    "tags": []
   },
   "outputs": [
    {
     "name": "stdout",
     "output_type": "stream",
     "text": [
      "Decision Tree model train accuracy score: 98.2000\n",
      "Decision Tree model accuracy score: 0.7489\n"
     ]
    }
   ],
   "source": [
    "decision_tree = DecisionTreeClassifier()\n",
    "decision_tree.fit(x_train, y_train)\n",
    "pred6 = decision_tree.predict(x_test)\n",
    "acc_decision_tree = round(decision_tree.score(x_train,y_train) * 100, 2)\n",
    "print('Decision Tree model train accuracy score: {0:0.4f}'. format(acc_decision_tree))\n",
    "print('Decision Tree model accuracy score: {0:0.4f}'. format(accuracy_score(y_test, pred6)))"
   ]
  },
  {
   "cell_type": "markdown",
   "id": "affected-ethnic",
   "metadata": {
    "papermill": {
     "duration": 0.132803,
     "end_time": "2021-05-27T03:40:42.482466",
     "exception": false,
     "start_time": "2021-05-27T03:40:42.349663",
     "status": "completed"
    },
    "tags": []
   },
   "source": [
    "# **Hyperparameter tuning**"
   ]
  },
  {
   "cell_type": "code",
   "execution_count": 74,
   "id": "absent-sheriff",
   "metadata": {
    "execution": {
     "iopub.execute_input": "2021-05-27T03:40:42.750129Z",
     "iopub.status.busy": "2021-05-27T03:40:42.749390Z",
     "iopub.status.idle": "2021-05-27T03:40:58.409962Z",
     "shell.execute_reply": "2021-05-27T03:40:58.410436Z",
     "shell.execute_reply.started": "2021-05-27T02:53:56.346011Z"
    },
    "papermill": {
     "duration": 15.798478,
     "end_time": "2021-05-27T03:40:58.410609",
     "exception": false,
     "start_time": "2021-05-27T03:40:42.612131",
     "status": "completed"
    },
    "tags": []
   },
   "outputs": [
    {
     "name": "stdout",
     "output_type": "stream",
     "text": [
      "Fitting 5 folds for each of 1200 candidates, totalling 6000 fits\n",
      "{'criterion': 'gini', 'max_depth': 7, 'max_features': 'sqrt', 'min_samples_leaf': 2, 'min_samples_split': 5, 'splitter': 'random'}\n",
      "0.826338233643811\n"
     ]
    },
    {
     "name": "stderr",
     "output_type": "stream",
     "text": [
      "/opt/conda/lib/python3.7/site-packages/sklearn/model_selection/_search.py:921: UserWarning: One or more of the test scores are non-finite: [       nan        nan 0.74547189 ... 0.78436764 0.77543486 0.77554708]\n",
      "  category=UserWarning\n"
     ]
    }
   ],
   "source": [
    "grid_param = {\n",
    "    'criterion' : ['gini', 'entropy'],\n",
    "    'max_depth' : [3, 5, 7, 10],\n",
    "    'splitter' : ['best', 'random'],\n",
    "    'min_samples_leaf' : [1, 2, 3, 5, 7],\n",
    "    'min_samples_split' : [1, 2, 3, 5, 7],\n",
    "    'max_features' : ['auto', 'sqrt', 'log2']\n",
    "}\n",
    "\n",
    "decision = GridSearchCV(decision_tree, grid_param, cv = 5, n_jobs = -1, verbose = 1)\n",
    "decision.fit(x_train, y_train)\n",
    "print(decision.best_params_)\n",
    "print(decision.best_score_)"
   ]
  },
  {
   "cell_type": "markdown",
   "id": "recent-physiology",
   "metadata": {
    "papermill": {
     "duration": 0.129824,
     "end_time": "2021-05-27T03:40:58.670868",
     "exception": false,
     "start_time": "2021-05-27T03:40:58.541044",
     "status": "completed"
    },
    "tags": []
   },
   "source": [
    "# Now buliding the model with best parameters"
   ]
  },
  {
   "cell_type": "code",
   "execution_count": 75,
   "id": "forward-studio",
   "metadata": {
    "execution": {
     "iopub.execute_input": "2021-05-27T03:40:58.941025Z",
     "iopub.status.busy": "2021-05-27T03:40:58.940356Z",
     "iopub.status.idle": "2021-05-27T03:40:58.947400Z",
     "shell.execute_reply": "2021-05-27T03:40:58.947852Z",
     "shell.execute_reply.started": "2021-05-27T02:56:25.227125Z"
    },
    "papermill": {
     "duration": 0.14651,
     "end_time": "2021-05-27T03:40:58.948024",
     "exception": false,
     "start_time": "2021-05-27T03:40:58.801514",
     "status": "completed"
    },
    "tags": []
   },
   "outputs": [
    {
     "name": "stdout",
     "output_type": "stream",
     "text": [
      "Decision Tree model accuracy score: 0.8027\n"
     ]
    }
   ],
   "source": [
    "decision_tree = DecisionTreeClassifier(criterion='entropy',\n",
    "                                      max_depth=7,\n",
    "                                      splitter='best',\n",
    "                                      min_samples_leaf=5,\n",
    "                                      min_samples_split=3,\n",
    "                                      max_features='log2')\n",
    "decision_tree.fit(x_train, y_train)\n",
    "pred_6 = decision_tree.predict(x_test)\n",
    "print('Decision Tree model accuracy score: {0:0.4f}'. format(accuracy_score(y_test, pred_6)))"
   ]
  },
  {
   "cell_type": "markdown",
   "id": "cooked-heading",
   "metadata": {
    "papermill": {
     "duration": 0.131479,
     "end_time": "2021-05-27T03:40:59.210615",
     "exception": false,
     "start_time": "2021-05-27T03:40:59.079136",
     "status": "completed"
    },
    "tags": []
   },
   "source": [
    "<p style = \"font-size : 25px; color : #34656d ; font-family : 'Comic Sans MS'; text-align : center; background-color : lightgreen; border-radius: 5px 5px;\"><strong>Adaboost Classifier</strong></p>"
   ]
  },
  {
   "cell_type": "code",
   "execution_count": 76,
   "id": "educational-chapel",
   "metadata": {
    "execution": {
     "iopub.execute_input": "2021-05-27T03:40:59.483407Z",
     "iopub.status.busy": "2021-05-27T03:40:59.482719Z",
     "iopub.status.idle": "2021-05-27T03:40:59.637940Z",
     "shell.execute_reply": "2021-05-27T03:40:59.638525Z",
     "shell.execute_reply.started": "2021-05-27T02:58:18.172739Z"
    },
    "papermill": {
     "duration": 0.2964,
     "end_time": "2021-05-27T03:40:59.638705",
     "exception": false,
     "start_time": "2021-05-27T03:40:59.342305",
     "status": "completed"
    },
    "tags": []
   },
   "outputs": [
    {
     "name": "stdout",
     "output_type": "stream",
     "text": [
      "Adaboost Classifier model train accuracy score: 0.9820\n",
      "Adaboost Classifier model accuracy score: 0.7758\n"
     ]
    }
   ],
   "source": [
    "from sklearn.ensemble import AdaBoostClassifier\n",
    "adb = AdaBoostClassifier(base_estimator = decision_tree)\n",
    "adb.fit(x_train,y_train)\n",
    "adb_pred=adb.predict(x_test)\n",
    "acc_adb=adb.score(x_train,y_train)\n",
    "print('Adaboost Classifier model train accuracy score: {0:0.4f}'. format(acc_adb))\n",
    "print('Adaboost Classifier model accuracy score: {0:0.4f}'. format(accuracy_score(y_test, adb_pred)))"
   ]
  },
  {
   "cell_type": "markdown",
   "id": "suffering-bridal",
   "metadata": {
    "papermill": {
     "duration": 0.131858,
     "end_time": "2021-05-27T03:40:59.903151",
     "exception": false,
     "start_time": "2021-05-27T03:40:59.771293",
     "status": "completed"
    },
    "tags": []
   },
   "source": [
    "# Hyperparameter Tuning"
   ]
  },
  {
   "cell_type": "code",
   "execution_count": 77,
   "id": "magnetic-extraction",
   "metadata": {
    "execution": {
     "iopub.execute_input": "2021-05-27T03:41:00.175672Z",
     "iopub.status.busy": "2021-05-27T03:41:00.175035Z",
     "iopub.status.idle": "2021-05-27T03:41:23.401855Z",
     "shell.execute_reply": "2021-05-27T03:41:23.401351Z",
     "shell.execute_reply.started": "2021-05-27T02:58:26.852041Z"
    },
    "papermill": {
     "duration": 23.365016,
     "end_time": "2021-05-27T03:41:23.401993",
     "exception": false,
     "start_time": "2021-05-27T03:41:00.036977",
     "status": "completed"
    },
    "tags": []
   },
   "outputs": [
    {
     "name": "stdout",
     "output_type": "stream",
     "text": [
      "Fitting 5 folds for each of 40 candidates, totalling 200 fits\n"
     ]
    },
    {
     "name": "stderr",
     "output_type": "stream",
     "text": [
      "/opt/conda/lib/python3.7/site-packages/sklearn/model_selection/_search.py:921: UserWarning: One or more of the test scores are non-finite: [0.81881944 0.81583436 0.81736057 0.82033442 0.8203232  0.81136797\n",
      " 0.81740545 0.82188307 0.81436427 0.81887555 0.78748738 0.78000224\n",
      " 0.79647627 0.78899113 0.78147234        nan        nan        nan\n",
      "        nan        nan 0.81439794 0.82189429 0.81435305 0.81589047\n",
      " 0.8218494  0.8023903  0.79946134 0.79493884 0.79947256 0.78449108\n",
      " 0.77701717 0.77700595 0.7784536  0.78598362 0.77398721 0.66926271\n",
      " 0.54941084 0.59277298 0.52394793 0.55221636]\n",
      "  category=UserWarning\n"
     ]
    },
    {
     "name": "stdout",
     "output_type": "stream",
     "text": [
      "{'algorithm': 'SAMME.R', 'learning_rate': 0.01, 'n_estimators': 120}\n",
      "0.8218942879587026\n"
     ]
    }
   ],
   "source": [
    "grid_param = {\n",
    "    'n_estimators' : [100, 120, 150, 180, 200],\n",
    "    'learning_rate' : [0.01, 0.1, 1, 10],\n",
    "    'algorithm' : ['SAMME', 'SAMME.R']\n",
    "}\n",
    "\n",
    "ada = GridSearchCV(adb, grid_param, cv = 5, n_jobs = -1, verbose = True)\n",
    "ada.fit(x_train, y_train)\n",
    "print(ada.best_params_)\n",
    "print(ada.best_score_)"
   ]
  },
  {
   "cell_type": "code",
   "execution_count": 78,
   "id": "second-fishing",
   "metadata": {
    "execution": {
     "iopub.execute_input": "2021-05-27T03:41:23.677553Z",
     "iopub.status.busy": "2021-05-27T03:41:23.676504Z",
     "iopub.status.idle": "2021-05-27T03:41:24.076854Z",
     "shell.execute_reply": "2021-05-27T03:41:24.076121Z",
     "shell.execute_reply.started": "2021-05-27T02:59:37.941567Z"
    },
    "papermill": {
     "duration": 0.542643,
     "end_time": "2021-05-27T03:41:24.077043",
     "exception": false,
     "start_time": "2021-05-27T03:41:23.534400",
     "status": "completed"
    },
    "tags": []
   },
   "outputs": [
    {
     "name": "stdout",
     "output_type": "stream",
     "text": [
      "Adaboost Classifier model accuracy score: 0.7848\n"
     ]
    }
   ],
   "source": [
    "adb = AdaBoostClassifier(n_estimators=200,\n",
    "                        learning_rate=0.01,\n",
    "                        algorithm='SAMME.R')\n",
    "adb.fit(x_train,y_train)\n",
    "pred7=adb.predict(x_test)\n",
    "print('Adaboost Classifier model accuracy score: {0:0.4f}'. format(accuracy_score(y_test, pred7)))"
   ]
  },
  {
   "cell_type": "markdown",
   "id": "regulated-darkness",
   "metadata": {
    "papermill": {
     "duration": 0.133333,
     "end_time": "2021-05-27T03:41:24.344214",
     "exception": false,
     "start_time": "2021-05-27T03:41:24.210881",
     "status": "completed"
    },
    "tags": []
   },
   "source": [
    "<p style = \"font-size : 25px; color : #34656d ; font-family : 'Comic Sans MS'; text-align : center; background-color : lightgreen; border-radius: 5px 5px;\"><strong>Gradient Boosting</strong></p>"
   ]
  },
  {
   "cell_type": "code",
   "execution_count": 79,
   "id": "harmful-samuel",
   "metadata": {
    "execution": {
     "iopub.execute_input": "2021-05-27T03:41:24.652213Z",
     "iopub.status.busy": "2021-05-27T03:41:24.642303Z",
     "iopub.status.idle": "2021-05-27T03:41:24.766713Z",
     "shell.execute_reply": "2021-05-27T03:41:24.767283Z",
     "shell.execute_reply.started": "2021-05-27T03:00:56.561819Z"
    },
    "papermill": {
     "duration": 0.285361,
     "end_time": "2021-05-27T03:41:24.767481",
     "exception": false,
     "start_time": "2021-05-27T03:41:24.482120",
     "status": "completed"
    },
    "tags": []
   },
   "outputs": [
    {
     "name": "stdout",
     "output_type": "stream",
     "text": [
      "Gradient Boosting model train accuracy score: 0.8982\n",
      "Gradient Boosting model accuracy score: 0.8161\n"
     ]
    }
   ],
   "source": [
    "from sklearn.ensemble import GradientBoostingClassifier\n",
    "\n",
    "gb = GradientBoostingClassifier()\n",
    "gb.fit(x_train, y_train)\n",
    "pred8=gb.predict(x_test)\n",
    "acc_gb=gb.score(x_train,y_train)\n",
    "print('Gradient Boosting model train accuracy score: {0:0.4f}'. format(acc_gb))\n",
    "print('Gradient Boosting model accuracy score: {0:0.4f}'. format(accuracy_score(y_test, pred8)))"
   ]
  },
  {
   "cell_type": "markdown",
   "id": "occupational-hormone",
   "metadata": {
    "papermill": {
     "duration": 0.134903,
     "end_time": "2021-05-27T03:41:25.039191",
     "exception": false,
     "start_time": "2021-05-27T03:41:24.904288",
     "status": "completed"
    },
    "tags": []
   },
   "source": [
    "<p style = \"font-size : 25px; color : #34656d ; font-family : 'Comic Sans MS'; text-align : center; background-color : lightgreen; border-radius: 5px 5px;\"><strong>LightGBM</strong></p>"
   ]
  },
  {
   "cell_type": "code",
   "execution_count": 80,
   "id": "awful-architecture",
   "metadata": {
    "execution": {
     "iopub.execute_input": "2021-05-27T03:41:25.314711Z",
     "iopub.status.busy": "2021-05-27T03:41:25.314079Z",
     "iopub.status.idle": "2021-05-27T03:41:25.512210Z",
     "shell.execute_reply": "2021-05-27T03:41:25.514209Z",
     "shell.execute_reply.started": "2021-05-27T03:02:24.041898Z"
    },
    "papermill": {
     "duration": 0.339244,
     "end_time": "2021-05-27T03:41:25.514442",
     "exception": false,
     "start_time": "2021-05-27T03:41:25.175198",
     "status": "completed"
    },
    "tags": []
   },
   "outputs": [
    {
     "name": "stdout",
     "output_type": "stream",
     "text": [
      "lgbm model train accuracy score: 0.9536\n",
      "lgbm model accuracy score: 0.8251\n"
     ]
    }
   ],
   "source": [
    "import lightgbm as lgb\n",
    "lgbm= lgb.LGBMClassifier()\n",
    "lgbm.fit(x_train,y_train)\n",
    "lgbm_pred=lgbm.predict(x_test)\n",
    "acc_lgbm=lgbm.score(x_train,y_train)\n",
    "print('lgbm model train accuracy score: {0:0.4f}'. format(acc_lgbm))\n",
    "print('lgbm model accuracy score: {0:0.4f}'. format(accuracy_score(y_test,lgbm_pred)))"
   ]
  },
  {
   "cell_type": "markdown",
   "id": "streaming-terror",
   "metadata": {
    "papermill": {
     "duration": 0.132797,
     "end_time": "2021-05-27T03:41:25.787054",
     "exception": false,
     "start_time": "2021-05-27T03:41:25.654257",
     "status": "completed"
    },
    "tags": []
   },
   "source": [
    "# Hyperparameter Tuning"
   ]
  },
  {
   "cell_type": "code",
   "execution_count": 81,
   "id": "dried-acquisition",
   "metadata": {
    "execution": {
     "iopub.execute_input": "2021-05-27T03:41:26.060491Z",
     "iopub.status.busy": "2021-05-27T03:41:26.059436Z",
     "iopub.status.idle": "2021-05-27T03:41:26.061783Z",
     "shell.execute_reply": "2021-05-27T03:41:26.062317Z",
     "shell.execute_reply.started": "2021-05-27T03:02:31.236217Z"
    },
    "papermill": {
     "duration": 0.142706,
     "end_time": "2021-05-27T03:41:26.062475",
     "exception": false,
     "start_time": "2021-05-27T03:41:25.919769",
     "status": "completed"
    },
    "tags": []
   },
   "outputs": [],
   "source": [
    "fit_params={\"early_stopping_rounds\":30, \n",
    "            \"eval_metric\" : 'auc', \n",
    "            \"eval_set\" : [(x_test,y_test)],\n",
    "            'eval_names': ['valid'],\n",
    "            'verbose': 100,\n",
    "            'categorical_feature': 'auto'}"
   ]
  },
  {
   "cell_type": "code",
   "execution_count": 82,
   "id": "sound-proceeding",
   "metadata": {
    "execution": {
     "iopub.execute_input": "2021-05-27T03:41:26.332605Z",
     "iopub.status.busy": "2021-05-27T03:41:26.331652Z",
     "iopub.status.idle": "2021-05-27T03:41:26.341672Z",
     "shell.execute_reply": "2021-05-27T03:41:26.342227Z",
     "shell.execute_reply.started": "2021-05-27T03:02:35.460938Z"
    },
    "papermill": {
     "duration": 0.146867,
     "end_time": "2021-05-27T03:41:26.342386",
     "exception": false,
     "start_time": "2021-05-27T03:41:26.195519",
     "status": "completed"
    },
    "tags": []
   },
   "outputs": [],
   "source": [
    "from scipy.stats import randint as sp_randint\n",
    "from scipy.stats import uniform as sp_uniform\n",
    "param_test ={'num_leaves': sp_randint(6, 50), \n",
    "             'min_child_samples': sp_randint(50, 100), \n",
    "             'min_child_weight': [1e-5, 1e-3, 1e-2, 1e-1, 1, 1e1, 1e2, 1e3, 1e4],\n",
    "             'subsample': sp_uniform(loc=0.2, scale=0.8), \n",
    "             'colsample_bytree': sp_uniform(loc=0.4, scale=0.6),\n",
    "             'reg_alpha': [0, 1e-1, 1, 2, 5, 7, 10, 50, 100],\n",
    "             'reg_lambda': [0, 1e-1, 1, 5, 10, 20, 50, 100]}"
   ]
  },
  {
   "cell_type": "code",
   "execution_count": 83,
   "id": "downtown-kennedy",
   "metadata": {
    "execution": {
     "iopub.execute_input": "2021-05-27T03:41:26.616283Z",
     "iopub.status.busy": "2021-05-27T03:41:26.615328Z",
     "iopub.status.idle": "2021-05-27T03:41:26.621515Z",
     "shell.execute_reply": "2021-05-27T03:41:26.620962Z",
     "shell.execute_reply.started": "2021-05-27T03:02:48.596283Z"
    },
    "papermill": {
     "duration": 0.142013,
     "end_time": "2021-05-27T03:41:26.621655",
     "exception": false,
     "start_time": "2021-05-27T03:41:26.479642",
     "status": "completed"
    },
    "tags": []
   },
   "outputs": [],
   "source": [
    "from sklearn.model_selection import RandomizedSearchCV\n",
    "clf = lgb.LGBMClassifier(max_depth=-1, random_state=42, silent=True, metric='None', n_jobs=4, n_estimators=100)\n",
    "gs = RandomizedSearchCV(\n",
    "    estimator=clf, param_distributions=param_test, \n",
    "    n_iter=100,\n",
    "    scoring='roc_auc',\n",
    "    cv=3,\n",
    "    refit=True,\n",
    "    random_state=314,\n",
    "    verbose=True)"
   ]
  },
  {
   "cell_type": "code",
   "execution_count": 84,
   "id": "fabulous-relation",
   "metadata": {
    "execution": {
     "iopub.execute_input": "2021-05-27T03:41:26.932890Z",
     "iopub.status.busy": "2021-05-27T03:41:26.931884Z",
     "iopub.status.idle": "2021-05-27T03:41:34.005341Z",
     "shell.execute_reply": "2021-05-27T03:41:34.006311Z",
     "shell.execute_reply.started": "2021-05-27T03:02:59.241797Z"
    },
    "papermill": {
     "duration": 7.249747,
     "end_time": "2021-05-27T03:41:34.006504",
     "exception": false,
     "start_time": "2021-05-27T03:41:26.756757",
     "status": "completed"
    },
    "tags": []
   },
   "outputs": [
    {
     "name": "stdout",
     "output_type": "stream",
     "text": [
      "Fitting 3 folds for each of 100 candidates, totalling 300 fits\n",
      "Training until validation scores don't improve for 30 rounds\n",
      "Early stopping, best iteration is:\n",
      "[17]\tvalid's auc: 0.857748\n",
      "Training until validation scores don't improve for 30 rounds\n",
      "Early stopping, best iteration is:\n",
      "[47]\tvalid's auc: 0.856364\n",
      "Training until validation scores don't improve for 30 rounds\n",
      "[100]\tvalid's auc: 0.854687\n",
      "Did not meet early stopping. Best iteration is:\n",
      "[92]\tvalid's auc: 0.862485\n",
      "Training until validation scores don't improve for 30 rounds\n",
      "Early stopping, best iteration is:\n",
      "[53]\tvalid's auc: 0.850914\n",
      "Training until validation scores don't improve for 30 rounds\n",
      "Early stopping, best iteration is:\n",
      "[19]\tvalid's auc: 0.846638\n",
      "Training until validation scores don't improve for 30 rounds\n",
      "Early stopping, best iteration is:\n",
      "[19]\tvalid's auc: 0.834312\n",
      "Training until validation scores don't improve for 30 rounds\n",
      "Early stopping, best iteration is:\n",
      "[1]\tvalid's auc: 0.5\n",
      "Training until validation scores don't improve for 30 rounds\n",
      "Early stopping, best iteration is:\n",
      "[1]\tvalid's auc: 0.5\n",
      "Training until validation scores don't improve for 30 rounds\n",
      "Early stopping, best iteration is:\n",
      "[1]\tvalid's auc: 0.5\n",
      "Training until validation scores don't improve for 30 rounds\n",
      "Early stopping, best iteration is:\n",
      "[1]\tvalid's auc: 0.5\n",
      "Training until validation scores don't improve for 30 rounds\n",
      "Early stopping, best iteration is:\n",
      "[1]\tvalid's auc: 0.5\n",
      "Training until validation scores don't improve for 30 rounds\n",
      "Early stopping, best iteration is:\n",
      "[1]\tvalid's auc: 0.5\n",
      "Training until validation scores don't improve for 30 rounds\n",
      "Early stopping, best iteration is:\n",
      "[1]\tvalid's auc: 0.5\n",
      "Training until validation scores don't improve for 30 rounds\n",
      "Early stopping, best iteration is:\n",
      "[1]\tvalid's auc: 0.5\n",
      "Training until validation scores don't improve for 30 rounds\n",
      "Early stopping, best iteration is:\n",
      "[1]\tvalid's auc: 0.5\n",
      "Training until validation scores don't improve for 30 rounds\n",
      "Early stopping, best iteration is:\n",
      "[7]\tvalid's auc: 0.858251\n",
      "Training until validation scores don't improve for 30 rounds\n",
      "[100]\tvalid's auc: 0.859886\n",
      "Did not meet early stopping. Best iteration is:\n",
      "[89]\tvalid's auc: 0.860138\n",
      "Training until validation scores don't improve for 30 rounds\n",
      "[100]\tvalid's auc: 0.873302\n",
      "Did not meet early stopping. Best iteration is:\n",
      "[97]\tvalid's auc: 0.87347\n",
      "Training until validation scores don't improve for 30 rounds\n",
      "Early stopping, best iteration is:\n",
      "[6]\tvalid's auc: 0.869571\n",
      "Training until validation scores don't improve for 30 rounds\n",
      "Early stopping, best iteration is:\n",
      "[69]\tvalid's auc: 0.868439\n",
      "Training until validation scores don't improve for 30 rounds\n",
      "[100]\tvalid's auc: 0.880052\n",
      "Did not meet early stopping. Best iteration is:\n",
      "[86]\tvalid's auc: 0.88089\n",
      "Training until validation scores don't improve for 30 rounds\n",
      "[100]\tvalid's auc: 0.850327\n",
      "Did not meet early stopping. Best iteration is:\n",
      "[84]\tvalid's auc: 0.852633\n",
      "Training until validation scores don't improve for 30 rounds\n",
      "[100]\tvalid's auc: 0.858754\n",
      "Did not meet early stopping. Best iteration is:\n",
      "[97]\tvalid's auc: 0.859425\n",
      "Training until validation scores don't improve for 30 rounds\n",
      "[100]\tvalid's auc: 0.868942\n",
      "Did not meet early stopping. Best iteration is:\n",
      "[100]\tvalid's auc: 0.868942\n",
      "Training until validation scores don't improve for 30 rounds\n",
      "Early stopping, best iteration is:\n",
      "[37]\tvalid's auc: 0.84995\n",
      "Training until validation scores don't improve for 30 rounds\n",
      "Early stopping, best iteration is:\n",
      "[16]\tvalid's auc: 0.85519\n",
      "Training until validation scores don't improve for 30 rounds\n",
      "Early stopping, best iteration is:\n",
      "[6]\tvalid's auc: 0.856532\n",
      "Training until validation scores don't improve for 30 rounds\n",
      "Early stopping, best iteration is:\n",
      "[59]\tvalid's auc: 0.855274\n",
      "Training until validation scores don't improve for 30 rounds\n",
      "Early stopping, best iteration is:\n",
      "[7]\tvalid's auc: 0.855652\n",
      "Training until validation scores don't improve for 30 rounds\n",
      "Early stopping, best iteration is:\n",
      "[7]\tvalid's auc: 0.854226\n",
      "Training until validation scores don't improve for 30 rounds\n",
      "Early stopping, best iteration is:\n",
      "[23]\tvalid's auc: 0.848566\n",
      "Training until validation scores don't improve for 30 rounds\n",
      "Early stopping, best iteration is:\n",
      "[30]\tvalid's auc: 0.853765\n",
      "Training until validation scores don't improve for 30 rounds\n",
      "Early stopping, best iteration is:\n",
      "[52]\tvalid's auc: 0.85192\n",
      "Training until validation scores don't improve for 30 rounds\n",
      "Early stopping, best iteration is:\n",
      "[14]\tvalid's auc: 0.861815\n",
      "Training until validation scores don't improve for 30 rounds\n",
      "Early stopping, best iteration is:\n",
      "[25]\tvalid's auc: 0.865672\n",
      "Training until validation scores don't improve for 30 rounds\n",
      "Early stopping, best iteration is:\n",
      "[37]\tvalid's auc: 0.86869\n",
      "Training until validation scores don't improve for 30 rounds\n",
      "Early stopping, best iteration is:\n",
      "[60]\tvalid's auc: 0.854729\n",
      "Training until validation scores don't improve for 30 rounds\n",
      "[100]\tvalid's auc: 0.858041\n",
      "Did not meet early stopping. Best iteration is:\n",
      "[100]\tvalid's auc: 0.858041\n",
      "Training until validation scores don't improve for 30 rounds\n",
      "[100]\tvalid's auc: 0.869319\n",
      "Did not meet early stopping. Best iteration is:\n",
      "[100]\tvalid's auc: 0.869319\n",
      "Training until validation scores don't improve for 30 rounds\n",
      "Early stopping, best iteration is:\n",
      "[1]\tvalid's auc: 0.5\n",
      "Training until validation scores don't improve for 30 rounds\n",
      "Early stopping, best iteration is:\n",
      "[1]\tvalid's auc: 0.5\n",
      "Training until validation scores don't improve for 30 rounds\n",
      "Early stopping, best iteration is:\n",
      "[1]\tvalid's auc: 0.5\n",
      "Training until validation scores don't improve for 30 rounds\n",
      "Early stopping, best iteration is:\n",
      "[1]\tvalid's auc: 0.5\n",
      "Training until validation scores don't improve for 30 rounds\n",
      "Early stopping, best iteration is:\n",
      "[1]\tvalid's auc: 0.5\n",
      "Training until validation scores don't improve for 30 rounds\n",
      "Early stopping, best iteration is:\n",
      "[1]\tvalid's auc: 0.5\n",
      "Training until validation scores don't improve for 30 rounds\n",
      "Early stopping, best iteration is:\n",
      "[46]\tvalid's auc: 0.852843\n",
      "Training until validation scores don't improve for 30 rounds\n",
      "Early stopping, best iteration is:\n",
      "[53]\tvalid's auc: 0.860347\n",
      "Training until validation scores don't improve for 30 rounds\n",
      "Early stopping, best iteration is:\n",
      "[46]\tvalid's auc: 0.854729\n",
      "Training until validation scores don't improve for 30 rounds\n",
      "Early stopping, best iteration is:\n",
      "[1]\tvalid's auc: 0.5\n",
      "Training until validation scores don't improve for 30 rounds\n",
      "Early stopping, best iteration is:\n",
      "[1]\tvalid's auc: 0.5\n",
      "Training until validation scores don't improve for 30 rounds\n",
      "Early stopping, best iteration is:\n",
      "[1]\tvalid's auc: 0.5\n",
      "Training until validation scores don't improve for 30 rounds\n",
      "Early stopping, best iteration is:\n",
      "[6]\tvalid's auc: 0.848734\n",
      "Training until validation scores don't improve for 30 rounds\n",
      "Early stopping, best iteration is:\n",
      "[68]\tvalid's auc: 0.854016\n",
      "Training until validation scores don't improve for 30 rounds\n",
      "Early stopping, best iteration is:\n",
      "[49]\tvalid's auc: 0.855693\n",
      "Training until validation scores don't improve for 30 rounds\n",
      "Early stopping, best iteration is:\n",
      "[1]\tvalid's auc: 0.5\n",
      "Training until validation scores don't improve for 30 rounds\n",
      "Early stopping, best iteration is:\n",
      "[1]\tvalid's auc: 0.5\n",
      "Training until validation scores don't improve for 30 rounds\n",
      "Early stopping, best iteration is:\n",
      "[1]\tvalid's auc: 0.5\n",
      "Training until validation scores don't improve for 30 rounds\n",
      "[100]\tvalid's auc: 0.856909\n",
      "Early stopping, best iteration is:\n",
      "[70]\tvalid's auc: 0.86542\n",
      "Training until validation scores don't improve for 30 rounds\n",
      "[100]\tvalid's auc: 0.860724\n",
      "Did not meet early stopping. Best iteration is:\n",
      "[82]\tvalid's auc: 0.864246\n",
      "Training until validation scores don't improve for 30 rounds\n",
      "[100]\tvalid's auc: 0.86672\n",
      "Did not meet early stopping. Best iteration is:\n",
      "[74]\tvalid's auc: 0.874476\n",
      "Training until validation scores don't improve for 30 rounds\n",
      "Early stopping, best iteration is:\n",
      "[1]\tvalid's auc: 0.5\n",
      "Training until validation scores don't improve for 30 rounds\n",
      "Early stopping, best iteration is:\n",
      "[1]\tvalid's auc: 0.5\n",
      "Training until validation scores don't improve for 30 rounds\n",
      "Early stopping, best iteration is:\n",
      "[1]\tvalid's auc: 0.5\n",
      "Training until validation scores don't improve for 30 rounds\n",
      "Early stopping, best iteration is:\n",
      "[6]\tvalid's auc: 0.852591\n",
      "Training until validation scores don't improve for 30 rounds\n",
      "Early stopping, best iteration is:\n",
      "[6]\tvalid's auc: 0.855232\n",
      "Training until validation scores don't improve for 30 rounds\n",
      "Early stopping, best iteration is:\n",
      "[32]\tvalid's auc: 0.856951\n",
      "Training until validation scores don't improve for 30 rounds\n",
      "Early stopping, best iteration is:\n",
      "[1]\tvalid's auc: 0.5\n",
      "Training until validation scores don't improve for 30 rounds\n",
      "Early stopping, best iteration is:\n",
      "[1]\tvalid's auc: 0.5\n",
      "Training until validation scores don't improve for 30 rounds\n",
      "Early stopping, best iteration is:\n",
      "[1]\tvalid's auc: 0.5\n",
      "Training until validation scores don't improve for 30 rounds\n",
      "[100]\tvalid's auc: 0.850579\n",
      "Did not meet early stopping. Best iteration is:\n",
      "[92]\tvalid's auc: 0.850662\n",
      "Training until validation scores don't improve for 30 rounds\n",
      "Early stopping, best iteration is:\n",
      "[44]\tvalid's auc: 0.858461\n",
      "Training until validation scores don't improve for 30 rounds\n",
      "[100]\tvalid's auc: 0.857622\n",
      "Did not meet early stopping. Best iteration is:\n",
      "[100]\tvalid's auc: 0.857622\n",
      "Training until validation scores don't improve for 30 rounds\n",
      "Early stopping, best iteration is:\n",
      "[9]\tvalid's auc: 0.851207\n",
      "Training until validation scores don't improve for 30 rounds\n",
      "Early stopping, best iteration is:\n",
      "[3]\tvalid's auc: 0.853094\n",
      "Training until validation scores don't improve for 30 rounds\n",
      "Early stopping, best iteration is:\n",
      "[6]\tvalid's auc: 0.850453\n",
      "Training until validation scores don't improve for 30 rounds\n",
      "Early stopping, best iteration is:\n",
      "[1]\tvalid's auc: 0.5\n",
      "Training until validation scores don't improve for 30 rounds\n",
      "Early stopping, best iteration is:\n",
      "[1]\tvalid's auc: 0.5\n",
      "Training until validation scores don't improve for 30 rounds\n",
      "Early stopping, best iteration is:\n",
      "[1]\tvalid's auc: 0.5\n",
      "Training until validation scores don't improve for 30 rounds\n",
      "Early stopping, best iteration is:\n",
      "[6]\tvalid's auc: 0.852423\n",
      "Training until validation scores don't improve for 30 rounds\n",
      "Early stopping, best iteration is:\n",
      "[52]\tvalid's auc: 0.856783\n",
      "Training until validation scores don't improve for 30 rounds\n",
      "Early stopping, best iteration is:\n",
      "[44]\tvalid's auc: 0.856071\n",
      "Training until validation scores don't improve for 30 rounds\n",
      "Early stopping, best iteration is:\n",
      "[38]\tvalid's auc: 0.847015\n",
      "Training until validation scores don't improve for 30 rounds\n",
      "Early stopping, best iteration is:\n",
      "[17]\tvalid's auc: 0.853262\n",
      "Training until validation scores don't improve for 30 rounds\n",
      "Early stopping, best iteration is:\n",
      "[39]\tvalid's auc: 0.851962\n",
      "Training until validation scores don't improve for 30 rounds\n",
      "Early stopping, best iteration is:\n",
      "[38]\tvalid's auc: 0.84844\n",
      "Training until validation scores don't improve for 30 rounds\n",
      "Early stopping, best iteration is:\n",
      "[34]\tvalid's auc: 0.857161\n",
      "Training until validation scores don't improve for 30 rounds\n",
      "[100]\tvalid's auc: 0.855023\n",
      "Did not meet early stopping. Best iteration is:\n",
      "[98]\tvalid's auc: 0.855023\n",
      "Training until validation scores don't improve for 30 rounds\n",
      "Early stopping, best iteration is:\n",
      "[6]\tvalid's auc: 0.8162\n",
      "Training until validation scores don't improve for 30 rounds\n",
      "Early stopping, best iteration is:\n",
      "[14]\tvalid's auc: 0.841145\n",
      "Training until validation scores don't improve for 30 rounds\n",
      "Early stopping, best iteration is:\n",
      "[14]\tvalid's auc: 0.841145\n",
      "Training until validation scores don't improve for 30 rounds\n",
      "Early stopping, best iteration is:\n",
      "[1]\tvalid's auc: 0.5\n",
      "Training until validation scores don't improve for 30 rounds\n",
      "Early stopping, best iteration is:\n",
      "[1]\tvalid's auc: 0.5\n",
      "Training until validation scores don't improve for 30 rounds\n",
      "Early stopping, best iteration is:\n",
      "[1]\tvalid's auc: 0.5\n",
      "Training until validation scores don't improve for 30 rounds\n",
      "Early stopping, best iteration is:\n",
      "[6]\tvalid's auc: 0.852926\n",
      "Training until validation scores don't improve for 30 rounds\n",
      "Early stopping, best iteration is:\n",
      "[6]\tvalid's auc: 0.858502\n",
      "Training until validation scores don't improve for 30 rounds\n",
      "[100]\tvalid's auc: 0.866301\n",
      "Did not meet early stopping. Best iteration is:\n",
      "[99]\tvalid's auc: 0.866468\n",
      "Training until validation scores don't improve for 30 rounds\n",
      "Early stopping, best iteration is:\n",
      "[29]\tvalid's auc: 0.854268\n",
      "Training until validation scores don't improve for 30 rounds\n",
      "Early stopping, best iteration is:\n",
      "[49]\tvalid's auc: 0.853052\n",
      "Training until validation scores don't improve for 30 rounds\n",
      "Early stopping, best iteration is:\n",
      "[9]\tvalid's auc: 0.851627\n",
      "Training until validation scores don't improve for 30 rounds\n",
      "Early stopping, best iteration is:\n",
      "[1]\tvalid's auc: 0.5\n",
      "Training until validation scores don't improve for 30 rounds\n",
      "Early stopping, best iteration is:\n",
      "[1]\tvalid's auc: 0.5\n",
      "Training until validation scores don't improve for 30 rounds\n",
      "Early stopping, best iteration is:\n",
      "[1]\tvalid's auc: 0.5\n",
      "Training until validation scores don't improve for 30 rounds\n",
      "Early stopping, best iteration is:\n",
      "[1]\tvalid's auc: 0.5\n",
      "Training until validation scores don't improve for 30 rounds\n",
      "Early stopping, best iteration is:\n",
      "[1]\tvalid's auc: 0.5\n",
      "Training until validation scores don't improve for 30 rounds\n",
      "Early stopping, best iteration is:\n",
      "[1]\tvalid's auc: 0.5\n",
      "Training until validation scores don't improve for 30 rounds\n",
      "Early stopping, best iteration is:\n",
      "[15]\tvalid's auc: 0.860683\n",
      "Training until validation scores don't improve for 30 rounds\n",
      "Early stopping, best iteration is:\n",
      "[30]\tvalid's auc: 0.86085\n",
      "Training until validation scores don't improve for 30 rounds\n",
      "[100]\tvalid's auc: 0.865169\n",
      "Did not meet early stopping. Best iteration is:\n",
      "[74]\tvalid's auc: 0.868523\n",
      "Training until validation scores don't improve for 30 rounds\n",
      "Early stopping, best iteration is:\n",
      "[6]\tvalid's auc: 0.851207\n",
      "Training until validation scores don't improve for 30 rounds\n",
      "Early stopping, best iteration is:\n",
      "[8]\tvalid's auc: 0.858796\n",
      "Training until validation scores don't improve for 30 rounds\n",
      "Early stopping, best iteration is:\n",
      "[50]\tvalid's auc: 0.867013\n",
      "Training until validation scores don't improve for 30 rounds\n",
      "Early stopping, best iteration is:\n",
      "[1]\tvalid's auc: 0.5\n",
      "Training until validation scores don't improve for 30 rounds\n",
      "Early stopping, best iteration is:\n",
      "[1]\tvalid's auc: 0.5\n",
      "Training until validation scores don't improve for 30 rounds\n",
      "Early stopping, best iteration is:\n",
      "[1]\tvalid's auc: 0.5\n",
      "Training until validation scores don't improve for 30 rounds\n",
      "Early stopping, best iteration is:\n",
      "[1]\tvalid's auc: 0.5\n",
      "Training until validation scores don't improve for 30 rounds\n",
      "Early stopping, best iteration is:\n",
      "[1]\tvalid's auc: 0.5\n",
      "Training until validation scores don't improve for 30 rounds\n",
      "Early stopping, best iteration is:\n",
      "[1]\tvalid's auc: 0.5\n",
      "Training until validation scores don't improve for 30 rounds\n",
      "[100]\tvalid's auc: 0.852423\n",
      "Did not meet early stopping. Best iteration is:\n",
      "[94]\tvalid's auc: 0.853765\n",
      "Training until validation scores don't improve for 30 rounds\n",
      "Early stopping, best iteration is:\n",
      "[62]\tvalid's auc: 0.85997\n",
      "Training until validation scores don't improve for 30 rounds\n",
      "[100]\tvalid's auc: 0.86454\n",
      "Did not meet early stopping. Best iteration is:\n",
      "[99]\tvalid's auc: 0.864624\n",
      "Training until validation scores don't improve for 30 rounds\n",
      "Early stopping, best iteration is:\n",
      "[6]\tvalid's auc: 0.850662\n",
      "Training until validation scores don't improve for 30 rounds\n",
      "Early stopping, best iteration is:\n",
      "[15]\tvalid's auc: 0.8541\n",
      "Training until validation scores don't improve for 30 rounds\n",
      "Early stopping, best iteration is:\n",
      "[28]\tvalid's auc: 0.853597\n",
      "Training until validation scores don't improve for 30 rounds\n",
      "Early stopping, best iteration is:\n",
      "[38]\tvalid's auc: 0.861856\n",
      "Training until validation scores don't improve for 30 rounds\n",
      "Early stopping, best iteration is:\n",
      "[11]\tvalid's auc: 0.860599\n",
      "Training until validation scores don't improve for 30 rounds\n",
      "Early stopping, best iteration is:\n",
      "[44]\tvalid's auc: 0.856532\n",
      "Training until validation scores don't improve for 30 rounds\n",
      "Early stopping, best iteration is:\n",
      "[1]\tvalid's auc: 0.5\n",
      "Training until validation scores don't improve for 30 rounds\n",
      "Early stopping, best iteration is:\n",
      "[1]\tvalid's auc: 0.5\n",
      "Training until validation scores don't improve for 30 rounds\n",
      "Early stopping, best iteration is:\n",
      "[1]\tvalid's auc: 0.5\n",
      "Training until validation scores don't improve for 30 rounds\n",
      "Early stopping, best iteration is:\n",
      "[6]\tvalid's auc: 0.867349\n",
      "Training until validation scores don't improve for 30 rounds\n",
      "Early stopping, best iteration is:\n",
      "[8]\tvalid's auc: 0.862066\n",
      "Training until validation scores don't improve for 30 rounds\n",
      "Early stopping, best iteration is:\n",
      "[6]\tvalid's auc: 0.868732\n",
      "Training until validation scores don't improve for 30 rounds\n",
      "Early stopping, best iteration is:\n",
      "[35]\tvalid's auc: 0.849866\n",
      "Training until validation scores don't improve for 30 rounds\n",
      "Early stopping, best iteration is:\n",
      "[6]\tvalid's auc: 0.855232\n",
      "Training until validation scores don't improve for 30 rounds\n",
      "Early stopping, best iteration is:\n",
      "[32]\tvalid's auc: 0.855023\n",
      "Training until validation scores don't improve for 30 rounds\n",
      "Early stopping, best iteration is:\n",
      "[1]\tvalid's auc: 0.5\n",
      "Training until validation scores don't improve for 30 rounds\n",
      "Early stopping, best iteration is:\n",
      "[1]\tvalid's auc: 0.5\n",
      "Training until validation scores don't improve for 30 rounds\n",
      "Early stopping, best iteration is:\n",
      "[1]\tvalid's auc: 0.5\n",
      "Training until validation scores don't improve for 30 rounds\n",
      "Early stopping, best iteration is:\n",
      "[1]\tvalid's auc: 0.5\n",
      "Training until validation scores don't improve for 30 rounds\n",
      "Early stopping, best iteration is:\n",
      "[1]\tvalid's auc: 0.5\n",
      "Training until validation scores don't improve for 30 rounds\n",
      "Early stopping, best iteration is:\n",
      "[1]\tvalid's auc: 0.5\n",
      "Training until validation scores don't improve for 30 rounds\n",
      "Early stopping, best iteration is:\n",
      "[6]\tvalid's auc: 0.8162\n",
      "Training until validation scores don't improve for 30 rounds\n",
      "Early stopping, best iteration is:\n",
      "[13]\tvalid's auc: 0.81599\n",
      "Training until validation scores don't improve for 30 rounds\n",
      "Early stopping, best iteration is:\n",
      "[14]\tvalid's auc: 0.841145\n",
      "Training until validation scores don't improve for 30 rounds\n",
      "Early stopping, best iteration is:\n",
      "[32]\tvalid's auc: 0.858041\n",
      "Training until validation scores don't improve for 30 rounds\n",
      "Early stopping, best iteration is:\n",
      "[9]\tvalid's auc: 0.86303\n",
      "Training until validation scores don't improve for 30 rounds\n",
      "Early stopping, best iteration is:\n",
      "[34]\tvalid's auc: 0.867055\n",
      "Training until validation scores don't improve for 30 rounds\n",
      "Early stopping, best iteration is:\n",
      "[1]\tvalid's auc: 0.5\n",
      "Training until validation scores don't improve for 30 rounds\n",
      "Early stopping, best iteration is:\n",
      "[1]\tvalid's auc: 0.5\n",
      "Training until validation scores don't improve for 30 rounds\n",
      "Early stopping, best iteration is:\n",
      "[1]\tvalid's auc: 0.5\n",
      "Training until validation scores don't improve for 30 rounds\n",
      "Early stopping, best iteration is:\n",
      "[1]\tvalid's auc: 0.5\n",
      "Training until validation scores don't improve for 30 rounds\n",
      "Early stopping, best iteration is:\n",
      "[1]\tvalid's auc: 0.5\n",
      "Training until validation scores don't improve for 30 rounds\n",
      "Early stopping, best iteration is:\n",
      "[1]\tvalid's auc: 0.5\n",
      "Training until validation scores don't improve for 30 rounds\n",
      "Early stopping, best iteration is:\n",
      "[23]\tvalid's auc: 0.859592\n",
      "Training until validation scores don't improve for 30 rounds\n",
      "Early stopping, best iteration is:\n",
      "[53]\tvalid's auc: 0.86521\n",
      "Training until validation scores don't improve for 30 rounds\n",
      "Early stopping, best iteration is:\n",
      "[62]\tvalid's auc: 0.874518\n",
      "Training until validation scores don't improve for 30 rounds\n",
      "Early stopping, best iteration is:\n",
      "[1]\tvalid's auc: 0.771843\n",
      "Training until validation scores don't improve for 30 rounds\n",
      "Early stopping, best iteration is:\n",
      "[1]\tvalid's auc: 0.771843\n",
      "Training until validation scores don't improve for 30 rounds\n",
      "Early stopping, best iteration is:\n",
      "[1]\tvalid's auc: 0.771843\n",
      "Training until validation scores don't improve for 30 rounds\n",
      "Early stopping, best iteration is:\n",
      "[26]\tvalid's auc: 0.848902\n",
      "Training until validation scores don't improve for 30 rounds\n",
      "Early stopping, best iteration is:\n",
      "[57]\tvalid's auc: 0.853765\n",
      "Training until validation scores don't improve for 30 rounds\n",
      "Early stopping, best iteration is:\n",
      "[21]\tvalid's auc: 0.850453\n",
      "Training until validation scores don't improve for 30 rounds\n",
      "Early stopping, best iteration is:\n",
      "[1]\tvalid's auc: 0.5\n",
      "Training until validation scores don't improve for 30 rounds\n",
      "Early stopping, best iteration is:\n",
      "[1]\tvalid's auc: 0.5\n",
      "Training until validation scores don't improve for 30 rounds\n",
      "Early stopping, best iteration is:\n",
      "[1]\tvalid's auc: 0.5\n",
      "Training until validation scores don't improve for 30 rounds\n",
      "Early stopping, best iteration is:\n",
      "[1]\tvalid's auc: 0.5\n",
      "Training until validation scores don't improve for 30 rounds\n",
      "Early stopping, best iteration is:\n",
      "[1]\tvalid's auc: 0.5\n",
      "Training until validation scores don't improve for 30 rounds\n",
      "Early stopping, best iteration is:\n",
      "[1]\tvalid's auc: 0.5\n",
      "Training until validation scores don't improve for 30 rounds\n",
      "Early stopping, best iteration is:\n",
      "[1]\tvalid's auc: 0.771843\n",
      "Training until validation scores don't improve for 30 rounds\n",
      "Early stopping, best iteration is:\n",
      "[1]\tvalid's auc: 0.771843\n",
      "Training until validation scores don't improve for 30 rounds\n",
      "Early stopping, best iteration is:\n",
      "[1]\tvalid's auc: 0.771843\n",
      "Training until validation scores don't improve for 30 rounds\n",
      "Early stopping, best iteration is:\n",
      "[56]\tvalid's auc: 0.859215\n",
      "Training until validation scores don't improve for 30 rounds\n",
      "Early stopping, best iteration is:\n",
      "[52]\tvalid's auc: 0.863114\n",
      "Training until validation scores don't improve for 30 rounds\n",
      "[100]\tvalid's auc: 0.872086\n",
      "Did not meet early stopping. Best iteration is:\n",
      "[94]\tvalid's auc: 0.872589\n",
      "Training until validation scores don't improve for 30 rounds\n",
      "Early stopping, best iteration is:\n",
      "[8]\tvalid's auc: 0.870032\n",
      "Training until validation scores don't improve for 30 rounds\n",
      "Early stopping, best iteration is:\n",
      "[6]\tvalid's auc: 0.856155\n",
      "Training until validation scores don't improve for 30 rounds\n",
      "Early stopping, best iteration is:\n",
      "[41]\tvalid's auc: 0.8702\n",
      "Training until validation scores don't improve for 30 rounds\n",
      "Early stopping, best iteration is:\n",
      "[1]\tvalid's auc: 0.5\n",
      "Training until validation scores don't improve for 30 rounds\n",
      "Early stopping, best iteration is:\n",
      "[1]\tvalid's auc: 0.5\n",
      "Training until validation scores don't improve for 30 rounds\n",
      "Early stopping, best iteration is:\n",
      "[1]\tvalid's auc: 0.5\n",
      "Training until validation scores don't improve for 30 rounds\n",
      "Early stopping, best iteration is:\n",
      "[6]\tvalid's auc: 0.851082\n",
      "Training until validation scores don't improve for 30 rounds\n",
      "Early stopping, best iteration is:\n",
      "[18]\tvalid's auc: 0.855652\n",
      "Training until validation scores don't improve for 30 rounds\n",
      "Early stopping, best iteration is:\n",
      "[29]\tvalid's auc: 0.852675\n",
      "Training until validation scores don't improve for 30 rounds\n",
      "[100]\tvalid's auc: 0.85213\n",
      "Did not meet early stopping. Best iteration is:\n",
      "[93]\tvalid's auc: 0.853975\n",
      "Training until validation scores don't improve for 30 rounds\n",
      "Early stopping, best iteration is:\n",
      "[48]\tvalid's auc: 0.861605\n",
      "Training until validation scores don't improve for 30 rounds\n",
      "[100]\tvalid's auc: 0.858125\n",
      "Did not meet early stopping. Best iteration is:\n",
      "[100]\tvalid's auc: 0.858125\n",
      "Training until validation scores don't improve for 30 rounds\n",
      "Early stopping, best iteration is:\n",
      "[42]\tvalid's auc: 0.857161\n",
      "Training until validation scores don't improve for 30 rounds\n",
      "[100]\tvalid's auc: 0.856909\n",
      "Did not meet early stopping. Best iteration is:\n",
      "[97]\tvalid's auc: 0.856909\n",
      "Training until validation scores don't improve for 30 rounds\n",
      "Early stopping, best iteration is:\n",
      "[64]\tvalid's auc: 0.873176\n",
      "Training until validation scores don't improve for 30 rounds\n",
      "Early stopping, best iteration is:\n",
      "[6]\tvalid's auc: 0.867936\n",
      "Training until validation scores don't improve for 30 rounds\n",
      "[100]\tvalid's auc: 0.870493\n",
      "Did not meet early stopping. Best iteration is:\n",
      "[99]\tvalid's auc: 0.870912\n",
      "Training until validation scores don't improve for 30 rounds\n",
      "[100]\tvalid's auc: 0.887137\n",
      "Did not meet early stopping. Best iteration is:\n",
      "[99]\tvalid's auc: 0.88764\n",
      "Training until validation scores don't improve for 30 rounds\n",
      "Early stopping, best iteration is:\n",
      "[41]\tvalid's auc: 0.853555\n",
      "Training until validation scores don't improve for 30 rounds\n",
      "Early stopping, best iteration is:\n",
      "[55]\tvalid's auc: 0.861815\n",
      "Training until validation scores don't improve for 30 rounds\n",
      "[100]\tvalid's auc: 0.87217\n",
      "Did not meet early stopping. Best iteration is:\n",
      "[94]\tvalid's auc: 0.872757\n",
      "Training until validation scores don't improve for 30 rounds\n",
      "[100]\tvalid's auc: 0.849656\n",
      "Did not meet early stopping. Best iteration is:\n",
      "[90]\tvalid's auc: 0.851417\n",
      "Training until validation scores don't improve for 30 rounds\n",
      "Early stopping, best iteration is:\n",
      "[38]\tvalid's auc: 0.857622\n",
      "Training until validation scores don't improve for 30 rounds\n",
      "[100]\tvalid's auc: 0.853723\n",
      "Did not meet early stopping. Best iteration is:\n",
      "[100]\tvalid's auc: 0.853723\n",
      "Training until validation scores don't improve for 30 rounds\n",
      "Early stopping, best iteration is:\n",
      "[1]\tvalid's auc: 0.5\n",
      "Training until validation scores don't improve for 30 rounds\n",
      "Early stopping, best iteration is:\n",
      "[1]\tvalid's auc: 0.5\n",
      "Training until validation scores don't improve for 30 rounds\n",
      "Early stopping, best iteration is:\n",
      "[1]\tvalid's auc: 0.5\n",
      "Training until validation scores don't improve for 30 rounds\n",
      "Early stopping, best iteration is:\n",
      "[69]\tvalid's auc: 0.860515\n",
      "Training until validation scores don't improve for 30 rounds\n",
      "Early stopping, best iteration is:\n",
      "[10]\tvalid's auc: 0.864372\n",
      "Training until validation scores don't improve for 30 rounds\n",
      "Early stopping, best iteration is:\n",
      "[40]\tvalid's auc: 0.859844\n",
      "Training until validation scores don't improve for 30 rounds\n",
      "Early stopping, best iteration is:\n",
      "[46]\tvalid's auc: 0.852843\n",
      "Training until validation scores don't improve for 30 rounds\n",
      "Early stopping, best iteration is:\n",
      "[46]\tvalid's auc: 0.856825\n",
      "Training until validation scores don't improve for 30 rounds\n",
      "Early stopping, best iteration is:\n",
      "[47]\tvalid's auc: 0.856155\n",
      "Training until validation scores don't improve for 30 rounds\n",
      "Early stopping, best iteration is:\n",
      "[43]\tvalid's auc: 0.85452\n",
      "Training until validation scores don't improve for 30 rounds\n",
      "Early stopping, best iteration is:\n",
      "[41]\tvalid's auc: 0.862527\n",
      "Training until validation scores don't improve for 30 rounds\n",
      "[100]\tvalid's auc: 0.863492\n",
      "Did not meet early stopping. Best iteration is:\n",
      "[94]\tvalid's auc: 0.863911\n",
      "Training until validation scores don't improve for 30 rounds\n",
      "Early stopping, best iteration is:\n",
      "[50]\tvalid's auc: 0.850075\n",
      "Training until validation scores don't improve for 30 rounds\n",
      "[100]\tvalid's auc: 0.857874\n",
      "Did not meet early stopping. Best iteration is:\n",
      "[86]\tvalid's auc: 0.857874\n",
      "Training until validation scores don't improve for 30 rounds\n",
      "[100]\tvalid's auc: 0.862905\n",
      "Did not meet early stopping. Best iteration is:\n",
      "[100]\tvalid's auc: 0.862905\n",
      "Training until validation scores don't improve for 30 rounds\n",
      "Early stopping, best iteration is:\n",
      "[6]\tvalid's auc: 0.8162\n",
      "Training until validation scores don't improve for 30 rounds\n",
      "Early stopping, best iteration is:\n",
      "[13]\tvalid's auc: 0.841565\n",
      "Training until validation scores don't improve for 30 rounds\n",
      "Early stopping, best iteration is:\n",
      "[14]\tvalid's auc: 0.841145\n",
      "Training until validation scores don't improve for 30 rounds\n",
      "Early stopping, best iteration is:\n",
      "[1]\tvalid's auc: 0.5\n",
      "Training until validation scores don't improve for 30 rounds\n",
      "Early stopping, best iteration is:\n",
      "[1]\tvalid's auc: 0.5\n",
      "Training until validation scores don't improve for 30 rounds\n",
      "Early stopping, best iteration is:\n",
      "[1]\tvalid's auc: 0.5\n",
      "Training until validation scores don't improve for 30 rounds\n",
      "Early stopping, best iteration is:\n",
      "[1]\tvalid's auc: 0.5\n",
      "Training until validation scores don't improve for 30 rounds\n",
      "Early stopping, best iteration is:\n",
      "[1]\tvalid's auc: 0.5\n",
      "Training until validation scores don't improve for 30 rounds\n",
      "Early stopping, best iteration is:\n",
      "[1]\tvalid's auc: 0.5\n",
      "Training until validation scores don't improve for 30 rounds\n",
      "Early stopping, best iteration is:\n",
      "[1]\tvalid's auc: 0.5\n",
      "Training until validation scores don't improve for 30 rounds\n",
      "Early stopping, best iteration is:\n",
      "[1]\tvalid's auc: 0.5\n",
      "Training until validation scores don't improve for 30 rounds\n",
      "Early stopping, best iteration is:\n",
      "[1]\tvalid's auc: 0.5\n",
      "Training until validation scores don't improve for 30 rounds\n",
      "Early stopping, best iteration is:\n",
      "[6]\tvalid's auc: 0.852926\n",
      "Training until validation scores don't improve for 30 rounds\n",
      "Early stopping, best iteration is:\n",
      "[6]\tvalid's auc: 0.858796\n",
      "Training until validation scores don't improve for 30 rounds\n",
      "[100]\tvalid's auc: 0.861228\n",
      "Did not meet early stopping. Best iteration is:\n",
      "[98]\tvalid's auc: 0.861773\n",
      "Training until validation scores don't improve for 30 rounds\n",
      "[100]\tvalid's auc: 0.847895\n",
      "Early stopping, best iteration is:\n",
      "[70]\tvalid's auc: 0.854226\n",
      "Training until validation scores don't improve for 30 rounds\n",
      "Early stopping, best iteration is:\n",
      "[32]\tvalid's auc: 0.858377\n",
      "Training until validation scores don't improve for 30 rounds\n",
      "[100]\tvalid's auc: 0.853471\n",
      "Did not meet early stopping. Best iteration is:\n",
      "[90]\tvalid's auc: 0.853471\n",
      "Training until validation scores don't improve for 30 rounds\n",
      "Early stopping, best iteration is:\n",
      "[1]\tvalid's auc: 0.5\n",
      "Training until validation scores don't improve for 30 rounds\n",
      "Early stopping, best iteration is:\n",
      "[1]\tvalid's auc: 0.5\n",
      "Training until validation scores don't improve for 30 rounds\n",
      "Early stopping, best iteration is:\n",
      "[1]\tvalid's auc: 0.5\n",
      "Training until validation scores don't improve for 30 rounds\n",
      "Early stopping, best iteration is:\n",
      "[27]\tvalid's auc: 0.850662\n",
      "Training until validation scores don't improve for 30 rounds\n",
      "Early stopping, best iteration is:\n",
      "[46]\tvalid's auc: 0.850159\n",
      "Training until validation scores don't improve for 30 rounds\n",
      "Early stopping, best iteration is:\n",
      "[48]\tvalid's auc: 0.847812\n",
      "Training until validation scores don't improve for 30 rounds\n",
      "Early stopping, best iteration is:\n",
      "[26]\tvalid's auc: 0.861521\n",
      "Training until validation scores don't improve for 30 rounds\n",
      "Early stopping, best iteration is:\n",
      "[7]\tvalid's auc: 0.851794\n",
      "Training until validation scores don't improve for 30 rounds\n",
      "Early stopping, best iteration is:\n",
      "[59]\tvalid's auc: 0.870619\n",
      "Training until validation scores don't improve for 30 rounds\n",
      "Early stopping, best iteration is:\n",
      "[1]\tvalid's auc: 0.771843\n",
      "Training until validation scores don't improve for 30 rounds\n",
      "Early stopping, best iteration is:\n",
      "[1]\tvalid's auc: 0.771843\n",
      "Training until validation scores don't improve for 30 rounds\n",
      "Early stopping, best iteration is:\n",
      "[1]\tvalid's auc: 0.771843\n",
      "Training until validation scores don't improve for 30 rounds\n",
      "Early stopping, best iteration is:\n",
      "[21]\tvalid's auc: 0.853052\n",
      "Training until validation scores don't improve for 30 rounds\n",
      "[100]\tvalid's auc: 0.863743\n",
      "Did not meet early stopping. Best iteration is:\n",
      "[86]\tvalid's auc: 0.865336\n",
      "Training until validation scores don't improve for 30 rounds\n",
      "[100]\tvalid's auc: 0.878836\n",
      "Did not meet early stopping. Best iteration is:\n",
      "[98]\tvalid's auc: 0.879172\n",
      "Training until validation scores don't improve for 30 rounds\n",
      "Early stopping, best iteration is:\n",
      "[59]\tvalid's auc: 0.855274\n",
      "Training until validation scores don't improve for 30 rounds\n",
      "Early stopping, best iteration is:\n",
      "[5]\tvalid's auc: 0.856406\n",
      "Training until validation scores don't improve for 30 rounds\n",
      "Early stopping, best iteration is:\n",
      "[7]\tvalid's auc: 0.852968\n",
      "Training until validation scores don't improve for 30 rounds\n",
      "Early stopping, best iteration is:\n",
      "[1]\tvalid's auc: 0.5\n",
      "Training until validation scores don't improve for 30 rounds\n",
      "Early stopping, best iteration is:\n",
      "[1]\tvalid's auc: 0.5\n",
      "Training until validation scores don't improve for 30 rounds\n",
      "Early stopping, best iteration is:\n",
      "[1]\tvalid's auc: 0.5\n",
      "Training until validation scores don't improve for 30 rounds\n",
      "Early stopping, best iteration is:\n",
      "[11]\tvalid's auc: 0.850285\n",
      "Training until validation scores don't improve for 30 rounds\n",
      "Early stopping, best iteration is:\n",
      "[27]\tvalid's auc: 0.851794\n",
      "Training until validation scores don't improve for 30 rounds\n",
      "Early stopping, best iteration is:\n",
      "[13]\tvalid's auc: 0.849614\n",
      "Training until validation scores don't improve for 30 rounds\n",
      "Early stopping, best iteration is:\n",
      "[6]\tvalid's auc: 0.852423\n",
      "Training until validation scores don't improve for 30 rounds\n",
      "Early stopping, best iteration is:\n",
      "[42]\tvalid's auc: 0.86085\n",
      "Training until validation scores don't improve for 30 rounds\n",
      "Early stopping, best iteration is:\n",
      "[6]\tvalid's auc: 0.852591\n",
      "Training until validation scores don't improve for 30 rounds\n",
      "Early stopping, best iteration is:\n",
      "[1]\tvalid's auc: 0.5\n",
      "Training until validation scores don't improve for 30 rounds\n",
      "Early stopping, best iteration is:\n",
      "[1]\tvalid's auc: 0.5\n",
      "Training until validation scores don't improve for 30 rounds\n",
      "Early stopping, best iteration is:\n",
      "[1]\tvalid's auc: 0.5\n",
      "Training until validation scores don't improve for 30 rounds\n",
      "Early stopping, best iteration is:\n",
      "[41]\tvalid's auc: 0.856448\n",
      "Training until validation scores don't improve for 30 rounds\n",
      "Early stopping, best iteration is:\n",
      "[13]\tvalid's auc: 0.865378\n",
      "Training until validation scores don't improve for 30 rounds\n",
      "[100]\tvalid's auc: 0.872044\n",
      "Did not meet early stopping. Best iteration is:\n",
      "[88]\tvalid's auc: 0.873805\n",
      "Training until validation scores don't improve for 30 rounds\n",
      "Early stopping, best iteration is:\n",
      "[1]\tvalid's auc: 0.5\n",
      "Training until validation scores don't improve for 30 rounds\n",
      "Early stopping, best iteration is:\n",
      "[1]\tvalid's auc: 0.5\n",
      "Training until validation scores don't improve for 30 rounds\n",
      "Early stopping, best iteration is:\n",
      "[1]\tvalid's auc: 0.5\n",
      "Training until validation scores don't improve for 30 rounds\n",
      "Early stopping, best iteration is:\n",
      "[1]\tvalid's auc: 0.5\n",
      "Training until validation scores don't improve for 30 rounds\n",
      "Early stopping, best iteration is:\n",
      "[1]\tvalid's auc: 0.5\n",
      "Training until validation scores don't improve for 30 rounds\n",
      "Early stopping, best iteration is:\n",
      "[1]\tvalid's auc: 0.5\n",
      "Training until validation scores don't improve for 30 rounds\n",
      "Early stopping, best iteration is:\n",
      "[1]\tvalid's auc: 0.5\n",
      "Training until validation scores don't improve for 30 rounds\n",
      "Early stopping, best iteration is:\n",
      "[1]\tvalid's auc: 0.5\n",
      "Training until validation scores don't improve for 30 rounds\n",
      "Early stopping, best iteration is:\n",
      "[1]\tvalid's auc: 0.5\n",
      "Training until validation scores don't improve for 30 rounds\n",
      "Early stopping, best iteration is:\n",
      "[1]\tvalid's auc: 0.5\n",
      "Training until validation scores don't improve for 30 rounds\n",
      "Early stopping, best iteration is:\n",
      "[1]\tvalid's auc: 0.5\n",
      "Training until validation scores don't improve for 30 rounds\n",
      "Early stopping, best iteration is:\n",
      "[1]\tvalid's auc: 0.5\n",
      "Training until validation scores don't improve for 30 rounds\n",
      "Early stopping, best iteration is:\n",
      "[19]\tvalid's auc: 0.858041\n",
      "Training until validation scores don't improve for 30 rounds\n",
      "Early stopping, best iteration is:\n",
      "[41]\tvalid's auc: 0.868103\n",
      "Training until validation scores don't improve for 30 rounds\n",
      "Early stopping, best iteration is:\n",
      "[45]\tvalid's auc: 0.876908\n",
      "Training until validation scores don't improve for 30 rounds\n",
      "Early stopping, best iteration is:\n",
      "[19]\tvalid's auc: 0.860473\n",
      "Training until validation scores don't improve for 30 rounds\n",
      "Early stopping, best iteration is:\n",
      "[49]\tvalid's auc: 0.867349\n",
      "Training until validation scores don't improve for 30 rounds\n",
      "[100]\tvalid's auc: 0.881645\n",
      "Did not meet early stopping. Best iteration is:\n",
      "[86]\tvalid's auc: 0.883364\n",
      "Training until validation scores don't improve for 30 rounds\n",
      "Early stopping, best iteration is:\n",
      "[1]\tvalid's auc: 0.5\n",
      "Training until validation scores don't improve for 30 rounds\n",
      "Early stopping, best iteration is:\n",
      "[1]\tvalid's auc: 0.5\n",
      "Training until validation scores don't improve for 30 rounds\n",
      "Early stopping, best iteration is:\n",
      "[1]\tvalid's auc: 0.5\n",
      "Training until validation scores don't improve for 30 rounds\n",
      "Early stopping, best iteration is:\n",
      "[1]\tvalid's auc: 0.5\n",
      "Training until validation scores don't improve for 30 rounds\n",
      "Early stopping, best iteration is:\n",
      "[1]\tvalid's auc: 0.5\n",
      "Training until validation scores don't improve for 30 rounds\n",
      "Early stopping, best iteration is:\n",
      "[1]\tvalid's auc: 0.5\n",
      "Training until validation scores don't improve for 30 rounds\n",
      "Early stopping, best iteration is:\n",
      "[6]\tvalid's auc: 0.851207\n",
      "Training until validation scores don't improve for 30 rounds\n",
      "Early stopping, best iteration is:\n",
      "[7]\tvalid's auc: 0.856867\n",
      "Training until validation scores don't improve for 30 rounds\n",
      "Early stopping, best iteration is:\n",
      "[36]\tvalid's auc: 0.863617\n",
      "Training until validation scores don't improve for 30 rounds\n",
      "Early stopping, best iteration is:\n",
      "[6]\tvalid's auc: 0.851543\n",
      "Training until validation scores don't improve for 30 rounds\n",
      "Early stopping, best iteration is:\n",
      "[16]\tvalid's auc: 0.853975\n",
      "Training until validation scores don't improve for 30 rounds\n",
      "Early stopping, best iteration is:\n",
      "[19]\tvalid's auc: 0.856742\n",
      "Training until validation scores don't improve for 30 rounds\n",
      "Early stopping, best iteration is:\n",
      "[6]\tvalid's auc: 0.857287\n",
      "Training until validation scores don't improve for 30 rounds\n",
      "Early stopping, best iteration is:\n",
      "[17]\tvalid's auc: 0.860808\n",
      "Training until validation scores don't improve for 30 rounds\n",
      "[100]\tvalid's auc: 0.863785\n",
      "Did not meet early stopping. Best iteration is:\n",
      "[75]\tvalid's auc: 0.863995\n",
      "Training until validation scores don't improve for 30 rounds\n",
      "Early stopping, best iteration is:\n",
      "[7]\tvalid's auc: 0.858209\n",
      "Training until validation scores don't improve for 30 rounds\n",
      "Early stopping, best iteration is:\n",
      "[42]\tvalid's auc: 0.862318\n",
      "Training until validation scores don't improve for 30 rounds\n",
      "[100]\tvalid's auc: 0.872086\n",
      "Did not meet early stopping. Best iteration is:\n",
      "[99]\tvalid's auc: 0.872086\n",
      "Training until validation scores don't improve for 30 rounds\n",
      "[100]\tvalid's auc: 0.877536\n",
      "Did not meet early stopping. Best iteration is:\n",
      "[92]\tvalid's auc: 0.877956\n",
      "Best score reached: 0.8425053575456527 with params: {'colsample_bytree': 0.952164731370897, 'min_child_samples': 61, 'min_child_weight': 0.01, 'num_leaves': 38, 'reg_alpha': 0, 'reg_lambda': 0.1, 'subsample': 0.3029313662262354} \n"
     ]
    }
   ],
   "source": [
    "gs.fit(x_train, y_train, **fit_params)\n",
    "print('Best score reached: {} with params: {} '.format(gs.best_score_, gs.best_params_))"
   ]
  },
  {
   "cell_type": "code",
   "execution_count": 85,
   "id": "dominant-bunch",
   "metadata": {
    "execution": {
     "iopub.execute_input": "2021-05-27T03:41:34.305653Z",
     "iopub.status.busy": "2021-05-27T03:41:34.304616Z",
     "iopub.status.idle": "2021-05-27T03:41:34.306977Z",
     "shell.execute_reply": "2021-05-27T03:41:34.307532Z",
     "shell.execute_reply.started": "2021-05-27T03:04:39.091431Z"
    },
    "papermill": {
     "duration": 0.152753,
     "end_time": "2021-05-27T03:41:34.307737",
     "exception": false,
     "start_time": "2021-05-27T03:41:34.154984",
     "status": "completed"
    },
    "tags": []
   },
   "outputs": [],
   "source": [
    "opt_params={'colsample_bytree':  0.952164731370897, 'min_child_samples': 61, \n",
    "            'min_child_weight': 0.01, 'num_leaves': 38, 'reg_alpha': 0, \n",
    "            'reg_lambda': 0.1, 'subsample':0.3029313662262354} "
   ]
  },
  {
   "cell_type": "code",
   "execution_count": 86,
   "id": "advised-bookmark",
   "metadata": {
    "execution": {
     "iopub.execute_input": "2021-05-27T03:41:34.604181Z",
     "iopub.status.busy": "2021-05-27T03:41:34.603192Z",
     "iopub.status.idle": "2021-05-27T03:41:34.614024Z",
     "shell.execute_reply": "2021-05-27T03:41:34.613410Z",
     "shell.execute_reply.started": "2021-05-27T03:04:48.471283Z"
    },
    "papermill": {
     "duration": 0.16013,
     "end_time": "2021-05-27T03:41:34.614157",
     "exception": false,
     "start_time": "2021-05-27T03:41:34.454027",
     "status": "completed"
    },
    "tags": []
   },
   "outputs": [
    {
     "data": {
      "text/plain": [
       "LGBMClassifier(colsample_bytree=0.952164731370897, metric='None',\n",
       "               min_child_samples=61, min_child_weight=0.01, n_jobs=4,\n",
       "               num_leaves=38, random_state=42, reg_alpha=0, reg_lambda=0.1,\n",
       "               subsample=0.3029313662262354)"
      ]
     },
     "execution_count": 86,
     "metadata": {},
     "output_type": "execute_result"
    }
   ],
   "source": [
    "clf_sw = lgb.LGBMClassifier(**clf.get_params())\n",
    "#set optimal parameters\n",
    "clf_sw.set_params(**opt_params)"
   ]
  },
  {
   "cell_type": "code",
   "execution_count": 87,
   "id": "collective-checkout",
   "metadata": {
    "execution": {
     "iopub.execute_input": "2021-05-27T03:41:34.915792Z",
     "iopub.status.busy": "2021-05-27T03:41:34.915052Z",
     "iopub.status.idle": "2021-05-27T03:41:34.952180Z",
     "shell.execute_reply": "2021-05-27T03:41:34.952994Z",
     "shell.execute_reply.started": "2021-05-27T03:06:24.611743Z"
    },
    "papermill": {
     "duration": 0.193574,
     "end_time": "2021-05-27T03:41:34.953250",
     "exception": false,
     "start_time": "2021-05-27T03:41:34.759676",
     "status": "completed"
    },
    "tags": []
   },
   "outputs": [
    {
     "name": "stdout",
     "output_type": "stream",
     "text": [
      "lgbm model accuracy score: 0.8341\n"
     ]
    }
   ],
   "source": [
    "clf_sw.fit(x_train,y_train)\n",
    "pred9=clf_sw.predict(x_test)\n",
    "print('lgbm model accuracy score: {0:0.4f}'. format(accuracy_score(y_test,pred9)))"
   ]
  },
  {
   "cell_type": "markdown",
   "id": "hearing-shelf",
   "metadata": {
    "papermill": {
     "duration": 0.145479,
     "end_time": "2021-05-27T03:41:35.248499",
     "exception": false,
     "start_time": "2021-05-27T03:41:35.103020",
     "status": "completed"
    },
    "tags": []
   },
   "source": [
    "<p style = \"font-size : 25px; color : #34656d ; font-family : 'Comic Sans MS'; text-align : center; background-color : lightgreen; border-radius: 5px 5px;\"><strong>CatBoost Classifier</strong></p>"
   ]
  },
  {
   "cell_type": "code",
   "execution_count": 88,
   "id": "amber-symposium",
   "metadata": {
    "execution": {
     "iopub.execute_input": "2021-05-27T03:41:35.546531Z",
     "iopub.status.busy": "2021-05-27T03:41:35.545872Z",
     "iopub.status.idle": "2021-05-27T03:41:35.822154Z",
     "shell.execute_reply": "2021-05-27T03:41:35.822674Z",
     "shell.execute_reply.started": "2021-05-27T03:19:38.881253Z"
    },
    "papermill": {
     "duration": 0.428538,
     "end_time": "2021-05-27T03:41:35.822886",
     "exception": false,
     "start_time": "2021-05-27T03:41:35.394348",
     "status": "completed"
    },
    "tags": []
   },
   "outputs": [
    {
     "name": "stdout",
     "output_type": "stream",
     "text": [
      "Learning rate set to 0.5\n",
      "0:\tlearn: 0.5507645\ttotal: 52.4ms\tremaining: 472ms\n",
      "1:\tlearn: 0.4739133\ttotal: 53.4ms\tremaining: 214ms\n",
      "2:\tlearn: 0.4410675\ttotal: 54.4ms\tremaining: 127ms\n",
      "3:\tlearn: 0.4203366\ttotal: 55.2ms\tremaining: 82.7ms\n",
      "4:\tlearn: 0.4132060\ttotal: 55.8ms\tremaining: 55.8ms\n",
      "5:\tlearn: 0.4036937\ttotal: 56.7ms\tremaining: 37.8ms\n",
      "6:\tlearn: 0.3942881\ttotal: 57.8ms\tremaining: 24.8ms\n",
      "7:\tlearn: 0.3926587\ttotal: 58.9ms\tremaining: 14.7ms\n",
      "8:\tlearn: 0.3884038\ttotal: 60.6ms\tremaining: 6.74ms\n",
      "9:\tlearn: 0.3857726\ttotal: 62.8ms\tremaining: 0us\n",
      "CatBoostClassifier model accuracy score: 0.8161\n"
     ]
    }
   ],
   "source": [
    "from catboost import CatBoostClassifier\n",
    "\n",
    "cat = CatBoostClassifier(iterations=10)\n",
    "cat.fit(x_train, y_train)\n",
    "pred10=cat.predict(x_test)\n",
    "acc_cat=cat.score(x_train,y_train)\n",
    "print('CatBoostClassifier model accuracy score: {0:0.4f}'. format(accuracy_score(y_test,pred10)))"
   ]
  },
  {
   "cell_type": "markdown",
   "id": "painted-storage",
   "metadata": {
    "papermill": {
     "duration": 0.148743,
     "end_time": "2021-05-27T03:41:36.119956",
     "exception": false,
     "start_time": "2021-05-27T03:41:35.971213",
     "status": "completed"
    },
    "tags": []
   },
   "source": [
    "<p style = \"font-size : 25px; color : #34656d ; font-family : 'Comic Sans MS'; text-align : center; background-color : lightgreen; border-radius: 5px 5px;\"><strong>Voting Classifier</strong></p>"
   ]
  },
  {
   "cell_type": "code",
   "execution_count": 89,
   "id": "rocky-imagination",
   "metadata": {
    "execution": {
     "iopub.execute_input": "2021-05-27T03:41:36.432419Z",
     "iopub.status.busy": "2021-05-27T03:41:36.431310Z",
     "iopub.status.idle": "2021-05-27T03:41:37.481516Z",
     "shell.execute_reply": "2021-05-27T03:41:37.480628Z",
     "shell.execute_reply.started": "2021-05-27T03:24:24.721298Z"
    },
    "papermill": {
     "duration": 1.215623,
     "end_time": "2021-05-27T03:41:37.481656",
     "exception": false,
     "start_time": "2021-05-27T03:41:36.266033",
     "status": "completed"
    },
    "tags": []
   },
   "outputs": [
    {
     "name": "stdout",
     "output_type": "stream",
     "text": [
      "Learning rate set to 0.5\n",
      "0:\tlearn: 0.5507645\ttotal: 643us\tremaining: 5.79ms\n",
      "1:\tlearn: 0.4739133\ttotal: 1.27ms\tremaining: 5.1ms\n",
      "2:\tlearn: 0.4410675\ttotal: 1.9ms\tremaining: 4.42ms\n",
      "3:\tlearn: 0.4203366\ttotal: 2.34ms\tremaining: 3.51ms\n",
      "4:\tlearn: 0.4132060\ttotal: 2.73ms\tremaining: 2.73ms\n",
      "5:\tlearn: 0.4036937\ttotal: 3.26ms\tremaining: 2.18ms\n",
      "6:\tlearn: 0.3942881\ttotal: 3.84ms\tremaining: 1.64ms\n",
      "7:\tlearn: 0.3926587\ttotal: 4.24ms\tremaining: 1.06ms\n",
      "8:\tlearn: 0.3884038\ttotal: 4.78ms\tremaining: 530us\n",
      "9:\tlearn: 0.3857726\ttotal: 5.35ms\tremaining: 0us\n",
      "Voting Classifier: 0.821\n"
     ]
    }
   ],
   "source": [
    "from sklearn.ensemble import VotingClassifier \n",
    "classifiers = [('Gradient Boosting Classifier', gb), ('Stochastic Gradient Boosting', sgd),  ('Cat Boost Classifier', cat), \n",
    "                ('Decision Tree', decision_tree), ('Light Gradient', clf_sw),\n",
    "               ('Random Forest', random_forest), ('Ada Boost', adb), ('Logistic', logistic)]\n",
    "vc = VotingClassifier(estimators = classifiers)\n",
    "vc.fit(x_train, y_train) \n",
    "voting_pred = vc.predict(x_test)\n",
    "accuracy = accuracy_score(y_test,voting_pred)\n",
    "print('Voting Classifier: {:.3f}'.format(accuracy))"
   ]
  },
  {
   "cell_type": "code",
   "execution_count": 90,
   "id": "compact-woman",
   "metadata": {
    "execution": {
     "iopub.execute_input": "2021-05-27T03:41:37.787966Z",
     "iopub.status.busy": "2021-05-27T03:41:37.787277Z",
     "iopub.status.idle": "2021-05-27T03:41:38.113855Z",
     "shell.execute_reply": "2021-05-27T03:41:38.113310Z",
     "shell.execute_reply.started": "2021-05-27T03:24:33.816180Z"
    },
    "papermill": {
     "duration": 0.485799,
     "end_time": "2021-05-27T03:41:38.114030",
     "exception": false,
     "start_time": "2021-05-27T03:41:37.628231",
     "status": "completed"
    },
    "tags": []
   },
   "outputs": [
    {
     "name": "stdout",
     "output_type": "stream",
     "text": [
      "[[120  14]\n",
      " [ 26  63]]\n",
      "\n",
      "              precision    recall  f1-score   support\n",
      "\n",
      "           0       0.82      0.90      0.86       134\n",
      "           1       0.82      0.71      0.76        89\n",
      "\n",
      "    accuracy                           0.82       223\n",
      "   macro avg       0.82      0.80      0.81       223\n",
      "weighted avg       0.82      0.82      0.82       223\n",
      "\n"
     ]
    }
   ],
   "source": [
    "from sklearn.metrics import confusion_matrix\n",
    "from sklearn.metrics import classification_report\n",
    "print(f\"{confusion_matrix(y_test, vc.predict(x_test))}\\n\")\n",
    "print(classification_report(y_test, vc.predict(x_test)))"
   ]
  },
  {
   "cell_type": "markdown",
   "id": "irish-auckland",
   "metadata": {
    "papermill": {
     "duration": 0.147326,
     "end_time": "2021-05-27T03:41:38.408724",
     "exception": false,
     "start_time": "2021-05-27T03:41:38.261398",
     "status": "completed"
    },
    "tags": []
   },
   "source": []
  },
  {
   "cell_type": "markdown",
   "id": "colored-passage",
   "metadata": {
    "papermill": {
     "duration": 0.145813,
     "end_time": "2021-05-27T03:41:38.702510",
     "exception": false,
     "start_time": "2021-05-27T03:41:38.556697",
     "status": "completed"
    },
    "tags": []
   },
   "source": [
    "<p style = \"font-size : 35px; color : #34656d ; font-family : 'Comic Sans MS'; text-align : center; background-color : lightblue; border-radius: 5px 5px;\"><strong>Important Features</strong></p>"
   ]
  },
  {
   "cell_type": "code",
   "execution_count": 91,
   "id": "capital-arizona",
   "metadata": {
    "execution": {
     "iopub.execute_input": "2021-05-27T03:41:39.003199Z",
     "iopub.status.busy": "2021-05-27T03:41:39.002513Z",
     "iopub.status.idle": "2021-05-27T03:41:39.116612Z",
     "shell.execute_reply": "2021-05-27T03:41:39.117143Z",
     "shell.execute_reply.started": "2021-05-27T03:24:42.495852Z"
    },
    "papermill": {
     "duration": 0.267486,
     "end_time": "2021-05-27T03:41:39.117321",
     "exception": false,
     "start_time": "2021-05-27T03:41:38.849835",
     "status": "completed"
    },
    "tags": []
   },
   "outputs": [
    {
     "data": {
      "text/html": [
       "<div>\n",
       "<style scoped>\n",
       "    .dataframe tbody tr th:only-of-type {\n",
       "        vertical-align: middle;\n",
       "    }\n",
       "\n",
       "    .dataframe tbody tr th {\n",
       "        vertical-align: top;\n",
       "    }\n",
       "\n",
       "    .dataframe thead th {\n",
       "        text-align: right;\n",
       "    }\n",
       "</style>\n",
       "<table border=\"1\" class=\"dataframe\">\n",
       "  <thead>\n",
       "    <tr style=\"text-align: right;\">\n",
       "      <th></th>\n",
       "      <th>importance</th>\n",
       "    </tr>\n",
       "    <tr>\n",
       "      <th>feature</th>\n",
       "      <th></th>\n",
       "    </tr>\n",
       "  </thead>\n",
       "  <tbody>\n",
       "    <tr>\n",
       "      <th>Sex_male</th>\n",
       "      <td>0.317</td>\n",
       "    </tr>\n",
       "    <tr>\n",
       "      <th>Fare</th>\n",
       "      <td>0.240</td>\n",
       "    </tr>\n",
       "    <tr>\n",
       "      <th>Age</th>\n",
       "      <td>0.204</td>\n",
       "    </tr>\n",
       "    <tr>\n",
       "      <th>Pclass</th>\n",
       "      <td>0.106</td>\n",
       "    </tr>\n",
       "    <tr>\n",
       "      <th>SibSp</th>\n",
       "      <td>0.056</td>\n",
       "    </tr>\n",
       "    <tr>\n",
       "      <th>Parch</th>\n",
       "      <td>0.043</td>\n",
       "    </tr>\n",
       "    <tr>\n",
       "      <th>Embarked_S</th>\n",
       "      <td>0.024</td>\n",
       "    </tr>\n",
       "    <tr>\n",
       "      <th>Embarked_Q</th>\n",
       "      <td>0.010</td>\n",
       "    </tr>\n",
       "  </tbody>\n",
       "</table>\n",
       "</div>"
      ],
      "text/plain": [
       "            importance\n",
       "feature               \n",
       "Sex_male         0.317\n",
       "Fare             0.240\n",
       "Age              0.204\n",
       "Pclass           0.106\n",
       "SibSp            0.056\n",
       "Parch            0.043\n",
       "Embarked_S       0.024\n",
       "Embarked_Q       0.010"
      ]
     },
     "execution_count": 91,
     "metadata": {},
     "output_type": "execute_result"
    }
   ],
   "source": [
    "importances = pd.DataFrame({'feature':train.columns,'importance':np.round(random_forest.feature_importances_,3)})\n",
    "importances = importances.sort_values('importance',ascending=False).set_index('feature')\n",
    "importances.head(15)"
   ]
  },
  {
   "cell_type": "code",
   "execution_count": 92,
   "id": "alert-paste",
   "metadata": {
    "execution": {
     "iopub.execute_input": "2021-05-27T03:41:39.440706Z",
     "iopub.status.busy": "2021-05-27T03:41:39.440098Z",
     "iopub.status.idle": "2021-05-27T03:41:39.586398Z",
     "shell.execute_reply": "2021-05-27T03:41:39.586851Z",
     "shell.execute_reply.started": "2021-05-27T03:24:44.930046Z"
    },
    "papermill": {
     "duration": 0.322901,
     "end_time": "2021-05-27T03:41:39.587013",
     "exception": false,
     "start_time": "2021-05-27T03:41:39.264112",
     "status": "completed"
    },
    "tags": []
   },
   "outputs": [
    {
     "data": {
      "text/plain": [
       "<AxesSubplot:xlabel='feature'>"
      ]
     },
     "execution_count": 92,
     "metadata": {},
     "output_type": "execute_result"
    },
    {
     "data": {
      "image/png": "[encoded data removed]",
      "text/plain": [
       "<Figure size 432x288 with 1 Axes>"
      ]
     },
     "metadata": {
      "needs_background": "light"
     },
     "output_type": "display_data"
    }
   ],
   "source": [
    "importances.plot.bar()"
   ]
  },
  {
   "cell_type": "markdown",
   "id": "matched-preparation",
   "metadata": {
    "papermill": {
     "duration": 0.148712,
     "end_time": "2021-05-27T03:41:39.882980",
     "exception": false,
     "start_time": "2021-05-27T03:41:39.734268",
     "status": "completed"
    },
    "tags": []
   },
   "source": [
    "<p style = \"font-size : 25px; color : #34656d ; font-family : 'Comic Sans MS'; text-align : center; background-color : lightgreen; border-radius: 5px 5px;\"><strong>Model Comaprison</strong></p>"
   ]
  },
  {
   "cell_type": "code",
   "execution_count": 93,
   "id": "eastern-grass",
   "metadata": {
    "execution": {
     "iopub.execute_input": "2021-05-27T03:41:40.181126Z",
     "iopub.status.busy": "2021-05-27T03:41:40.180447Z",
     "iopub.status.idle": "2021-05-27T03:41:40.197929Z",
     "shell.execute_reply": "2021-05-27T03:41:40.197402Z",
     "shell.execute_reply.started": "2021-05-27T03:33:51.716596Z"
    },
    "papermill": {
     "duration": 0.167973,
     "end_time": "2021-05-27T03:41:40.198069",
     "exception": false,
     "start_time": "2021-05-27T03:41:40.030096",
     "status": "completed"
    },
    "tags": []
   },
   "outputs": [
    {
     "data": {
      "text/html": [
       "<div>\n",
       "<style scoped>\n",
       "    .dataframe tbody tr th:only-of-type {\n",
       "        vertical-align: middle;\n",
       "    }\n",
       "\n",
       "    .dataframe tbody tr th {\n",
       "        vertical-align: top;\n",
       "    }\n",
       "\n",
       "    .dataframe thead th {\n",
       "        text-align: right;\n",
       "    }\n",
       "</style>\n",
       "<table border=\"1\" class=\"dataframe\">\n",
       "  <thead>\n",
       "    <tr style=\"text-align: right;\">\n",
       "      <th></th>\n",
       "      <th>Model</th>\n",
       "      <th>Score</th>\n",
       "    </tr>\n",
       "  </thead>\n",
       "  <tbody>\n",
       "    <tr>\n",
       "      <th>8</th>\n",
       "      <td>Lightgbm</td>\n",
       "      <td>0.834081</td>\n",
       "    </tr>\n",
       "    <tr>\n",
       "      <th>1</th>\n",
       "      <td>Random Forest Classifier</td>\n",
       "      <td>0.825112</td>\n",
       "    </tr>\n",
       "    <tr>\n",
       "      <th>10</th>\n",
       "      <td>Voting Classifier</td>\n",
       "      <td>0.820628</td>\n",
       "    </tr>\n",
       "    <tr>\n",
       "      <th>7</th>\n",
       "      <td>Gradient Boosting Classifier</td>\n",
       "      <td>0.816143</td>\n",
       "    </tr>\n",
       "    <tr>\n",
       "      <th>9</th>\n",
       "      <td>Cat Boost</td>\n",
       "      <td>0.816143</td>\n",
       "    </tr>\n",
       "    <tr>\n",
       "      <th>3</th>\n",
       "      <td>KNN</td>\n",
       "      <td>0.811659</td>\n",
       "    </tr>\n",
       "    <tr>\n",
       "      <th>0</th>\n",
       "      <td>Logistic Regression</td>\n",
       "      <td>0.807175</td>\n",
       "    </tr>\n",
       "    <tr>\n",
       "      <th>5</th>\n",
       "      <td>Decision Tree Classifier</td>\n",
       "      <td>0.802691</td>\n",
       "    </tr>\n",
       "    <tr>\n",
       "      <th>4</th>\n",
       "      <td>LSVM</td>\n",
       "      <td>0.798206</td>\n",
       "    </tr>\n",
       "    <tr>\n",
       "      <th>6</th>\n",
       "      <td>Ada Boost Classifier</td>\n",
       "      <td>0.784753</td>\n",
       "    </tr>\n",
       "    <tr>\n",
       "      <th>2</th>\n",
       "      <td>Stochastic Gradient Boosting</td>\n",
       "      <td>0.757848</td>\n",
       "    </tr>\n",
       "  </tbody>\n",
       "</table>\n",
       "</div>"
      ],
      "text/plain": [
       "                           Model     Score\n",
       "8                       Lightgbm  0.834081\n",
       "1       Random Forest Classifier  0.825112\n",
       "10             Voting Classifier  0.820628\n",
       "7   Gradient Boosting Classifier  0.816143\n",
       "9                      Cat Boost  0.816143\n",
       "3                            KNN  0.811659\n",
       "0            Logistic Regression  0.807175\n",
       "5       Decision Tree Classifier  0.802691\n",
       "4                           LSVM  0.798206\n",
       "6           Ada Boost Classifier  0.784753\n",
       "2   Stochastic Gradient Boosting  0.757848"
      ]
     },
     "execution_count": 93,
     "metadata": {},
     "output_type": "execute_result"
    }
   ],
   "source": [
    "models = pd.DataFrame({\n",
    "    'Model' : ['Logistic Regression','Random Forest Classifier','Stochastic Gradient Boosting', 'KNN','LSVM', 'Decision Tree Classifier','Ada Boost Classifier',\n",
    "             'Gradient Boosting Classifier','Lightgbm', 'Cat Boost',  'Voting Classifier'],\n",
    "    'Score' : [accuracy_score(y_test,pred1), accuracy_score(y_test,pred2), accuracy_score(y_test,pred3),\n",
    "               accuracy_score(y_test,pred4),accuracy_score(y_test,pred5), accuracy_score(y_test,pred_6),\n",
    "               accuracy_score(y_test,pred7), accuracy_score(y_test,pred8), accuracy_score(y_test,pred9)\n",
    "               ,accuracy_score(y_test,pred10),accuracy]\n",
    "})\n",
    "\n",
    "\n",
    "models.sort_values(by = 'Score', ascending = False)"
   ]
  },
  {
   "cell_type": "markdown",
   "id": "confused-concert",
   "metadata": {
    "papermill": {
     "duration": 0.149989,
     "end_time": "2021-05-27T03:41:40.495742",
     "exception": false,
     "start_time": "2021-05-27T03:41:40.345753",
     "status": "completed"
    },
    "tags": []
   },
   "source": [
    "<p style = \"font-size : 25px; color : #34656d ; font-family : 'Comic Sans MS'; text-align : center; background-color : lightgreen; border-radius: 5px 5px;\"><strong>Final Prediction</strong></p>"
   ]
  },
  {
   "cell_type": "code",
   "execution_count": 94,
   "id": "numeric-chinese",
   "metadata": {
    "execution": {
     "iopub.execute_input": "2021-05-27T03:41:40.804218Z",
     "iopub.status.busy": "2021-05-27T03:41:40.803547Z",
     "iopub.status.idle": "2021-05-27T03:41:40.969615Z",
     "shell.execute_reply": "2021-05-27T03:41:40.969062Z",
     "shell.execute_reply.started": "2021-05-27T03:34:13.435393Z"
    },
    "papermill": {
     "duration": 0.325322,
     "end_time": "2021-05-27T03:41:40.969754",
     "exception": false,
     "start_time": "2021-05-27T03:41:40.644432",
     "status": "completed"
    },
    "tags": []
   },
   "outputs": [],
   "source": [
    "final_pred=vc.predict(test)"
   ]
  },
  {
   "cell_type": "code",
   "execution_count": 95,
   "id": "desirable-morris",
   "metadata": {
    "execution": {
     "iopub.execute_input": "2021-05-27T03:41:41.271500Z",
     "iopub.status.busy": "2021-05-27T03:41:41.270916Z",
     "iopub.status.idle": "2021-05-27T03:41:41.280177Z",
     "shell.execute_reply": "2021-05-27T03:41:41.280606Z",
     "shell.execute_reply.started": "2021-05-27T03:34:15.055822Z"
    },
    "papermill": {
     "duration": 0.162931,
     "end_time": "2021-05-27T03:41:41.280785",
     "exception": false,
     "start_time": "2021-05-27T03:41:41.117854",
     "status": "completed"
    },
    "tags": []
   },
   "outputs": [],
   "source": [
    "submission=pd.read_csv('../input/titanic/gender_submission.csv')"
   ]
  },
  {
   "cell_type": "code",
   "execution_count": 96,
   "id": "classified-puppy",
   "metadata": {
    "execution": {
     "iopub.execute_input": "2021-05-27T03:41:41.589750Z",
     "iopub.status.busy": "2021-05-27T03:41:41.588880Z",
     "iopub.status.idle": "2021-05-27T03:41:41.593295Z",
     "shell.execute_reply": "2021-05-27T03:41:41.592688Z",
     "shell.execute_reply.started": "2021-05-27T03:34:18.349883Z"
    },
    "papermill": {
     "duration": 0.164508,
     "end_time": "2021-05-27T03:41:41.593426",
     "exception": false,
     "start_time": "2021-05-27T03:41:41.428918",
     "status": "completed"
    },
    "tags": []
   },
   "outputs": [
    {
     "data": {
      "text/html": [
       "<div>\n",
       "<style scoped>\n",
       "    .dataframe tbody tr th:only-of-type {\n",
       "        vertical-align: middle;\n",
       "    }\n",
       "\n",
       "    .dataframe tbody tr th {\n",
       "        vertical-align: top;\n",
       "    }\n",
       "\n",
       "    .dataframe thead th {\n",
       "        text-align: right;\n",
       "    }\n",
       "</style>\n",
       "<table border=\"1\" class=\"dataframe\">\n",
       "  <thead>\n",
       "    <tr style=\"text-align: right;\">\n",
       "      <th></th>\n",
       "      <th>PassengerId</th>\n",
       "      <th>Survived</th>\n",
       "    </tr>\n",
       "  </thead>\n",
       "  <tbody>\n",
       "    <tr>\n",
       "      <th>0</th>\n",
       "      <td>892</td>\n",
       "      <td>0</td>\n",
       "    </tr>\n",
       "    <tr>\n",
       "      <th>1</th>\n",
       "      <td>893</td>\n",
       "      <td>1</td>\n",
       "    </tr>\n",
       "    <tr>\n",
       "      <th>2</th>\n",
       "      <td>894</td>\n",
       "      <td>0</td>\n",
       "    </tr>\n",
       "    <tr>\n",
       "      <th>3</th>\n",
       "      <td>895</td>\n",
       "      <td>0</td>\n",
       "    </tr>\n",
       "    <tr>\n",
       "      <th>4</th>\n",
       "      <td>896</td>\n",
       "      <td>1</td>\n",
       "    </tr>\n",
       "    <tr>\n",
       "      <th>...</th>\n",
       "      <td>...</td>\n",
       "      <td>...</td>\n",
       "    </tr>\n",
       "    <tr>\n",
       "      <th>413</th>\n",
       "      <td>1305</td>\n",
       "      <td>0</td>\n",
       "    </tr>\n",
       "    <tr>\n",
       "      <th>414</th>\n",
       "      <td>1306</td>\n",
       "      <td>1</td>\n",
       "    </tr>\n",
       "    <tr>\n",
       "      <th>415</th>\n",
       "      <td>1307</td>\n",
       "      <td>0</td>\n",
       "    </tr>\n",
       "    <tr>\n",
       "      <th>416</th>\n",
       "      <td>1308</td>\n",
       "      <td>0</td>\n",
       "    </tr>\n",
       "    <tr>\n",
       "      <th>417</th>\n",
       "      <td>1309</td>\n",
       "      <td>0</td>\n",
       "    </tr>\n",
       "  </tbody>\n",
       "</table>\n",
       "<p>418 rows × 2 columns</p>\n",
       "</div>"
      ],
      "text/plain": [
       "     PassengerId  Survived\n",
       "0            892         0\n",
       "1            893         1\n",
       "2            894         0\n",
       "3            895         0\n",
       "4            896         1\n",
       "..           ...       ...\n",
       "413         1305         0\n",
       "414         1306         1\n",
       "415         1307         0\n",
       "416         1308         0\n",
       "417         1309         0\n",
       "\n",
       "[418 rows x 2 columns]"
      ]
     },
     "execution_count": 96,
     "metadata": {},
     "output_type": "execute_result"
    }
   ],
   "source": [
    "submission"
   ]
  },
  {
   "cell_type": "code",
   "execution_count": 97,
   "id": "impaired-pencil",
   "metadata": {
    "execution": {
     "iopub.execute_input": "2021-05-27T03:41:41.898763Z",
     "iopub.status.busy": "2021-05-27T03:41:41.898164Z",
     "iopub.status.idle": "2021-05-27T03:41:41.899916Z",
     "shell.execute_reply": "2021-05-27T03:41:41.900461Z",
     "shell.execute_reply.started": "2021-05-27T03:34:21.929797Z"
    },
    "papermill": {
     "duration": 0.156498,
     "end_time": "2021-05-27T03:41:41.900618",
     "exception": false,
     "start_time": "2021-05-27T03:41:41.744120",
     "status": "completed"
    },
    "tags": []
   },
   "outputs": [],
   "source": [
    "submission['Survived']=final_pred"
   ]
  },
  {
   "cell_type": "code",
   "execution_count": 98,
   "id": "utility-smart",
   "metadata": {
    "execution": {
     "iopub.execute_input": "2021-05-27T03:41:42.203369Z",
     "iopub.status.busy": "2021-05-27T03:41:42.202779Z",
     "iopub.status.idle": "2021-05-27T03:41:42.212115Z",
     "shell.execute_reply": "2021-05-27T03:41:42.212653Z",
     "shell.execute_reply.started": "2021-05-27T03:34:23.345000Z"
    },
    "papermill": {
     "duration": 0.162836,
     "end_time": "2021-05-27T03:41:42.212840",
     "exception": false,
     "start_time": "2021-05-27T03:41:42.050004",
     "status": "completed"
    },
    "tags": []
   },
   "outputs": [
    {
     "data": {
      "text/html": [
       "<div>\n",
       "<style scoped>\n",
       "    .dataframe tbody tr th:only-of-type {\n",
       "        vertical-align: middle;\n",
       "    }\n",
       "\n",
       "    .dataframe tbody tr th {\n",
       "        vertical-align: top;\n",
       "    }\n",
       "\n",
       "    .dataframe thead th {\n",
       "        text-align: right;\n",
       "    }\n",
       "</style>\n",
       "<table border=\"1\" class=\"dataframe\">\n",
       "  <thead>\n",
       "    <tr style=\"text-align: right;\">\n",
       "      <th></th>\n",
       "      <th>PassengerId</th>\n",
       "      <th>Survived</th>\n",
       "    </tr>\n",
       "  </thead>\n",
       "  <tbody>\n",
       "    <tr>\n",
       "      <th>0</th>\n",
       "      <td>892</td>\n",
       "      <td>0</td>\n",
       "    </tr>\n",
       "    <tr>\n",
       "      <th>1</th>\n",
       "      <td>893</td>\n",
       "      <td>0</td>\n",
       "    </tr>\n",
       "    <tr>\n",
       "      <th>2</th>\n",
       "      <td>894</td>\n",
       "      <td>0</td>\n",
       "    </tr>\n",
       "    <tr>\n",
       "      <th>3</th>\n",
       "      <td>895</td>\n",
       "      <td>0</td>\n",
       "    </tr>\n",
       "    <tr>\n",
       "      <th>4</th>\n",
       "      <td>896</td>\n",
       "      <td>0</td>\n",
       "    </tr>\n",
       "    <tr>\n",
       "      <th>...</th>\n",
       "      <td>...</td>\n",
       "      <td>...</td>\n",
       "    </tr>\n",
       "    <tr>\n",
       "      <th>413</th>\n",
       "      <td>1305</td>\n",
       "      <td>0</td>\n",
       "    </tr>\n",
       "    <tr>\n",
       "      <th>414</th>\n",
       "      <td>1306</td>\n",
       "      <td>1</td>\n",
       "    </tr>\n",
       "    <tr>\n",
       "      <th>415</th>\n",
       "      <td>1307</td>\n",
       "      <td>0</td>\n",
       "    </tr>\n",
       "    <tr>\n",
       "      <th>416</th>\n",
       "      <td>1308</td>\n",
       "      <td>0</td>\n",
       "    </tr>\n",
       "    <tr>\n",
       "      <th>417</th>\n",
       "      <td>1309</td>\n",
       "      <td>0</td>\n",
       "    </tr>\n",
       "  </tbody>\n",
       "</table>\n",
       "<p>418 rows × 2 columns</p>\n",
       "</div>"
      ],
      "text/plain": [
       "     PassengerId  Survived\n",
       "0            892         0\n",
       "1            893         0\n",
       "2            894         0\n",
       "3            895         0\n",
       "4            896         0\n",
       "..           ...       ...\n",
       "413         1305         0\n",
       "414         1306         1\n",
       "415         1307         0\n",
       "416         1308         0\n",
       "417         1309         0\n",
       "\n",
       "[418 rows x 2 columns]"
      ]
     },
     "execution_count": 98,
     "metadata": {},
     "output_type": "execute_result"
    }
   ],
   "source": [
    "submission"
   ]
  },
  {
   "cell_type": "code",
   "execution_count": 99,
   "id": "important-bullet",
   "metadata": {
    "execution": {
     "iopub.execute_input": "2021-05-27T03:41:42.515952Z",
     "iopub.status.busy": "2021-05-27T03:41:42.515330Z",
     "iopub.status.idle": "2021-05-27T03:41:42.523254Z",
     "shell.execute_reply": "2021-05-27T03:41:42.523694Z",
     "shell.execute_reply.started": "2021-05-27T03:34:27.205113Z"
    },
    "papermill": {
     "duration": 0.160857,
     "end_time": "2021-05-27T03:41:42.523862",
     "exception": false,
     "start_time": "2021-05-27T03:41:42.363005",
     "status": "completed"
    },
    "tags": []
   },
   "outputs": [],
   "source": [
    "pd.DataFrame(submission,columns=['PassengerId','Survived']).to_csv('titanic_new.csv',index=False)"
   ]
  },
  {
   "cell_type": "code",
   "execution_count": 100,
   "id": "collaborative-antarctica",
   "metadata": {
    "execution": {
     "iopub.execute_input": "2021-05-27T03:41:42.824060Z",
     "iopub.status.busy": "2021-05-27T03:41:42.823460Z",
     "iopub.status.idle": "2021-05-27T03:41:42.835316Z",
     "shell.execute_reply": "2021-05-27T03:41:42.835871Z",
     "shell.execute_reply.started": "2021-05-27T03:34:28.480035Z"
    },
    "papermill": {
     "duration": 0.163564,
     "end_time": "2021-05-27T03:41:42.836035",
     "exception": false,
     "start_time": "2021-05-27T03:41:42.672471",
     "status": "completed"
    },
    "tags": []
   },
   "outputs": [
    {
     "data": {
      "text/html": [
       "<div>\n",
       "<style scoped>\n",
       "    .dataframe tbody tr th:only-of-type {\n",
       "        vertical-align: middle;\n",
       "    }\n",
       "\n",
       "    .dataframe tbody tr th {\n",
       "        vertical-align: top;\n",
       "    }\n",
       "\n",
       "    .dataframe thead th {\n",
       "        text-align: right;\n",
       "    }\n",
       "</style>\n",
       "<table border=\"1\" class=\"dataframe\">\n",
       "  <thead>\n",
       "    <tr style=\"text-align: right;\">\n",
       "      <th></th>\n",
       "      <th>PassengerId</th>\n",
       "      <th>Survived</th>\n",
       "    </tr>\n",
       "  </thead>\n",
       "  <tbody>\n",
       "    <tr>\n",
       "      <th>0</th>\n",
       "      <td>892</td>\n",
       "      <td>0</td>\n",
       "    </tr>\n",
       "    <tr>\n",
       "      <th>1</th>\n",
       "      <td>893</td>\n",
       "      <td>0</td>\n",
       "    </tr>\n",
       "    <tr>\n",
       "      <th>2</th>\n",
       "      <td>894</td>\n",
       "      <td>0</td>\n",
       "    </tr>\n",
       "    <tr>\n",
       "      <th>3</th>\n",
       "      <td>895</td>\n",
       "      <td>0</td>\n",
       "    </tr>\n",
       "    <tr>\n",
       "      <th>4</th>\n",
       "      <td>896</td>\n",
       "      <td>0</td>\n",
       "    </tr>\n",
       "    <tr>\n",
       "      <th>...</th>\n",
       "      <td>...</td>\n",
       "      <td>...</td>\n",
       "    </tr>\n",
       "    <tr>\n",
       "      <th>413</th>\n",
       "      <td>1305</td>\n",
       "      <td>0</td>\n",
       "    </tr>\n",
       "    <tr>\n",
       "      <th>414</th>\n",
       "      <td>1306</td>\n",
       "      <td>1</td>\n",
       "    </tr>\n",
       "    <tr>\n",
       "      <th>415</th>\n",
       "      <td>1307</td>\n",
       "      <td>0</td>\n",
       "    </tr>\n",
       "    <tr>\n",
       "      <th>416</th>\n",
       "      <td>1308</td>\n",
       "      <td>0</td>\n",
       "    </tr>\n",
       "    <tr>\n",
       "      <th>417</th>\n",
       "      <td>1309</td>\n",
       "      <td>0</td>\n",
       "    </tr>\n",
       "  </tbody>\n",
       "</table>\n",
       "<p>418 rows × 2 columns</p>\n",
       "</div>"
      ],
      "text/plain": [
       "     PassengerId  Survived\n",
       "0            892         0\n",
       "1            893         0\n",
       "2            894         0\n",
       "3            895         0\n",
       "4            896         0\n",
       "..           ...       ...\n",
       "413         1305         0\n",
       "414         1306         1\n",
       "415         1307         0\n",
       "416         1308         0\n",
       "417         1309         0\n",
       "\n",
       "[418 rows x 2 columns]"
      ]
     },
     "execution_count": 100,
     "metadata": {},
     "output_type": "execute_result"
    }
   ],
   "source": [
    "pd.read_csv('titanic_new.csv')"
   ]
  },
  {
   "cell_type": "code",
   "execution_count": null,
   "id": "enabling-narrow",
   "metadata": {
    "papermill": {
     "duration": 0.151001,
     "end_time": "2021-05-27T03:41:43.137359",
     "exception": false,
     "start_time": "2021-05-27T03:41:42.986358",
     "status": "completed"
    },
    "tags": []
   },
   "outputs": [],
   "source": []
  },
  {
   "cell_type": "code",
   "execution_count": null,
   "id": "personal-cable",
   "metadata": {
    "papermill": {
     "duration": 0.149126,
     "end_time": "2021-05-27T03:41:43.436046",
     "exception": false,
     "start_time": "2021-05-27T03:41:43.286920",
     "status": "completed"
    },
    "tags": []
   },
   "outputs": [],
   "source": []
  }
 ],
 "metadata": {
  "kernelspec": {
   "display_name": "Python 3",
   "language": "python",
   "name": "python3"
  },
  "language_info": {
   "codemirror_mode": {
    "name": "ipython",
    "version": 3
   },
   "file_extension": ".py",
   "mimetype": "text/x-python",
   "name": "python",
   "nbconvert_exporter": "python",
   "pygments_lexer": "ipython3",
   "version": "3.7.10"
  },
  "papermill": {
   "default_parameters": {},
   "duration": 106.200144,
   "end_time": "2021-05-27T03:41:45.477104",
   "environment_variables": {},
   "exception": null,
   "input_path": "__notebook__.ipynb",
   "output_path": "__notebook__.ipynb",
   "parameters": {},
   "start_time": "2021-05-27T03:39:59.276960",
   "version": "2.3.3"
  }
 },
 "nbformat": 4,
 "nbformat_minor": 5
}
